{
 "cells": [
  {
   "cell_type": "markdown",
   "metadata": {},
   "source": [
    "[Predicting the Baseball World Series Champion](https://ocw.mit.edu/courses/sloan-school-of-management/15-071-the-analytics-edge-spring-2017/logistic-regression/assignment-3/predicting-the-baseball-world-series-champion/)"
   ]
  },
  {
   "cell_type": "markdown",
   "metadata": {},
   "source": [
    "#### Last week, in the Moneyball lecture, we discussed how regular season performance is not strongly correlated with winning the World Series in baseball. In this homework question, we'll use the same data to investigate how well we can predict the World Series winner at the beginning of the playoffs. To begin, load the dataset baseball (CSV) into R using the read.csv function, and call the data frame \"baseball\". This is the same data file we used during the Moneyball lecture, and the data comes from Baseball-Reference.com.\n",
    "#### As a reminder, this dataset contains data concerning a baseball team's performance in a given year. It has the following variables:\n",
    "- <font color='red'>Team: A code for the name of the team</font><br>\n",
    "- <font color='red'>League: The Major League Baseball league the team belongs to, either AL (American League) or NL (National League)</font><br>\n",
    "- <font color='red'>Year: The year of the corresponding record</font><br>\n",
    "- <font color='red'>RS: The number of runs scored by the team in that year</font><br>\n",
    "- <font color='red'>RA: The number of runs allowed by the team in that year</font><br>\n",
    "- <font color='red'>W: The number of regular season wins by the team in that year</font><br>\n",
    "- <font color='red'>OBP: The on-base percentage of the team in that year</font><br>\n",
    "- <font color='red'>SLG: The slugging percentage of the team in that year</font><br>\n",
    "- <font color='red'>BA: The batting average of the team in that year</font><br>\n",
    "- <font color='red'>Playoffs: Whether the team made the playoffs in that year (1 for yes, 0 for no)</font><br>\n",
    "- <font color='red'>RankSeason: Among the playoff teams in that year, the ranking of their regular season records (1 is best)</font><br>\n",
    "- <font color='red'>RankPlayoffs: Among the playoff teams in that year, how well they fared in the playoffs. The team winning the World Series gets a RankPlayoffs of 1.</font><br>\n",
    "- <font color='red'>G: The number of games a team played in that year</font><br>\n",
    "- <font color='red'>OOBP: The team's opponents' on-base percentage in that year</font><br>\n",
    "- <font color='red'>OSLG: The team's opponents' slugging percentage in that year</font><br>"
   ]
  },
  {
   "cell_type": "markdown",
   "metadata": {},
   "source": [
    "# Problem 1.1 - Limiting to Teams Making the Playoffs\n",
    "#### Each row in the baseball dataset represents a team in a particular year.\n",
    "#### How many team/year pairs are there in the whole dataset?"
   ]
  },
  {
   "cell_type": "code",
   "execution_count": 1,
   "metadata": {
    "scrolled": true
   },
   "outputs": [
    {
     "name": "stdout",
     "output_type": "stream",
     "text": [
      "'data.frame':\t1232 obs. of  15 variables:\n",
      " $ Team        : Factor w/ 39 levels \"ANA\",\"ARI\",\"ATL\",..: 2 3 4 5 7 8 9 10 11 12 ...\n",
      " $ League      : Factor w/ 2 levels \"AL\",\"NL\": 2 2 1 1 2 1 2 1 2 1 ...\n",
      " $ Year        : int  2012 2012 2012 2012 2012 2012 2012 2012 2012 2012 ...\n",
      " $ RS          : int  734 700 712 734 613 748 669 667 758 726 ...\n",
      " $ RA          : int  688 600 705 806 759 676 588 845 890 670 ...\n",
      " $ W           : int  81 94 93 69 61 85 97 68 64 88 ...\n",
      " $ OBP         : num  0.328 0.32 0.311 0.315 0.302 0.318 0.315 0.324 0.33 0.335 ...\n",
      " $ SLG         : num  0.418 0.389 0.417 0.415 0.378 0.422 0.411 0.381 0.436 0.422 ...\n",
      " $ BA          : num  0.259 0.247 0.247 0.26 0.24 0.255 0.251 0.251 0.274 0.268 ...\n",
      " $ Playoffs    : int  0 1 1 0 0 0 1 0 0 1 ...\n",
      " $ RankSeason  : int  NA 4 5 NA NA NA 2 NA NA 6 ...\n",
      " $ RankPlayoffs: int  NA 5 4 NA NA NA 4 NA NA 2 ...\n",
      " $ G           : int  162 162 162 162 162 162 162 162 162 162 ...\n",
      " $ OOBP        : num  0.317 0.306 0.315 0.331 0.335 0.319 0.305 0.336 0.357 0.314 ...\n",
      " $ OSLG        : num  0.415 0.378 0.403 0.428 0.424 0.405 0.39 0.43 0.47 0.402 ...\n"
     ]
    }
   ],
   "source": [
    "baseball <- read.csv(\"../data/baseball.csv\")\n",
    "str(baseball)"
   ]
  },
  {
   "cell_type": "markdown",
   "metadata": {},
   "source": [
    "# Problem 1.2 - Limiting to Teams Making the Playoffs\n",
    "#### Though the dataset contains data from 1962 until 2012, we removed several years with shorter-than-usual seasons. Using the table() function, identify the total number of years included in this dataset."
   ]
  },
  {
   "cell_type": "code",
   "execution_count": 2,
   "metadata": {},
   "outputs": [
    {
     "data": {
      "text/html": [
       "47"
      ],
      "text/latex": [
       "47"
      ],
      "text/markdown": [
       "47"
      ],
      "text/plain": [
       "[1] 47"
      ]
     },
     "metadata": {},
     "output_type": "display_data"
    }
   ],
   "source": [
    "length(table(baseball$Year))"
   ]
  },
  {
   "cell_type": "markdown",
   "metadata": {},
   "source": [
    "# Problem 1.3 - Limiting to Teams Making the Playoffs\n",
    "#### Because we're only analyzing teams that made the playoffs, use the subset() function to replace baseball with a data frame limited to teams that made the playoffs (so your subsetted data frame should still be called \"baseball\"). How many team/year pairs are included in the new dataset?"
   ]
  },
  {
   "cell_type": "code",
   "execution_count": 3,
   "metadata": {},
   "outputs": [
    {
     "name": "stdout",
     "output_type": "stream",
     "text": [
      "'data.frame':\t244 obs. of  15 variables:\n",
      " $ Team        : Factor w/ 39 levels \"ANA\",\"ARI\",\"ATL\",..: 3 4 9 12 25 26 32 33 36 39 ...\n",
      " $ League      : Factor w/ 2 levels \"AL\",\"NL\": 2 1 2 1 1 1 2 2 1 2 ...\n",
      " $ Year        : int  2012 2012 2012 2012 2012 2012 2012 2012 2012 2012 ...\n",
      " $ RS          : int  700 712 669 726 804 713 718 765 808 731 ...\n",
      " $ RA          : int  600 705 588 670 668 614 649 648 707 594 ...\n",
      " $ W           : int  94 93 97 88 95 94 94 88 93 98 ...\n",
      " $ OBP         : num  0.32 0.311 0.315 0.335 0.337 0.31 0.327 0.338 0.334 0.322 ...\n",
      " $ SLG         : num  0.389 0.417 0.411 0.422 0.453 0.404 0.397 0.421 0.446 0.428 ...\n",
      " $ BA          : num  0.247 0.247 0.251 0.268 0.265 0.238 0.269 0.271 0.273 0.261 ...\n",
      " $ Playoffs    : int  1 1 1 1 1 1 1 1 1 1 ...\n",
      " $ RankSeason  : int  4 5 2 6 3 4 4 6 5 1 ...\n",
      " $ RankPlayoffs: int  5 4 4 2 3 4 1 3 5 4 ...\n",
      " $ G           : int  162 162 162 162 162 162 162 162 162 162 ...\n",
      " $ OOBP        : num  0.306 0.315 0.305 0.314 0.311 0.306 0.313 0.313 0.309 0.303 ...\n",
      " $ OSLG        : num  0.378 0.403 0.39 0.402 0.419 0.378 0.393 0.387 0.408 0.373 ...\n"
     ]
    }
   ],
   "source": [
    "baseball <- subset(baseball, Playoffs == 1)\n",
    "str(baseball)"
   ]
  },
  {
   "cell_type": "markdown",
   "metadata": {},
   "source": [
    "# Problem 1.4 - Limiting to Teams Making the Playoffs\n",
    "#### Through the years, different numbers of teams have been invited to the playoffs. Which of the following has been the number of teams making the playoffs in some season? Select all that apply.\n",
    "- <font color='red'>2</font><br>\n",
    "- <font color='red'>4</font><br>\n",
    "- <font color='red'>6</font><br>\n",
    "- <font color='red'>8</font><br>\n",
    "- <font color='red'>10</font><br>\n",
    "- <font color='red'>12</font><br>"
   ]
  },
  {
   "cell_type": "code",
   "execution_count": 4,
   "metadata": {},
   "outputs": [
    {
     "data": {
      "text/html": [
       "<ol class=list-inline>\n",
       "\t<li>2</li>\n",
       "\t<li>4</li>\n",
       "\t<li>8</li>\n",
       "\t<li>10</li>\n",
       "</ol>\n"
      ],
      "text/latex": [
       "\\begin{enumerate*}\n",
       "\\item 2\n",
       "\\item 4\n",
       "\\item 8\n",
       "\\item 10\n",
       "\\end{enumerate*}\n"
      ],
      "text/markdown": [
       "1. 2\n",
       "2. 4\n",
       "3. 8\n",
       "4. 10\n",
       "\n",
       "\n"
      ],
      "text/plain": [
       "[1]  2  4  8 10"
      ]
     },
     "metadata": {},
     "output_type": "display_data"
    }
   ],
   "source": [
    "unique(table(baseball$Year))"
   ]
  },
  {
   "cell_type": "markdown",
   "metadata": {},
   "source": [
    "# Problem 2.1 - Adding an Important Predictor\n",
    "#### It's much harder to win the World Series if there are 10 teams competing for the championship versus just two. Therefore, we will add the predictor variable NumCompetitors to the baseball data frame. NumCompetitors will contain the number of total teams making the playoffs in the year of a particular team/year pair. For instance, NumCompetitors should be 2 for the 1962 New York Yankees, but it should be 8 for the 1998 Boston Red Sox.\n",
    "#### We start by storing the output of the table() function that counts the number of playoff teams from each year:\n",
    "#### PlayoffTable = table(baseball$Year)\n",
    "#### You can output the table with the following command: PlayoffTable\n",
    "#### We will use this stored table to look up the number of teams in the playoffs in the year of each team/year pair.\n",
    "#### Just as we can use the names() function to get the names of a data frame's columns, we can use it to get the names of the entries in a table. What best describes the output of names(PlayoffTable)?\n",
    "- <font color='red'>Vector of years stored as numbers (type num)</font><br>\n",
    "- <font color='red'>Vector of years stored as strings (type chr)</font> # correct <br>\n",
    "- <font color='red'>Vector of frequencies stored as numbers (type num)</font><br>\n",
    "- <font color='red'>Vector of frequencies stored as strings (type chr)</font><br>"
   ]
  },
  {
   "cell_type": "code",
   "execution_count": 5,
   "metadata": {},
   "outputs": [
    {
     "data": {
      "text/html": [
       "<ol class=list-inline>\n",
       "\t<li>'1962'</li>\n",
       "\t<li>'1963'</li>\n",
       "\t<li>'1964'</li>\n",
       "\t<li>'1965'</li>\n",
       "\t<li>'1966'</li>\n",
       "\t<li>'1967'</li>\n",
       "\t<li>'1968'</li>\n",
       "\t<li>'1969'</li>\n",
       "\t<li>'1970'</li>\n",
       "\t<li>'1971'</li>\n",
       "\t<li>'1973'</li>\n",
       "\t<li>'1974'</li>\n",
       "\t<li>'1975'</li>\n",
       "\t<li>'1976'</li>\n",
       "\t<li>'1977'</li>\n",
       "\t<li>'1978'</li>\n",
       "\t<li>'1979'</li>\n",
       "\t<li>'1980'</li>\n",
       "\t<li>'1982'</li>\n",
       "\t<li>'1983'</li>\n",
       "\t<li>'1984'</li>\n",
       "\t<li>'1985'</li>\n",
       "\t<li>'1986'</li>\n",
       "\t<li>'1987'</li>\n",
       "\t<li>'1988'</li>\n",
       "\t<li>'1989'</li>\n",
       "\t<li>'1990'</li>\n",
       "\t<li>'1991'</li>\n",
       "\t<li>'1992'</li>\n",
       "\t<li>'1993'</li>\n",
       "\t<li>'1996'</li>\n",
       "\t<li>'1997'</li>\n",
       "\t<li>'1998'</li>\n",
       "\t<li>'1999'</li>\n",
       "\t<li>'2000'</li>\n",
       "\t<li>'2001'</li>\n",
       "\t<li>'2002'</li>\n",
       "\t<li>'2003'</li>\n",
       "\t<li>'2004'</li>\n",
       "\t<li>'2005'</li>\n",
       "\t<li>'2006'</li>\n",
       "\t<li>'2007'</li>\n",
       "\t<li>'2008'</li>\n",
       "\t<li>'2009'</li>\n",
       "\t<li>'2010'</li>\n",
       "\t<li>'2011'</li>\n",
       "\t<li>'2012'</li>\n",
       "</ol>\n"
      ],
      "text/latex": [
       "\\begin{enumerate*}\n",
       "\\item '1962'\n",
       "\\item '1963'\n",
       "\\item '1964'\n",
       "\\item '1965'\n",
       "\\item '1966'\n",
       "\\item '1967'\n",
       "\\item '1968'\n",
       "\\item '1969'\n",
       "\\item '1970'\n",
       "\\item '1971'\n",
       "\\item '1973'\n",
       "\\item '1974'\n",
       "\\item '1975'\n",
       "\\item '1976'\n",
       "\\item '1977'\n",
       "\\item '1978'\n",
       "\\item '1979'\n",
       "\\item '1980'\n",
       "\\item '1982'\n",
       "\\item '1983'\n",
       "\\item '1984'\n",
       "\\item '1985'\n",
       "\\item '1986'\n",
       "\\item '1987'\n",
       "\\item '1988'\n",
       "\\item '1989'\n",
       "\\item '1990'\n",
       "\\item '1991'\n",
       "\\item '1992'\n",
       "\\item '1993'\n",
       "\\item '1996'\n",
       "\\item '1997'\n",
       "\\item '1998'\n",
       "\\item '1999'\n",
       "\\item '2000'\n",
       "\\item '2001'\n",
       "\\item '2002'\n",
       "\\item '2003'\n",
       "\\item '2004'\n",
       "\\item '2005'\n",
       "\\item '2006'\n",
       "\\item '2007'\n",
       "\\item '2008'\n",
       "\\item '2009'\n",
       "\\item '2010'\n",
       "\\item '2011'\n",
       "\\item '2012'\n",
       "\\end{enumerate*}\n"
      ],
      "text/markdown": [
       "1. '1962'\n",
       "2. '1963'\n",
       "3. '1964'\n",
       "4. '1965'\n",
       "5. '1966'\n",
       "6. '1967'\n",
       "7. '1968'\n",
       "8. '1969'\n",
       "9. '1970'\n",
       "10. '1971'\n",
       "11. '1973'\n",
       "12. '1974'\n",
       "13. '1975'\n",
       "14. '1976'\n",
       "15. '1977'\n",
       "16. '1978'\n",
       "17. '1979'\n",
       "18. '1980'\n",
       "19. '1982'\n",
       "20. '1983'\n",
       "21. '1984'\n",
       "22. '1985'\n",
       "23. '1986'\n",
       "24. '1987'\n",
       "25. '1988'\n",
       "26. '1989'\n",
       "27. '1990'\n",
       "28. '1991'\n",
       "29. '1992'\n",
       "30. '1993'\n",
       "31. '1996'\n",
       "32. '1997'\n",
       "33. '1998'\n",
       "34. '1999'\n",
       "35. '2000'\n",
       "36. '2001'\n",
       "37. '2002'\n",
       "38. '2003'\n",
       "39. '2004'\n",
       "40. '2005'\n",
       "41. '2006'\n",
       "42. '2007'\n",
       "43. '2008'\n",
       "44. '2009'\n",
       "45. '2010'\n",
       "46. '2011'\n",
       "47. '2012'\n",
       "\n",
       "\n"
      ],
      "text/plain": [
       " [1] \"1962\" \"1963\" \"1964\" \"1965\" \"1966\" \"1967\" \"1968\" \"1969\" \"1970\" \"1971\"\n",
       "[11] \"1973\" \"1974\" \"1975\" \"1976\" \"1977\" \"1978\" \"1979\" \"1980\" \"1982\" \"1983\"\n",
       "[21] \"1984\" \"1985\" \"1986\" \"1987\" \"1988\" \"1989\" \"1990\" \"1991\" \"1992\" \"1993\"\n",
       "[31] \"1996\" \"1997\" \"1998\" \"1999\" \"2000\" \"2001\" \"2002\" \"2003\" \"2004\" \"2005\"\n",
       "[41] \"2006\" \"2007\" \"2008\" \"2009\" \"2010\" \"2011\" \"2012\""
      ]
     },
     "metadata": {},
     "output_type": "display_data"
    }
   ],
   "source": [
    "PlayoffTable = table(baseball$Year)\n",
    "names(PlayoffTable)"
   ]
  },
  {
   "cell_type": "markdown",
   "metadata": {},
   "source": [
    "# Problem 2.2 - Adding an Important Predictor\n",
    "#### Given a vector of names, the table will return a vector of frequencies. Which function call returns the number of playoff teams in 1990 and 2001? (HINT: If you are not sure how these commands work, go ahead and try them out in your R console!)\n",
    "- <font color='red'>PlayoffTable(1990, 2001)</font><br>\n",
    "- <font color='red'>PlayoffTable(c(1990, 2001))</font><br>\n",
    "- <font color='red'>PlayoffTable(\"1990\", \"2001\")</font><br>\n",
    "- <font color='red'>PlayoffTable(c(\"1990\", \"2001\"))</font><br>\n",
    "- <font color='red'>PlayoffTable[1990, 2001]</font><br>\n",
    "- <font color='red'>PlayoffTable[c(1990, 2001)]</font><br>\n",
    "- <font color='red'>PlayoffTable[\"1990\", \"2001\"]</font><br>\n",
    "- <font color='red'>PlayoffTable[c(\"1990\", \"2001\")]</font><br>"
   ]
  },
  {
   "cell_type": "code",
   "execution_count": 6,
   "metadata": {},
   "outputs": [
    {
     "data": {
      "text/plain": [
       "\n",
       "1990 2001 \n",
       "   4    8 "
      ]
     },
     "metadata": {},
     "output_type": "display_data"
    }
   ],
   "source": [
    "PlayoffTable[c(\"1990\", \"2001\")]"
   ]
  },
  {
   "cell_type": "markdown",
   "metadata": {},
   "source": [
    "# Problem 2.3 - Adding an Important Predictor\n",
    "#### Putting it all together, we want to look up the number of teams in the playoffs for each team/year pair in the dataset, and store it as a new variable named NumCompetitors in the baseball data frame. While of the following function calls accomplishes this? (HINT: Test out the functions if you are not sure what they do.)\n",
    "- <font color='red'>baseball\\\\$NumCompetitors = PlayoffTable(baseball\\\\$Year)</font><br>\n",
    "- <font color='red'>baseball\\\\$NumCompetitors = PlayoffTable[baseball\\\\$Year]</font><br>\n",
    "- <font color='red'>baseball\\\\$NumCompetitors = PlayoffTable(as.character(baseball\\\\$Year))</font><br>\n",
    "- <font color='red'>baseball\\\\$NumCompetitors = PlayoffTable[as.character(baseball\\\\$Year)]</font> # Correct<br>"
   ]
  },
  {
   "cell_type": "code",
   "execution_count": 7,
   "metadata": {},
   "outputs": [
    {
     "data": {
      "text/plain": [
       "\n",
       "2012 2012 2012 2012 2012 2012 2012 2012 2012 2012 2011 2011 2011 2011 2011 2011 \n",
       "  10   10   10   10   10   10   10   10   10   10    8    8    8    8    8    8 \n",
       "2011 2011 2010 2010 2010 2010 2010 2010 2010 2010 2009 2009 2009 2009 2009 2009 \n",
       "   8    8    8    8    8    8    8    8    8    8    8    8    8    8    8    8 \n",
       "2009 2009 2008 2008 2008 2008 2008 2008 2008 2008 2007 2007 2007 2007 2007 2007 \n",
       "   8    8    8    8    8    8    8    8    8    8    8    8    8    8    8    8 \n",
       "2007 2007 2006 2006 2006 2006 2006 2006 2006 2006 2005 2005 2005 2005 2005 2005 \n",
       "   8    8    8    8    8    8    8    8    8    8    8    8    8    8    8    8 \n",
       "2005 2005 2004 2004 2004 2004 2004 2004 2004 2004 2003 2003 2003 2003 2003 2003 \n",
       "   8    8    8    8    8    8    8    8    8    8    8    8    8    8    8    8 \n",
       "2003 2003 2002 2002 2002 2002 2002 2002 2002 2002 2001 2001 2001 2001 2001 2001 \n",
       "   8    8    8    8    8    8    8    8    8    8    8    8    8    8    8    8 \n",
       "2001 2001 2000 2000 2000 2000 2000 2000 2000 2000 1999 1999 1999 1999 1999 1999 \n",
       "   8    8    8    8    8    8    8    8    8    8    8    8    8    8    8    8 \n",
       "1999 1999 1998 1998 1998 1998 1998 1998 1998 1998 1997 1997 1997 1997 1997 1997 \n",
       "   8    8    8    8    8    8    8    8    8    8    8    8    8    8    8    8 \n",
       "1997 1997 1996 1996 1996 1996 1996 1996 1996 1996 1993 1993 1993 1993 1992 1992 \n",
       "   8    8    8    8    8    8    8    8    8    8    4    4    4    4    4    4 \n",
       "1992 1992 1991 1991 1991 1991 1990 1990 1990 1990 1989 1989 1989 1989 1988 1988 \n",
       "   4    4    4    4    4    4    4    4    4    4    4    4    4    4    4    4 \n",
       "1988 1988 1987 1987 1987 1987 1986 1986 1986 1986 1985 1985 1985 1985 1984 1984 \n",
       "   4    4    4    4    4    4    4    4    4    4    4    4    4    4    4    4 \n",
       "1984 1984 1983 1983 1983 1983 1982 1982 1982 1982 1980 1980 1980 1980 1979 1979 \n",
       "   4    4    4    4    4    4    4    4    4    4    4    4    4    4    4    4 \n",
       "1979 1979 1978 1978 1978 1978 1977 1977 1977 1977 1976 1976 1976 1976 1975 1975 \n",
       "   4    4    4    4    4    4    4    4    4    4    4    4    4    4    4    4 \n",
       "1975 1975 1974 1974 1974 1974 1973 1973 1973 1973 1971 1971 1971 1971 1970 1970 \n",
       "   4    4    4    4    4    4    4    4    4    4    4    4    4    4    4    4 \n",
       "1970 1970 1969 1969 1969 1969 1968 1968 1967 1967 1966 1966 1965 1965 1964 1964 \n",
       "   4    4    4    4    4    4    2    2    2    2    2    2    2    2    2    2 \n",
       "1963 1963 1962 1962 \n",
       "   2    2    2    2 "
      ]
     },
     "metadata": {},
     "output_type": "display_data"
    }
   ],
   "source": [
    "(NumCompetitors = PlayoffTable[as.character(baseball$Year)])"
   ]
  },
  {
   "cell_type": "markdown",
   "metadata": {},
   "source": [
    "# Problem 2.4 - Adding an Important Predictor\n",
    "#### Add the NumCompetitors variable to your baseball data frame. How many playoff team/year pairs are there in our dataset from years where 8 teams were invited to the playoffs?"
   ]
  },
  {
   "cell_type": "code",
   "execution_count": 8,
   "metadata": {},
   "outputs": [
    {
     "name": "stdout",
     "output_type": "stream",
     "text": [
      "'data.frame':\t128 obs. of  16 variables:\n",
      " $ Team          : Factor w/ 39 levels \"ANA\",\"ARI\",\"ATL\",..: 2 12 20 25 27 33 35 36 3 9 ...\n",
      " $ League        : Factor w/ 2 levels \"AL\",\"NL\": 2 1 2 1 2 2 1 1 2 2 ...\n",
      " $ Year          : int  2011 2011 2011 2011 2011 2011 2011 2011 2010 2010 ...\n",
      " $ RS            : int  731 787 721 867 713 762 707 855 738 790 ...\n",
      " $ RA            : int  662 711 638 657 529 692 614 677 629 685 ...\n",
      " $ W             : int  94 95 96 97 102 90 91 96 91 91 ...\n",
      " $ OBP           : num  0.322 0.34 0.325 0.343 0.323 0.341 0.322 0.34 0.339 0.338 ...\n",
      " $ SLG           : num  0.413 0.434 0.425 0.444 0.395 0.425 0.402 0.46 0.401 0.436 ...\n",
      " $ BA            : num  0.25 0.277 0.261 0.263 0.253 0.273 0.244 0.283 0.258 0.272 ...\n",
      " $ Playoffs      : int  1 1 1 1 1 1 1 1 1 1 ...\n",
      " $ RankSeason    : int  5 4 3 2 1 7 6 3 6 6 ...\n",
      " $ RankPlayoffs  : int  4 3 3 4 4 1 4 2 4 4 ...\n",
      " $ G             : int  162 162 162 162 162 162 162 162 162 162 ...\n",
      " $ OOBP          : num  0.316 0.321 0.304 0.322 0.296 0.319 0.303 0.307 0.314 0.323 ...\n",
      " $ OSLG          : num  0.409 0.396 0.385 0.399 0.361 0.398 0.383 0.392 0.376 0.396 ...\n",
      " $ NumCompetitors: 'table' int [1:128(1d)] 8 8 8 8 8 8 8 8 8 8 ...\n"
     ]
    }
   ],
   "source": [
    "baseball$NumCompetitors  <- NumCompetitors\n",
    "a = subset(baseball, NumCompetitors == 8)\n",
    "str(a)"
   ]
  },
  {
   "cell_type": "markdown",
   "metadata": {},
   "source": [
    "# Problem 3.1 - Bivariate Models for Predicting World Series Winner\n",
    "#### In this problem, we seek to predict whether a team won the World Series; in our dataset this is denoted with a RankPlayoffs value of 1. Add a variable named WorldSeries to the baseball data frame, by typing the following command in your R console:\n",
    "#### baseball\\\\$WorldSeries = as.numeric(baseball\\\\$RankPlayoffs == 1)\n",
    "#### WorldSeries takes value 1 if a team won the World Series in the indicated year and a 0 otherwise. How many observations do we have in our dataset where a team did NOT win the World Series?"
   ]
  },
  {
   "cell_type": "code",
   "execution_count": 9,
   "metadata": {},
   "outputs": [
    {
     "data": {
      "text/plain": [
       "\n",
       "  0   1 \n",
       "197  47 "
      ]
     },
     "metadata": {},
     "output_type": "display_data"
    }
   ],
   "source": [
    "baseball$WorldSeries  <-  as.numeric(baseball$RankPlayoffs == 1)\n",
    "table(baseball$WorldSeries)"
   ]
  },
  {
   "cell_type": "markdown",
   "metadata": {},
   "source": [
    "# Problem 3.2 - Bivariate Models for Predicting World Series Winner\n",
    "#### When we're not sure which of our variables are useful in predicting a particular outcome, it's often helpful to build bivariate models, which are models that predict the outcome using a single independent variable. Which of the following variables is a significant predictor of the WorldSeries variable in a bivariate logistic regression model? To determine significance, remember to look at the stars in the summary output of the model. We'll define an independent variable as significant if there is at least one star at the end of the coefficients row for that variable (this is equivalent to the probability column having a value smaller than 0.05). Note that you have to build 12 models to answer this question! Use the entire dataset baseball to build the models. (Select all that apply.)\n",
    "- <font color='red'>Year</font> # Correct <br>\n",
    "- <font color='red'>RS</font><br>\n",
    "- <font color='red'>RA</font> # Correct <br>\n",
    "- <font color='red'>W</font><br>\n",
    "- <font color='red'>OBP</font><br>\n",
    "- <font color='red'>SLG</font><br>\n",
    "- <font color='red'>BA</font><br>\n",
    "- <font color='red'>RankSeason</font> # Correct <br>\n",
    "- <font color='red'>OOBP</font><br>\n",
    "- <font color='red'>OSLG</font><br>\n",
    "- <font color='red'>NumCompetitors</font> # Correct <br>\n",
    "- <font color='red'>League</font><br>"
   ]
  },
  {
   "cell_type": "code",
   "execution_count": 10,
   "metadata": {},
   "outputs": [
    {
     "data": {
      "text/html": [
       "<ol class=list-inline>\n",
       "\t<li>'Team'</li>\n",
       "\t<li>'League'</li>\n",
       "\t<li>'Year'</li>\n",
       "\t<li>'RS'</li>\n",
       "\t<li>'RA'</li>\n",
       "\t<li>'W'</li>\n",
       "\t<li>'OBP'</li>\n",
       "\t<li>'SLG'</li>\n",
       "\t<li>'BA'</li>\n",
       "\t<li>'Playoffs'</li>\n",
       "\t<li>'RankSeason'</li>\n",
       "\t<li>'RankPlayoffs'</li>\n",
       "\t<li>'G'</li>\n",
       "\t<li>'OOBP'</li>\n",
       "\t<li>'OSLG'</li>\n",
       "\t<li>'NumCompetitors'</li>\n",
       "\t<li>'WorldSeries'</li>\n",
       "</ol>\n"
      ],
      "text/latex": [
       "\\begin{enumerate*}\n",
       "\\item 'Team'\n",
       "\\item 'League'\n",
       "\\item 'Year'\n",
       "\\item 'RS'\n",
       "\\item 'RA'\n",
       "\\item 'W'\n",
       "\\item 'OBP'\n",
       "\\item 'SLG'\n",
       "\\item 'BA'\n",
       "\\item 'Playoffs'\n",
       "\\item 'RankSeason'\n",
       "\\item 'RankPlayoffs'\n",
       "\\item 'G'\n",
       "\\item 'OOBP'\n",
       "\\item 'OSLG'\n",
       "\\item 'NumCompetitors'\n",
       "\\item 'WorldSeries'\n",
       "\\end{enumerate*}\n"
      ],
      "text/markdown": [
       "1. 'Team'\n",
       "2. 'League'\n",
       "3. 'Year'\n",
       "4. 'RS'\n",
       "5. 'RA'\n",
       "6. 'W'\n",
       "7. 'OBP'\n",
       "8. 'SLG'\n",
       "9. 'BA'\n",
       "10. 'Playoffs'\n",
       "11. 'RankSeason'\n",
       "12. 'RankPlayoffs'\n",
       "13. 'G'\n",
       "14. 'OOBP'\n",
       "15. 'OSLG'\n",
       "16. 'NumCompetitors'\n",
       "17. 'WorldSeries'\n",
       "\n",
       "\n"
      ],
      "text/plain": [
       " [1] \"Team\"           \"League\"         \"Year\"           \"RS\"            \n",
       " [5] \"RA\"             \"W\"              \"OBP\"            \"SLG\"           \n",
       " [9] \"BA\"             \"Playoffs\"       \"RankSeason\"     \"RankPlayoffs\"  \n",
       "[13] \"G\"              \"OOBP\"           \"OSLG\"           \"NumCompetitors\"\n",
       "[17] \"WorldSeries\"   "
      ]
     },
     "metadata": {},
     "output_type": "display_data"
    }
   ],
   "source": [
    "colnames(baseball)"
   ]
  },
  {
   "cell_type": "code",
   "execution_count": 11,
   "metadata": {},
   "outputs": [
    {
     "name": "stderr",
     "output_type": "stream",
     "text": [
      "Warning message:\n",
      "“glm.fit: algorithm did not converge”Warning message:\n",
      "“glm.fit: fitted probabilities numerically 0 or 1 occurred”"
     ]
    }
   ],
   "source": [
    "m1  <- glm(WorldSeries ~ Team, data = baseball, family = \"binomial\")\n",
    "m2  <- glm(WorldSeries ~ League, data = baseball, family = \"binomial\")\n",
    "m3  <- glm(WorldSeries ~ Year, data = baseball, family = \"binomial\")\n",
    "m4  <- glm(WorldSeries ~ OSLG, data = baseball, family = \"binomial\")\n",
    "m5  <- glm(WorldSeries ~ RS, data = baseball, family = \"binomial\")\n",
    "m6  <- glm(WorldSeries ~ RA, data = baseball, family = \"binomial\")\n",
    "m7  <- glm(WorldSeries ~ W, data = baseball, family = \"binomial\")\n",
    "m8  <- glm(WorldSeries ~ OBP, data = baseball, family = \"binomial\")\n",
    "m9  <- glm(WorldSeries ~ SLG, data = baseball, family = \"binomial\")\n",
    "m10  <- glm(WorldSeries ~ BA, data = baseball, family = \"binomial\")\n",
    "m11  <- glm(WorldSeries ~ Playoffs, data = baseball, family = \"binomial\")\n",
    "m12  <- glm(WorldSeries ~ RankSeason, data = baseball, family = \"binomial\")\n",
    "m13  <- glm(WorldSeries ~ RankPlayoffs, data = baseball, family = \"binomial\")\n",
    "m14  <- glm(WorldSeries ~ G, data = baseball, family = \"binomial\")\n",
    "m15  <- glm(WorldSeries ~ OOBP, data = baseball, family = \"binomial\")\n",
    "m16  <- glm(WorldSeries ~ NumCompetitors, data = baseball, family = \"binomial\")"
   ]
  },
  {
   "cell_type": "markdown",
   "metadata": {},
   "source": [
    "# Problem 4.1 - Multivariate Models for Predicting World Series Winner\n",
    "#### In this section, we'll consider multivariate models that combine the variables we found to be significant in bivariate models. Build a model using all of the variables that you found to be significant in the bivariate models. How many variables are significant in the combined model?"
   ]
  },
  {
   "cell_type": "code",
   "execution_count": 12,
   "metadata": {},
   "outputs": [
    {
     "data": {
      "text/plain": [
       "\n",
       "Call:\n",
       "glm(formula = WorldSeries ~ Year + RA + RankSeason + NumCompetitors, \n",
       "    family = binomial, data = baseball)\n",
       "\n",
       "Deviance Residuals: \n",
       "    Min       1Q   Median       3Q      Max  \n",
       "-1.0336  -0.7689  -0.5139  -0.4583   2.2195  \n",
       "\n",
       "Coefficients:\n",
       "                 Estimate Std. Error z value Pr(>|z|)\n",
       "(Intercept)    12.5874376 53.6474210   0.235    0.814\n",
       "Year           -0.0061425  0.0274665  -0.224    0.823\n",
       "RA             -0.0008238  0.0027391  -0.301    0.764\n",
       "RankSeason     -0.0685046  0.1203459  -0.569    0.569\n",
       "NumCompetitors -0.1794264  0.1815933  -0.988    0.323\n",
       "\n",
       "(Dispersion parameter for binomial family taken to be 1)\n",
       "\n",
       "    Null deviance: 239.12  on 243  degrees of freedom\n",
       "Residual deviance: 226.37  on 239  degrees of freedom\n",
       "AIC: 236.37\n",
       "\n",
       "Number of Fisher Scoring iterations: 4\n"
      ]
     },
     "metadata": {},
     "output_type": "display_data"
    }
   ],
   "source": [
    "f_model  <- glm(WorldSeries ~ Year + RA + RankSeason + NumCompetitors, data=baseball, family = binomial)\n",
    "summary(f_model)"
   ]
  },
  {
   "cell_type": "markdown",
   "metadata": {},
   "source": [
    "# Problem 4.2 - Multivariate Models for Predicting World Series Winner\n",
    "#### Often, variables that were significant in bivariate models are no longer significant in multivariate analysis due to correlation between the variables. Which of the following variable pairs have a high degree of correlation (a correlation greater than 0.8 or less than -0.8)? Select all that apply.\n",
    "- <font color='red'>Year/RA</font><br>\n",
    "- <font color='red'>Year/RankSeason</font><br>\n",
    "- <font color='red'>Year/NumCompetitors</font> # Correct <br>\n",
    "- <font color='red'>RA/RankSeason</font><br>\n",
    "- <font color='red'>RA/NumCompetitors</font><br>\n",
    "- <font color='red'>RankSeason/NumCompetitors</font><br>"
   ]
  },
  {
   "cell_type": "code",
   "execution_count": 13,
   "metadata": {},
   "outputs": [
    {
     "data": {
      "text/html": [
       "<table>\n",
       "<thead><tr><th></th><th scope=col>Year</th><th scope=col>WorldSeries</th><th scope=col>NumCompetitors</th><th scope=col>RA</th><th scope=col>RankSeason</th></tr></thead>\n",
       "<tbody>\n",
       "\t<tr><th scope=row>Year</th><td> 1.0000000</td><td>-0.2134889</td><td> 0.9139548</td><td> 0.4762422</td><td> 0.3852191</td></tr>\n",
       "\t<tr><th scope=row>WorldSeries</th><td>-0.2134889</td><td> 1.0000000</td><td>-0.2239039</td><td>-0.1438514</td><td>-0.1304681</td></tr>\n",
       "\t<tr><th scope=row>NumCompetitors</th><td> 0.9139548</td><td>-0.2239039</td><td> 1.0000000</td><td> 0.5136769</td><td> 0.4247393</td></tr>\n",
       "\t<tr><th scope=row>RA</th><td> 0.4762422</td><td>-0.1438514</td><td> 0.5136769</td><td> 1.0000000</td><td> 0.3991413</td></tr>\n",
       "\t<tr><th scope=row>RankSeason</th><td> 0.3852191</td><td>-0.1304681</td><td> 0.4247393</td><td> 0.3991413</td><td> 1.0000000</td></tr>\n",
       "</tbody>\n",
       "</table>\n"
      ],
      "text/latex": [
       "\\begin{tabular}{r|lllll}\n",
       "  & Year & WorldSeries & NumCompetitors & RA & RankSeason\\\\\n",
       "\\hline\n",
       "\tYear &  1.0000000 & -0.2134889 &  0.9139548 &  0.4762422 &  0.3852191\\\\\n",
       "\tWorldSeries & -0.2134889 &  1.0000000 & -0.2239039 & -0.1438514 & -0.1304681\\\\\n",
       "\tNumCompetitors &  0.9139548 & -0.2239039 &  1.0000000 &  0.5136769 &  0.4247393\\\\\n",
       "\tRA &  0.4762422 & -0.1438514 &  0.5136769 &  1.0000000 &  0.3991413\\\\\n",
       "\tRankSeason &  0.3852191 & -0.1304681 &  0.4247393 &  0.3991413 &  1.0000000\\\\\n",
       "\\end{tabular}\n"
      ],
      "text/markdown": [
       "\n",
       "| <!--/--> | Year | WorldSeries | NumCompetitors | RA | RankSeason | \n",
       "|---|---|---|---|---|\n",
       "| Year |  1.0000000 | -0.2134889 |  0.9139548 |  0.4762422 |  0.3852191 | \n",
       "| WorldSeries | -0.2134889 |  1.0000000 | -0.2239039 | -0.1438514 | -0.1304681 | \n",
       "| NumCompetitors |  0.9139548 | -0.2239039 |  1.0000000 |  0.5136769 |  0.4247393 | \n",
       "| RA |  0.4762422 | -0.1438514 |  0.5136769 |  1.0000000 |  0.3991413 | \n",
       "| RankSeason |  0.3852191 | -0.1304681 |  0.4247393 |  0.3991413 |  1.0000000 | \n",
       "\n",
       "\n"
      ],
      "text/plain": [
       "               Year       WorldSeries NumCompetitors RA         RankSeason\n",
       "Year            1.0000000 -0.2134889   0.9139548      0.4762422  0.3852191\n",
       "WorldSeries    -0.2134889  1.0000000  -0.2239039     -0.1438514 -0.1304681\n",
       "NumCompetitors  0.9139548 -0.2239039   1.0000000      0.5136769  0.4247393\n",
       "RA              0.4762422 -0.1438514   0.5136769      1.0000000  0.3991413\n",
       "RankSeason      0.3852191 -0.1304681   0.4247393      0.3991413  1.0000000"
      ]
     },
     "metadata": {},
     "output_type": "display_data"
    }
   ],
   "source": [
    "cor(baseball[c(\"Year\", \"WorldSeries\", \"NumCompetitors\", \"RA\", \"RankSeason\")])"
   ]
  },
  {
   "cell_type": "markdown",
   "metadata": {},
   "source": [
    "# Problem 4.3 - Multivariate Models for Predicting World Series Winner\n",
    "#### Build all six of the two variable models listed in the previous problem. Together with the four bivariate models, you should have 10 different logistic regression models. Which model has the best AIC value (the minimum AIC value)?\n",
    "- <font color='red'>Year</font><br>\n",
    "- <font color='red'>RA</font><br>\n",
    "- <font color='red'>RankSeason</font> # Correct <br>\n",
    "- <font color='red'>NumCompetitors</font><br>\n",
    "- <font color='red'>Year/RA</font><br>\n",
    "- <font color='red'>Year/RankSeason</font><br>\n",
    "- <font color='red'>Year/NumCompetitors</font><br>\n",
    "- <font color='red'>RA/RankSeason</font><br>\n",
    "- <font color='red'>RA/NumCompetitors</font><br>\n",
    "- <font color='red'>RankSeason/NumCompetitors</font><br>"
   ]
  },
  {
   "cell_type": "code",
   "execution_count": 14,
   "metadata": {},
   "outputs": [],
   "source": [
    "g1 <- glm(WorldSeries ~ Year + RA, family = binomial, data=baseball)\n",
    "g2 <- glm(WorldSeries ~ Year + RankSeason, family = binomial, data=baseball)\n",
    "g3 <- glm(WorldSeries ~ Year + NumCompetitors, family = binomial, data=baseball)\n",
    "g4 <- glm(WorldSeries ~ RA + RankSeason, family = binomial, data=baseball)\n",
    "g5 <- glm(WorldSeries ~ RA + NumCompetitors, family = binomial, data=baseball)\n",
    "g6 <- glm(WorldSeries ~ RankSeason + NumCompetitors, family = binomial, data=baseball)\n",
    "m1  <- glm(WorldSeries ~ Year, data = baseball, family = \"binomial\")\n",
    "m2  <- glm(WorldSeries ~ RA, data = baseball, family = \"binomial\")\n",
    "m3  <- glm(WorldSeries ~ RankSeason, data = baseball, family = \"binomial\")\n",
    "m4  <- glm(WorldSeries ~ NumCompetitors, data = baseball, family = \"binomial\")"
   ]
  },
  {
   "cell_type": "code",
   "execution_count": 15,
   "metadata": {},
   "outputs": [
    {
     "data": {
      "text/html": [
       "10"
      ],
      "text/latex": [
       "10"
      ],
      "text/markdown": [
       "10"
      ],
      "text/plain": [
       "[1] 10"
      ]
     },
     "metadata": {},
     "output_type": "display_data"
    }
   ],
   "source": [
    "a = c()\n",
    "for (i in list(g1, g2, g3, g4, g5, g6, m1,m2,m3,m4)){\n",
    "    a = append(a, i$aic)\n",
    "}\n",
    "which.min(a)\n",
    "# 10th of the list which is RankSeason"
   ]
  }
 ],
 "metadata": {
  "kernelspec": {
   "display_name": "R",
   "language": "R",
   "name": "ir"
  },
  "language_info": {
   "codemirror_mode": "r",
   "file_extension": ".r",
   "mimetype": "text/x-r-source",
   "name": "R",
   "pygments_lexer": "r",
   "version": "3.5.1"
  }
 },
 "nbformat": 4,
 "nbformat_minor": 2
}
