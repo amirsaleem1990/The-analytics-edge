{
 "cells": [
  {
   "cell_type": "markdown",
   "metadata": {},
   "source": [
    "### https://ocw.mit.edu/courses/sloan-school-of-management/15-071-the-analytics-edge-spring-2017/linear-regression/assignment-2"
   ]
  },
  {
   "cell_type": "markdown",
   "metadata": {},
   "source": [
    "# Problem 1.1 - Creating Our First Model\n",
    "### We are interested in how changes in these variables affect future temperatures, as well as how well these variables explain temperature changes so far. To do this, first read the dataset climate_change.csv into R.\n",
    "### Then, split the data into a training set, consisting of all the observations up to and including 2006, and a testing set consisting of the remaining years (hint: use subset). A training set refers to the data that will be used to build the model (this is the data we give to the lm() function), and a testing set refers to the data we will use to test our predictive ability.\n",
    "### Next, build a linear regression model to predict the dependent variable Temp, using MEI, CO2, CH4, N2O, CFC.11, CFC.12, TSI, and Aerosols as independent variables (Year and Month should NOT be used in the model). Use the training set to build the model.\n",
    "### Enter the model R2 (the \"Multiple R-squared\" value):"
   ]
  },
  {
   "cell_type": "code",
   "execution_count": 1,
   "metadata": {},
   "outputs": [
    {
     "data": {
      "text/plain": [
       "\n",
       "Call:\n",
       "lm(formula = Temp ~ MEI + CO2 + CH4 + N2O + CFC.11 + CFC.12 + \n",
       "    TSI + Aerosols, data = Climate_training)\n",
       "\n",
       "Residuals:\n",
       "     Min       1Q   Median       3Q      Max \n",
       "-0.25888 -0.05913 -0.00082  0.05649  0.32433 \n",
       "\n",
       "Coefficients:\n",
       "              Estimate Std. Error t value Pr(>|t|)    \n",
       "(Intercept) -1.246e+02  1.989e+01  -6.265 1.43e-09 ***\n",
       "MEI          6.421e-02  6.470e-03   9.923  < 2e-16 ***\n",
       "CO2          6.457e-03  2.285e-03   2.826  0.00505 ** \n",
       "CH4          1.240e-04  5.158e-04   0.240  0.81015    \n",
       "N2O         -1.653e-02  8.565e-03  -1.930  0.05467 .  \n",
       "CFC.11      -6.631e-03  1.626e-03  -4.078 5.96e-05 ***\n",
       "CFC.12       3.808e-03  1.014e-03   3.757  0.00021 ***\n",
       "TSI          9.314e-02  1.475e-02   6.313 1.10e-09 ***\n",
       "Aerosols    -1.538e+00  2.133e-01  -7.210 5.41e-12 ***\n",
       "---\n",
       "Signif. codes:  0 ‘***’ 0.001 ‘**’ 0.01 ‘*’ 0.05 ‘.’ 0.1 ‘ ’ 1\n",
       "\n",
       "Residual standard error: 0.09171 on 275 degrees of freedom\n",
       "Multiple R-squared:  0.7509,\tAdjusted R-squared:  0.7436 \n",
       "F-statistic: 103.6 on 8 and 275 DF,  p-value: < 2.2e-16\n"
      ]
     },
     "metadata": {},
     "output_type": "display_data"
    }
   ],
   "source": [
    "Climate <- read.csv('../data//climate_change.csv')\n",
    "Climate_training <- subset(Climate, Year < 2007)\n",
    "Climate_testing  <- subset(Climate, Year > 2006)\n",
    "\n",
    "Climate_model1 <- lm(Temp ~ MEI + CO2 + CH4 + N2O + CFC.11 + CFC.12 + TSI + Aerosols, data= Climate_training)\n",
    "summary(Climate_model1)"
   ]
  },
  {
   "cell_type": "markdown",
   "metadata": {},
   "source": [
    "# Problem 1.2 - Creating Our First Model\n",
    "### Which variables are significant in the model? We will consider a variable signficant only if the p-value is below 0.05. (Select all that apply.)\n",
    "<font color='red'>MEI</font># Correct<br>\n",
    "<font color='red'>CO2</font># Correct<br>\n",
    "<font color='red'>CH4</font><br>\n",
    "<font color='red'>N2O</font><br>\n",
    "<font color='red'>CFC.11</font># Correct<br>\n",
    "<font color='red'>CFC.12</font># Correct<br>\n",
    "<font color='red'>TSI</font># Correct<br>\n",
    "<font color='red'>Aerosols</font># Correct<br>"
   ]
  },
  {
   "cell_type": "markdown",
   "metadata": {},
   "source": [
    "# Problem 2.1 - Understanding the Model\n",
    "#### Current scientific opinion is that nitrous oxide and CFC-11 are greenhouse gases: gases that are able to trap heat from the sun and contribute to the heating of the Earth. However, the regression coefficients of both the N2O and CFC-11 variables are negative, indicating that increasing atmospheric concentrations of either of these two compounds is associated with lower global temperatures.\n",
    "#### Which of the following is the simplest correct explanation for this contradiction?\n",
    "<font color='red'>Climate scientists are wrong that N2O and CFC-11 are greenhouse gases - this regression analysis constitutes part of a disproof.</font><br>\n",
    "<font color='red'>There is not enough data, so the regression coefficients being estimated are not accurate.</font><br>\n",
    "<font color='red'>All of the gas concentration variables reflect human development - N2O and CFC.11 are correlated with other variables in the data set.</font># Correct<br>"
   ]
  },
  {
   "cell_type": "markdown",
   "metadata": {},
   "source": [
    "# Problem 2.2 - Understanding the Model\n",
    "### Compute the correlations between all the variables in the training set. Which of the following independent variables is N2O highly correlated with (absolute correlation greater than 0.7)? Select all that apply.\n",
    "<font color='red'>MEI</font><br>\n",
    "<font color='red'>CO2</font># Correct<br>\n",
    "<font color='red'>CH4</font># Correct<br>\n",
    "<font color='red'>CFC.11</font><br>\n",
    "<font color='red'>CFC.12</font># Correct<br>\n",
    "<font color='red'>Aerosols</font><br>\n",
    "<font color='red'>TSI</font><br>"
   ]
  },
  {
   "cell_type": "code",
   "execution_count": 2,
   "metadata": {},
   "outputs": [
    {
     "data": {
      "text/html": [
       "<table>\n",
       "<thead><tr><th></th><th scope=col>Year</th><th scope=col>Month</th><th scope=col>MEI</th><th scope=col>CO2</th><th scope=col>CH4</th><th scope=col>N2O</th><th scope=col>CFC.11</th><th scope=col>CFC.12</th><th scope=col>TSI</th><th scope=col>Aerosols</th><th scope=col>Temp</th></tr></thead>\n",
       "<tbody>\n",
       "\t<tr><th scope=row>Year</th><td> 1.00000000  </td><td>-0.0279419602</td><td>-0.0369876842</td><td> 0.98274939  </td><td> 0.91565945  </td><td> 0.99384523  </td><td> 0.56910643  </td><td> 0.8970116635</td><td> 0.17030201  </td><td>-0.34524670  </td><td> 0.78679714  </td></tr>\n",
       "\t<tr><th scope=row>Month</th><td>-0.02794196  </td><td> 1.0000000000</td><td> 0.0008846905</td><td>-0.10673246  </td><td> 0.01856866  </td><td> 0.01363153  </td><td>-0.01311122  </td><td> 0.0006751102</td><td>-0.03460619  </td><td> 0.01488954  </td><td>-0.09985674  </td></tr>\n",
       "\t<tr><th scope=row>MEI</th><td>-0.03698768  </td><td> 0.0008846905</td><td> 1.0000000000</td><td>-0.04114717  </td><td>-0.03341930  </td><td>-0.05081978  </td><td> 0.06900044  </td><td> 0.0082855443</td><td>-0.15449192  </td><td> 0.34023779  </td><td> 0.17247075  </td></tr>\n",
       "\t<tr><th scope=row>CO2</th><td> 0.98274939  </td><td>-0.1067324607</td><td>-0.0411471651</td><td> 1.00000000  </td><td> 0.87727963  </td><td> 0.97671982  </td><td> 0.51405975  </td><td> 0.8526896272</td><td> 0.17742893  </td><td>-0.35615480  </td><td> 0.78852921  </td></tr>\n",
       "\t<tr><th scope=row>CH4</th><td> 0.91565945  </td><td> 0.0185686624</td><td>-0.0334193014</td><td> 0.87727963  </td><td> 1.00000000  </td><td> 0.89983864  </td><td> 0.77990402  </td><td> 0.9636162478</td><td> 0.24552844  </td><td>-0.26780919  </td><td> 0.70325502  </td></tr>\n",
       "\t<tr><th scope=row>N2O</th><td> 0.99384523  </td><td> 0.0136315303</td><td>-0.0508197755</td><td> 0.97671982  </td><td> 0.89983864  </td><td> 1.00000000  </td><td> 0.52247732  </td><td> 0.8679307757</td><td> 0.19975668  </td><td>-0.33705457  </td><td> 0.77863893  </td></tr>\n",
       "\t<tr><th scope=row>CFC.11</th><td> 0.56910643  </td><td>-0.0131112236</td><td> 0.0690004387</td><td> 0.51405975  </td><td> 0.77990402  </td><td> 0.52247732  </td><td> 1.00000000  </td><td> 0.8689851828</td><td> 0.27204596  </td><td>-0.04392120  </td><td> 0.40771029  </td></tr>\n",
       "\t<tr><th scope=row>CFC.12</th><td> 0.89701166  </td><td> 0.0006751102</td><td> 0.0082855443</td><td> 0.85268963  </td><td> 0.96361625  </td><td> 0.86793078  </td><td> 0.86898518  </td><td> 1.0000000000</td><td> 0.25530281  </td><td>-0.22513124  </td><td> 0.68755755  </td></tr>\n",
       "\t<tr><th scope=row>TSI</th><td> 0.17030201  </td><td>-0.0346061935</td><td>-0.1544919227</td><td> 0.17742893  </td><td> 0.24552844  </td><td> 0.19975668  </td><td> 0.27204596  </td><td> 0.2553028138</td><td> 1.00000000  </td><td> 0.05211651  </td><td> 0.24338269  </td></tr>\n",
       "\t<tr><th scope=row>Aerosols</th><td>-0.34524670  </td><td> 0.0148895406</td><td> 0.3402377871</td><td>-0.35615480  </td><td>-0.26780919  </td><td>-0.33705457  </td><td>-0.04392120  </td><td>-0.2251312440</td><td> 0.05211651  </td><td> 1.00000000  </td><td>-0.38491375  </td></tr>\n",
       "\t<tr><th scope=row>Temp</th><td> 0.78679714  </td><td>-0.0998567411</td><td> 0.1724707512</td><td> 0.78852921  </td><td> 0.70325502  </td><td> 0.77863893  </td><td> 0.40771029  </td><td> 0.6875575483</td><td> 0.24338269  </td><td>-0.38491375  </td><td> 1.00000000  </td></tr>\n",
       "</tbody>\n",
       "</table>\n"
      ],
      "text/latex": [
       "\\begin{tabular}{r|lllllllllll}\n",
       "  & Year & Month & MEI & CO2 & CH4 & N2O & CFC.11 & CFC.12 & TSI & Aerosols & Temp\\\\\n",
       "\\hline\n",
       "\tYear &  1.00000000   & -0.0279419602 & -0.0369876842 &  0.98274939   &  0.91565945   &  0.99384523   &  0.56910643   &  0.8970116635 &  0.17030201   & -0.34524670   &  0.78679714  \\\\\n",
       "\tMonth & -0.02794196   &  1.0000000000 &  0.0008846905 & -0.10673246   &  0.01856866   &  0.01363153   & -0.01311122   &  0.0006751102 & -0.03460619   &  0.01488954   & -0.09985674  \\\\\n",
       "\tMEI & -0.03698768   &  0.0008846905 &  1.0000000000 & -0.04114717   & -0.03341930   & -0.05081978   &  0.06900044   &  0.0082855443 & -0.15449192   &  0.34023779   &  0.17247075  \\\\\n",
       "\tCO2 &  0.98274939   & -0.1067324607 & -0.0411471651 &  1.00000000   &  0.87727963   &  0.97671982   &  0.51405975   &  0.8526896272 &  0.17742893   & -0.35615480   &  0.78852921  \\\\\n",
       "\tCH4 &  0.91565945   &  0.0185686624 & -0.0334193014 &  0.87727963   &  1.00000000   &  0.89983864   &  0.77990402   &  0.9636162478 &  0.24552844   & -0.26780919   &  0.70325502  \\\\\n",
       "\tN2O &  0.99384523   &  0.0136315303 & -0.0508197755 &  0.97671982   &  0.89983864   &  1.00000000   &  0.52247732   &  0.8679307757 &  0.19975668   & -0.33705457   &  0.77863893  \\\\\n",
       "\tCFC.11 &  0.56910643   & -0.0131112236 &  0.0690004387 &  0.51405975   &  0.77990402   &  0.52247732   &  1.00000000   &  0.8689851828 &  0.27204596   & -0.04392120   &  0.40771029  \\\\\n",
       "\tCFC.12 &  0.89701166   &  0.0006751102 &  0.0082855443 &  0.85268963   &  0.96361625   &  0.86793078   &  0.86898518   &  1.0000000000 &  0.25530281   & -0.22513124   &  0.68755755  \\\\\n",
       "\tTSI &  0.17030201   & -0.0346061935 & -0.1544919227 &  0.17742893   &  0.24552844   &  0.19975668   &  0.27204596   &  0.2553028138 &  1.00000000   &  0.05211651   &  0.24338269  \\\\\n",
       "\tAerosols & -0.34524670   &  0.0148895406 &  0.3402377871 & -0.35615480   & -0.26780919   & -0.33705457   & -0.04392120   & -0.2251312440 &  0.05211651   &  1.00000000   & -0.38491375  \\\\\n",
       "\tTemp &  0.78679714   & -0.0998567411 &  0.1724707512 &  0.78852921   &  0.70325502   &  0.77863893   &  0.40771029   &  0.6875575483 &  0.24338269   & -0.38491375   &  1.00000000  \\\\\n",
       "\\end{tabular}\n"
      ],
      "text/markdown": [
       "\n",
       "| <!--/--> | Year | Month | MEI | CO2 | CH4 | N2O | CFC.11 | CFC.12 | TSI | Aerosols | Temp |\n",
       "|---|---|---|---|---|---|---|---|---|---|---|---|\n",
       "| Year |  1.00000000   | -0.0279419602 | -0.0369876842 |  0.98274939   |  0.91565945   |  0.99384523   |  0.56910643   |  0.8970116635 |  0.17030201   | -0.34524670   |  0.78679714   |\n",
       "| Month | -0.02794196   |  1.0000000000 |  0.0008846905 | -0.10673246   |  0.01856866   |  0.01363153   | -0.01311122   |  0.0006751102 | -0.03460619   |  0.01488954   | -0.09985674   |\n",
       "| MEI | -0.03698768   |  0.0008846905 |  1.0000000000 | -0.04114717   | -0.03341930   | -0.05081978   |  0.06900044   |  0.0082855443 | -0.15449192   |  0.34023779   |  0.17247075   |\n",
       "| CO2 |  0.98274939   | -0.1067324607 | -0.0411471651 |  1.00000000   |  0.87727963   |  0.97671982   |  0.51405975   |  0.8526896272 |  0.17742893   | -0.35615480   |  0.78852921   |\n",
       "| CH4 |  0.91565945   |  0.0185686624 | -0.0334193014 |  0.87727963   |  1.00000000   |  0.89983864   |  0.77990402   |  0.9636162478 |  0.24552844   | -0.26780919   |  0.70325502   |\n",
       "| N2O |  0.99384523   |  0.0136315303 | -0.0508197755 |  0.97671982   |  0.89983864   |  1.00000000   |  0.52247732   |  0.8679307757 |  0.19975668   | -0.33705457   |  0.77863893   |\n",
       "| CFC.11 |  0.56910643   | -0.0131112236 |  0.0690004387 |  0.51405975   |  0.77990402   |  0.52247732   |  1.00000000   |  0.8689851828 |  0.27204596   | -0.04392120   |  0.40771029   |\n",
       "| CFC.12 |  0.89701166   |  0.0006751102 |  0.0082855443 |  0.85268963   |  0.96361625   |  0.86793078   |  0.86898518   |  1.0000000000 |  0.25530281   | -0.22513124   |  0.68755755   |\n",
       "| TSI |  0.17030201   | -0.0346061935 | -0.1544919227 |  0.17742893   |  0.24552844   |  0.19975668   |  0.27204596   |  0.2553028138 |  1.00000000   |  0.05211651   |  0.24338269   |\n",
       "| Aerosols | -0.34524670   |  0.0148895406 |  0.3402377871 | -0.35615480   | -0.26780919   | -0.33705457   | -0.04392120   | -0.2251312440 |  0.05211651   |  1.00000000   | -0.38491375   |\n",
       "| Temp |  0.78679714   | -0.0998567411 |  0.1724707512 |  0.78852921   |  0.70325502   |  0.77863893   |  0.40771029   |  0.6875575483 |  0.24338269   | -0.38491375   |  1.00000000   |\n",
       "\n"
      ],
      "text/plain": [
       "         Year        Month         MEI           CO2         CH4        \n",
       "Year      1.00000000 -0.0279419602 -0.0369876842  0.98274939  0.91565945\n",
       "Month    -0.02794196  1.0000000000  0.0008846905 -0.10673246  0.01856866\n",
       "MEI      -0.03698768  0.0008846905  1.0000000000 -0.04114717 -0.03341930\n",
       "CO2       0.98274939 -0.1067324607 -0.0411471651  1.00000000  0.87727963\n",
       "CH4       0.91565945  0.0185686624 -0.0334193014  0.87727963  1.00000000\n",
       "N2O       0.99384523  0.0136315303 -0.0508197755  0.97671982  0.89983864\n",
       "CFC.11    0.56910643 -0.0131112236  0.0690004387  0.51405975  0.77990402\n",
       "CFC.12    0.89701166  0.0006751102  0.0082855443  0.85268963  0.96361625\n",
       "TSI       0.17030201 -0.0346061935 -0.1544919227  0.17742893  0.24552844\n",
       "Aerosols -0.34524670  0.0148895406  0.3402377871 -0.35615480 -0.26780919\n",
       "Temp      0.78679714 -0.0998567411  0.1724707512  0.78852921  0.70325502\n",
       "         N2O         CFC.11      CFC.12        TSI         Aerosols   \n",
       "Year      0.99384523  0.56910643  0.8970116635  0.17030201 -0.34524670\n",
       "Month     0.01363153 -0.01311122  0.0006751102 -0.03460619  0.01488954\n",
       "MEI      -0.05081978  0.06900044  0.0082855443 -0.15449192  0.34023779\n",
       "CO2       0.97671982  0.51405975  0.8526896272  0.17742893 -0.35615480\n",
       "CH4       0.89983864  0.77990402  0.9636162478  0.24552844 -0.26780919\n",
       "N2O       1.00000000  0.52247732  0.8679307757  0.19975668 -0.33705457\n",
       "CFC.11    0.52247732  1.00000000  0.8689851828  0.27204596 -0.04392120\n",
       "CFC.12    0.86793078  0.86898518  1.0000000000  0.25530281 -0.22513124\n",
       "TSI       0.19975668  0.27204596  0.2553028138  1.00000000  0.05211651\n",
       "Aerosols -0.33705457 -0.04392120 -0.2251312440  0.05211651  1.00000000\n",
       "Temp      0.77863893  0.40771029  0.6875575483  0.24338269 -0.38491375\n",
       "         Temp       \n",
       "Year      0.78679714\n",
       "Month    -0.09985674\n",
       "MEI       0.17247075\n",
       "CO2       0.78852921\n",
       "CH4       0.70325502\n",
       "N2O       0.77863893\n",
       "CFC.11    0.40771029\n",
       "CFC.12    0.68755755\n",
       "TSI       0.24338269\n",
       "Aerosols -0.38491375\n",
       "Temp      1.00000000"
      ]
     },
     "metadata": {},
     "output_type": "display_data"
    }
   ],
   "source": [
    "cor(Climate_training)"
   ]
  },
  {
   "cell_type": "markdown",
   "metadata": {},
   "source": [
    "### Which of the following independent variables is CFC.11 highly correlated with? Select all that apply.\n",
    "<font color='red'>MEI</font><br>\n",
    "<font color='red'>CO2</font><br>\n",
    "<font color='red'>CH4</font> # Correct<br>\n",
    "<font color='red'>N2O</font><br>\n",
    "<font color='red'>CFC.12</font> # Correct<br>\n",
    "<font color='red'>Aerosols</font><br>\n",
    "<font color='red'>TSI</font><br>"
   ]
  },
  {
   "cell_type": "markdown",
   "metadata": {},
   "source": [
    "# Problem 3 - Simplifying the Model\n",
    "### Given that the correlations are so high, let us focus on the N2O variable and build a model with only MEI, TSI, Aerosols and N2O as independent variables. Remember to use the training set to build the model.\n",
    "### Enter the coefficient of N2O in this reduced model:\n",
    "<font color='red'>2.532e-02</font>"
   ]
  },
  {
   "cell_type": "code",
   "execution_count": 3,
   "metadata": {},
   "outputs": [
    {
     "data": {
      "text/plain": [
       "\n",
       "Call:\n",
       "lm(formula = Temp ~ MEI + TSI + Aerosols + N2O, data = Climate_training)\n",
       "\n",
       "Residuals:\n",
       "     Min       1Q   Median       3Q      Max \n",
       "-0.27916 -0.05975 -0.00595  0.05672  0.34195 \n",
       "\n",
       "Coefficients:\n",
       "              Estimate Std. Error t value Pr(>|t|)    \n",
       "(Intercept) -1.162e+02  2.022e+01  -5.747 2.37e-08 ***\n",
       "MEI          6.419e-02  6.652e-03   9.649  < 2e-16 ***\n",
       "TSI          7.949e-02  1.487e-02   5.344 1.89e-07 ***\n",
       "Aerosols    -1.702e+00  2.180e-01  -7.806 1.19e-13 ***\n",
       "N2O          2.532e-02  1.311e-03  19.307  < 2e-16 ***\n",
       "---\n",
       "Signif. codes:  0 ‘***’ 0.001 ‘**’ 0.01 ‘*’ 0.05 ‘.’ 0.1 ‘ ’ 1\n",
       "\n",
       "Residual standard error: 0.09547 on 279 degrees of freedom\n",
       "Multiple R-squared:  0.7261,\tAdjusted R-squared:  0.7222 \n",
       "F-statistic: 184.9 on 4 and 279 DF,  p-value: < 2.2e-16\n"
      ]
     },
     "metadata": {},
     "output_type": "display_data"
    }
   ],
   "source": [
    "Climate_model2  <- lm(Temp ~ MEI + TSI + Aerosols + N2O, data=Climate_training)\n",
    "summary(Climate_model2)"
   ]
  },
  {
   "cell_type": "markdown",
   "metadata": {},
   "source": [
    "### (How does this compare to the coefficient in the previous model with all of the variables?)\n",
    "### Enter the model $R^2$\n",
    "<font color='red'>0.7261</font>"
   ]
  }
 ],
 "metadata": {
  "kernelspec": {
   "display_name": "R",
   "language": "R",
   "name": "ir"
  },
  "language_info": {
   "codemirror_mode": "r",
   "file_extension": ".r",
   "mimetype": "text/x-r-source",
   "name": "R",
   "pygments_lexer": "r",
   "version": "3.5.1"
  }
 },
 "nbformat": 4,
 "nbformat_minor": 2
}
