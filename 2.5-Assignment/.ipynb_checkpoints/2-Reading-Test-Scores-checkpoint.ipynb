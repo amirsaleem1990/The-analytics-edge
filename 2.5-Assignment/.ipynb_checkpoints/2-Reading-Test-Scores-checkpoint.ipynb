{
 "cells": [
  {
   "cell_type": "markdown",
   "metadata": {},
   "source": [
    "### https://ocw.mit.edu/courses/sloan-school-of-management/15-071-the-analytics-edge-spring-2017/linear-regression/assignment-2/reading-test-scores"
   ]
  },
  {
   "cell_type": "markdown",
   "metadata": {},
   "source": [
    "# Problem 1.1 - Dataset size\n",
    "#### Load the training and testing sets using the read.csv() function, and save them as variables with the names pisaTrain and pisaTest.\n",
    "#### How many students are there in the training set?"
   ]
  },
  {
   "cell_type": "code",
   "execution_count": 1,
   "metadata": {},
   "outputs": [
    {
     "name": "stdout",
     "output_type": "stream",
     "text": [
      "'data.frame':\t3663 obs. of  24 variables:\n",
      " $ grade                : int  11 11 9 10 10 10 10 10 9 10 ...\n",
      " $ male                 : int  1 1 1 0 1 1 0 0 0 1 ...\n",
      " $ raceeth              : Factor w/ 7 levels \"American Indian/Alaska Native\",..: NA 7 7 3 4 3 2 7 7 5 ...\n",
      " $ preschool            : int  NA 0 1 1 1 1 0 1 1 1 ...\n",
      " $ expectBachelors      : int  0 0 1 1 0 1 1 1 0 1 ...\n",
      " $ motherHS             : int  NA 1 1 0 1 NA 1 1 1 1 ...\n",
      " $ motherBachelors      : int  NA 1 1 0 0 NA 0 0 NA 1 ...\n",
      " $ motherWork           : int  1 1 1 1 1 1 1 0 1 1 ...\n",
      " $ fatherHS             : int  NA 1 1 1 1 1 NA 1 0 0 ...\n",
      " $ fatherBachelors      : int  NA 0 NA 0 0 0 NA 0 NA 0 ...\n",
      " $ fatherWork           : int  1 1 1 1 0 1 NA 1 1 1 ...\n",
      " $ selfBornUS           : int  1 1 1 1 1 1 0 1 1 1 ...\n",
      " $ motherBornUS         : int  0 1 1 1 1 1 1 1 1 1 ...\n",
      " $ fatherBornUS         : int  0 1 1 1 0 1 NA 1 1 1 ...\n",
      " $ englishAtHome        : int  0 1 1 1 1 1 1 1 1 1 ...\n",
      " $ computerForSchoolwork: int  1 1 1 1 1 1 1 1 1 1 ...\n",
      " $ read30MinsADay       : int  0 1 0 1 1 0 0 1 0 0 ...\n",
      " $ minutesPerWeekEnglish: int  225 450 250 200 250 300 250 300 378 294 ...\n",
      " $ studentsInEnglish    : int  NA 25 28 23 35 20 28 30 20 24 ...\n",
      " $ schoolHasLibrary     : int  1 1 1 1 1 1 1 1 0 1 ...\n",
      " $ publicSchool         : int  1 1 1 1 1 1 1 1 1 1 ...\n",
      " $ urban                : int  1 0 0 1 1 0 1 0 1 0 ...\n",
      " $ schoolSize           : int  673 1173 1233 2640 1095 227 2080 1913 502 899 ...\n",
      " $ readingScore         : num  476 575 555 458 614 ...\n"
     ]
    }
   ],
   "source": [
    "pisaTrain  <- read.csv('../data//pisa2009train.csv') \n",
    "pisaTest <- read.csv('../data/pisa2009test.csv')\n",
    "str(pisaTrain)"
   ]
  },
  {
   "cell_type": "code",
   "execution_count": 2,
   "metadata": {},
   "outputs": [
    {
     "data": {
      "text/html": [
       "3663"
      ],
      "text/latex": [
       "3663"
      ],
      "text/markdown": [
       "3663"
      ],
      "text/plain": [
       "[1] 3663"
      ]
     },
     "metadata": {},
     "output_type": "display_data"
    }
   ],
   "source": [
    "nrow(pisaTrain)"
   ]
  },
  {
   "cell_type": "markdown",
   "metadata": {},
   "source": [
    "# Problem 1.2 - Summarizing the dataset\n",
    "#### Using tapply() on pisaTrain, what is the average reading test score of males?"
   ]
  },
  {
   "cell_type": "code",
   "execution_count": 3,
   "metadata": {},
   "outputs": [
    {
     "data": {
      "text/html": [
       "<dl class=dl-horizontal>\n",
       "\t<dt>0</dt>\n",
       "\t\t<dd>512.94063093244</dd>\n",
       "\t<dt>1</dt>\n",
       "\t\t<dd>483.532478632479</dd>\n",
       "</dl>\n"
      ],
      "text/latex": [
       "\\begin{description*}\n",
       "\\item[0] 512.94063093244\n",
       "\\item[1] 483.532478632479\n",
       "\\end{description*}\n"
      ],
      "text/markdown": [
       "0\n",
       ":   512.940630932441\n",
       ":   483.532478632479\n",
       "\n"
      ],
      "text/plain": [
       "       0        1 \n",
       "512.9406 483.5325 "
      ]
     },
     "metadata": {},
     "output_type": "display_data"
    }
   ],
   "source": [
    "tapply(pisaTrain$readingScore, pisaTrain$male, mean, na.rm = T)"
   ]
  },
  {
   "cell_type": "markdown",
   "metadata": {},
   "source": [
    "# Problem 1.3 - Locating missing values\n",
    "#### Which variables are missing data in at least one observation in the training set? Select all that apply\n",
    "<font color='red'>grade</font><br>\n",
    "<font color='red'>male</font><br>\n",
    "<font color='red'>raceeth</font> # Correct<br>\n",
    "<font color='red'>preschool</font> # Correct<br>\n",
    "<font color='red'>expectBachelors</font> # Correct<br>\n",
    "<font color='red'>motherHS</font> # Correct<br>\n",
    "<font color='red'>motherBachelors</font> # Correct<br>\n",
    "<font color='red'>motherWork</font> # Correct<br>\n",
    "<font color='red'>fatherHS</font> # Correct<br>\n",
    "<font color='red'>fatherBachelors</font> # Correct<br>\n",
    "<font color='red'>fatherWork</font> # Correct<br>\n",
    "<font color='red'>selfBornUS</font> # Correct<br>\n",
    "<font color='red'>motherBornUS</font> # Correct<br>\n",
    "<font color='red'>fatherBornUS</font> # Correct<br>\n",
    "<font color='red'>englishAtHome</font> # Correct<br>\n",
    "<font color='red'>computerForSchoolwork</font> # Correct<br>\n",
    "<font color='red'>read30MinsADay</font> # Correct<br>\n",
    "<font color='red'>minutesPerWeekEnglish</font> # Correct<br>\n",
    "<font color='red'>studentsInEnglish</font> # Correct<br>\n",
    "<font color='red'>schoolHasLibrary</font> # Correct<br>\n",
    "<font color='red'>publicSchool</font><br>\n",
    "<font color='red'>urban</font><br>\n",
    "<font color='red'>schoolSize</font> # Correct <br>\n",
    "<font color='red'>readingScore</font><br>"
   ]
  },
  {
   "cell_type": "code",
   "execution_count": 4,
   "metadata": {},
   "outputs": [
    {
     "data": {
      "text/html": [
       "<ol class=list-inline>\n",
       "\t<li>'computerForSchoolwork'</li>\n",
       "\t<li>'englishAtHome'</li>\n",
       "\t<li>'expectBachelors'</li>\n",
       "\t<li>'fatherBachelors'</li>\n",
       "\t<li>'fatherBornUS'</li>\n",
       "\t<li>'fatherHS'</li>\n",
       "\t<li>'fatherWork'</li>\n",
       "\t<li>'minutesPerWeekEnglish'</li>\n",
       "\t<li>'motherBachelors'</li>\n",
       "\t<li>'motherBornUS'</li>\n",
       "\t<li>'motherHS'</li>\n",
       "\t<li>'motherWork'</li>\n",
       "\t<li>'preschool'</li>\n",
       "\t<li>'raceeth'</li>\n",
       "\t<li>'read30MinsADay'</li>\n",
       "\t<li>'schoolHasLibrary'</li>\n",
       "\t<li>'schoolSize'</li>\n",
       "\t<li>'selfBornUS'</li>\n",
       "\t<li>'studentsInEnglish'</li>\n",
       "</ol>\n"
      ],
      "text/latex": [
       "\\begin{enumerate*}\n",
       "\\item 'computerForSchoolwork'\n",
       "\\item 'englishAtHome'\n",
       "\\item 'expectBachelors'\n",
       "\\item 'fatherBachelors'\n",
       "\\item 'fatherBornUS'\n",
       "\\item 'fatherHS'\n",
       "\\item 'fatherWork'\n",
       "\\item 'minutesPerWeekEnglish'\n",
       "\\item 'motherBachelors'\n",
       "\\item 'motherBornUS'\n",
       "\\item 'motherHS'\n",
       "\\item 'motherWork'\n",
       "\\item 'preschool'\n",
       "\\item 'raceeth'\n",
       "\\item 'read30MinsADay'\n",
       "\\item 'schoolHasLibrary'\n",
       "\\item 'schoolSize'\n",
       "\\item 'selfBornUS'\n",
       "\\item 'studentsInEnglish'\n",
       "\\end{enumerate*}\n"
      ],
      "text/markdown": [
       "1. 'computerForSchoolwork'\n",
       "2. 'englishAtHome'\n",
       "3. 'expectBachelors'\n",
       "4. 'fatherBachelors'\n",
       "5. 'fatherBornUS'\n",
       "6. 'fatherHS'\n",
       "7. 'fatherWork'\n",
       "8. 'minutesPerWeekEnglish'\n",
       "9. 'motherBachelors'\n",
       "10. 'motherBornUS'\n",
       "11. 'motherHS'\n",
       "12. 'motherWork'\n",
       "13. 'preschool'\n",
       "14. 'raceeth'\n",
       "15. 'read30MinsADay'\n",
       "16. 'schoolHasLibrary'\n",
       "17. 'schoolSize'\n",
       "18. 'selfBornUS'\n",
       "19. 'studentsInEnglish'\n",
       "\n",
       "\n"
      ],
      "text/plain": [
       " [1] \"computerForSchoolwork\" \"englishAtHome\"         \"expectBachelors\"      \n",
       " [4] \"fatherBachelors\"       \"fatherBornUS\"          \"fatherHS\"             \n",
       " [7] \"fatherWork\"            \"minutesPerWeekEnglish\" \"motherBachelors\"      \n",
       "[10] \"motherBornUS\"          \"motherHS\"              \"motherWork\"           \n",
       "[13] \"preschool\"             \"raceeth\"               \"read30MinsADay\"       \n",
       "[16] \"schoolHasLibrary\"      \"schoolSize\"            \"selfBornUS\"           \n",
       "[19] \"studentsInEnglish\"    "
      ]
     },
     "metadata": {},
     "output_type": "display_data"
    }
   ],
   "source": [
    "sort(colnames(pisaTrain)[colSums(is.na(pisaTrain)) > 0])"
   ]
  },
  {
   "cell_type": "markdown",
   "metadata": {},
   "source": [
    "# Problem 1.4 - Removing missing values\n",
    "### Linear regression discards observations with missing data, so we will remove all such observations from the training and testing sets. Later in the course, we will learn about imputation, which deals with missing data by filling in missing values with plausible information.\n",
    "### Type the following commands into your R console to remove observations with any missing value from pisaTrain and pisaTest:\n",
    "### pisaTrain = na.omit(pisaTrain)\n",
    "### pisaTest = na.omit(pisaTest)\n",
    "### How many observations are now in the training set?"
   ]
  },
  {
   "cell_type": "code",
   "execution_count": 5,
   "metadata": {},
   "outputs": [
    {
     "data": {
      "text/html": [
       "2414"
      ],
      "text/latex": [
       "2414"
      ],
      "text/markdown": [
       "2414"
      ],
      "text/plain": [
       "[1] 2414"
      ]
     },
     "metadata": {},
     "output_type": "display_data"
    }
   ],
   "source": [
    "pisaTrain = na.omit(pisaTrain)\n",
    "pisaTest = na.omit(pisaTest)\n",
    "nrow(pisaTrain)"
   ]
  },
  {
   "cell_type": "code",
   "execution_count": 6,
   "metadata": {},
   "outputs": [
    {
     "data": {
      "text/html": [
       "990"
      ],
      "text/latex": [
       "990"
      ],
      "text/markdown": [
       "990"
      ],
      "text/plain": [
       "[1] 990"
      ]
     },
     "metadata": {},
     "output_type": "display_data"
    }
   ],
   "source": [
    "nrow(pisaTest)"
   ]
  },
  {
   "cell_type": "markdown",
   "metadata": {},
   "source": [
    "# Problem 2.1 - Factor variables\n",
    "### Factor variables are variables that take on a discrete set of values, like the \"Region\" variable in the WHO dataset from the second lecture of Unit 1. This is an unordered factor because there isn't any natural ordering between the levels. An ordered factor has a natural ordering between the levels (an example would be the classifications \"large,\" \"medium,\" and \"small\").\n",
    "### Which of the following variables is an unordered factor with at least 3 levels? (Select all that apply.)\n",
    "<font color='red'>grade</font><br>\n",
    "<font color='red'>male</font><br>\n",
    "<font color='red'>raceeth</font> # Correct<br>"
   ]
  },
  {
   "cell_type": "markdown",
   "metadata": {},
   "source": [
    "<font color='red'>grade</font> # Correct <br>\n",
    "<font color='red'>male</font><br>\n",
    "<font color='red'>raceeth</font><br>"
   ]
  },
  {
   "cell_type": "markdown",
   "metadata": {},
   "source": [
    "# Problem 2.2 - Unordered factors in regression models\n",
    "#### To include unordered factors in a linear regression model, we define one level as the \"reference level\" and add a binary variable for each of the remaining levels. In this way, a factor with n levels is replaced by n-1 binary variables. The reference level is typically selected to be the most frequently occurring level in the dataset.\n",
    "#### As an example, consider the unordered factor variable \"color\", with levels \"red\", \"green\", and \"blue\". If \"green\" were the reference level, then we would add binary variables \"colorred\" and \"colorblue\" to a linear regression problem. All red examples would have colorred=1 and colorblue=0. All blue examples would have colorred=0 and colorblue=1. All green examples would have colorred=0 and colorblue=0.\n",
    "#### Now, consider the variable \"raceeth\" in our problem, which has levels \"American Indian/Alaska Native\", \"Asian\", \"Black\", \"Hispanic\", \"More than one race\", \"Native Hawaiian/Other Pacific Islander\", and \"White\". Because it is the most common in our population, we will select White as the reference level.\n",
    "#### Which binary variables will be included in the regression model? (Select all that apply.)\n",
    "<font color='red'>raceethAmerican Indian/Alaska Native</font> # Correct <br>\n",
    "<font color='red'>raceethAsian</font> # Correct <br>\n",
    "<font color='red'>raceethBlack</font> # Correct <br>\n",
    "<font color='red'>raceethHispanic</font> # Correct <br>\n",
    "<font color='red'>raceethMore than one race</font> # Correct <br>\n",
    "<font color='red'>raceethNative Hawaiian/Other Pacific Islander</font> # Correct <br>\n",
    "<font color='red'>raceethWhite</font><br>"
   ]
  },
  {
   "cell_type": "code",
   "execution_count": 7,
   "metadata": {},
   "outputs": [
    {
     "data": {
      "text/plain": [
       "\n",
       "         American Indian/Alaska Native                                  Asian \n",
       "                                    20                                     95 \n",
       "                                 Black                               Hispanic \n",
       "                                   228                                    500 \n",
       "                    More than one race Native Hawaiian/Other Pacific Islander \n",
       "                                    81                                     20 \n",
       "                                 White \n",
       "                                  1470 "
      ]
     },
     "metadata": {},
     "output_type": "display_data"
    }
   ],
   "source": [
    "table(pisaTrain$raceeth)"
   ]
  },
  {
   "cell_type": "markdown",
   "metadata": {},
   "source": [
    "# Problem 2.3 - Example unordered factors\n",
    "### Consider again adding our unordered factor race to the regression model with reference level \"White\".\n",
    "### For a student who is Asian, which binary variables would be set to 0? All remaining variables will be set to 1. (Select all that apply.)\n",
    "\n",
    "<font color='red'>raceethAmerican Indian/Alaska Native</font> # Correct <br>\n",
    "<font color='red'>raceethAsian</font><br>\n",
    "<font color='red'>raceethBlack</font> # Correct <br>\n",
    "<font color='red'>raceethHispanic</font> # Correct <br>\n",
    "<font color='red'>raceethMore than one race</font> # Correct <br>\n",
    "<font color='red'>raceethNative Hawaiian/Other Pacific Islander</font> # Correct <br>"
   ]
  },
  {
   "cell_type": "code",
   "execution_count": null,
   "metadata": {},
   "outputs": [],
   "source": []
  },
  {
   "cell_type": "markdown",
   "metadata": {},
   "source": [
    "### For a student who is white, which binary variables would be set to 0? All remaining variables will be set to 1. (Select all that apply.)\n",
    "\n",
    "<font color='red'>raceethAmerican Indian/Alaska Native</font> # Correct <br>\n",
    "<font color='red'>raceethAsian</font> # Correct <br>\n",
    "<font color='red'>raceethBlack</font> # Correct <br>\n",
    "<font color='red'>raceethHispanic</font> # Correct <br>\n",
    "<font color='red'>raceethMore than one race</font> # Correct <br>\n",
    "<font color='red'>raceethNative Hawaiian/Other Pacific Islander</font> # Correct <br>"
   ]
  },
  {
   "cell_type": "markdown",
   "metadata": {},
   "source": [
    "# Problem 3.1 - Building a model\n",
    "#### Because the race variable takes on text values, it was loaded as a factor variable when we read in the dataset with read.csv() -- you can see this when you run str(pisaTrain) or str(pisaTest). However, by default R selects the first level alphabetically (\"American Indian/Alaska Native\") as the reference level of our factor instead of the most common level (\"White\"). Set the reference level of the factor by typing the following two lines in your R console:\n",
    "#### pisaTrain\\\\$raceeth = relevel(pisaTrain\\\\$raceeth, \"White\")\n",
    "#### pisaTest\\\\$raceeth = relevel(pisaTest\\\\$raceeth, \"White\")\n",
    "#### Now, build a linear regression model (call it lmScore) using the training set to predict readingScore using all the remaining variables.\n",
    "#### It would be time-consuming to type all the variables, but R provides the shorthand notation \"readingScore ~ .\" to mean \"predict readingScore using all the other variables in the data frame.\" The period is used to replace listing out all of the independent variables. As an example, if your dependent variable is called \"Y\", your independent variables are called \"X1\", \"X2\", and \"X3\", and your training data set is called \"Train\", instead of the regular notation:\n",
    "#### LinReg = lm(Y ~ X1 + X2 + X3, data = Train)\n",
    "#### You would use the following command to build your model:\n",
    "#### LinReg = lm(Y ~ ., data = Train)\n",
    "#### What is the Multiple R-squared value of lmScore on the training set?"
   ]
  },
  {
   "cell_type": "code",
   "execution_count": 8,
   "metadata": {},
   "outputs": [
    {
     "data": {
      "text/plain": [
       "\n",
       "Call:\n",
       "lm(formula = readingScore ~ ., data = pisaTrain)\n",
       "\n",
       "Residuals:\n",
       "    Min      1Q  Median      3Q     Max \n",
       "-247.44  -48.86    1.86   49.77  217.18 \n",
       "\n",
       "Coefficients:\n",
       "                                                Estimate Std. Error t value\n",
       "(Intercept)                                   143.766333  33.841226   4.248\n",
       "grade                                          29.542707   2.937399  10.057\n",
       "male                                          -14.521653   3.155926  -4.601\n",
       "raceethAmerican Indian/Alaska Native          -67.277327  16.786935  -4.008\n",
       "raceethAsian                                   -4.110325   9.220071  -0.446\n",
       "raceethBlack                                  -67.012347   5.460883 -12.271\n",
       "raceethHispanic                               -38.975486   5.177743  -7.528\n",
       "raceethMore than one race                     -16.922522   8.496268  -1.992\n",
       "raceethNative Hawaiian/Other Pacific Islander  -5.101601  17.005696  -0.300\n",
       "preschool                                      -4.463670   3.486055  -1.280\n",
       "expectBachelors                                55.267080   4.293893  12.871\n",
       "motherHS                                        6.058774   6.091423   0.995\n",
       "motherBachelors                                12.638068   3.861457   3.273\n",
       "motherWork                                     -2.809101   3.521827  -0.798\n",
       "fatherHS                                        4.018214   5.579269   0.720\n",
       "fatherBachelors                                16.929755   3.995253   4.237\n",
       "fatherWork                                      5.842798   4.395978   1.329\n",
       "selfBornUS                                     -3.806278   7.323718  -0.520\n",
       "motherBornUS                                   -8.798153   6.587621  -1.336\n",
       "fatherBornUS                                    4.306994   6.263875   0.688\n",
       "englishAtHome                                   8.035685   6.859492   1.171\n",
       "computerForSchoolwork                          22.500232   5.702562   3.946\n",
       "read30MinsADay                                 34.871924   3.408447  10.231\n",
       "minutesPerWeekEnglish                           0.012788   0.010712   1.194\n",
       "studentsInEnglish                              -0.286631   0.227819  -1.258\n",
       "schoolHasLibrary                               12.215085   9.264884   1.318\n",
       "publicSchool                                  -16.857475   6.725614  -2.506\n",
       "urban                                          -0.110132   3.962724  -0.028\n",
       "schoolSize                                      0.006540   0.002197   2.977\n",
       "                                              Pr(>|t|)    \n",
       "(Intercept)                                   2.24e-05 ***\n",
       "grade                                          < 2e-16 ***\n",
       "male                                          4.42e-06 ***\n",
       "raceethAmerican Indian/Alaska Native          6.32e-05 ***\n",
       "raceethAsian                                   0.65578    \n",
       "raceethBlack                                   < 2e-16 ***\n",
       "raceethHispanic                               7.29e-14 ***\n",
       "raceethMore than one race                      0.04651 *  \n",
       "raceethNative Hawaiian/Other Pacific Islander  0.76421    \n",
       "preschool                                      0.20052    \n",
       "expectBachelors                                < 2e-16 ***\n",
       "motherHS                                       0.32001    \n",
       "motherBachelors                                0.00108 ** \n",
       "motherWork                                     0.42517    \n",
       "fatherHS                                       0.47147    \n",
       "fatherBachelors                               2.35e-05 ***\n",
       "fatherWork                                     0.18393    \n",
       "selfBornUS                                     0.60331    \n",
       "motherBornUS                                   0.18182    \n",
       "fatherBornUS                                   0.49178    \n",
       "englishAtHome                                  0.24153    \n",
       "computerForSchoolwork                         8.19e-05 ***\n",
       "read30MinsADay                                 < 2e-16 ***\n",
       "minutesPerWeekEnglish                          0.23264    \n",
       "studentsInEnglish                              0.20846    \n",
       "schoolHasLibrary                               0.18749    \n",
       "publicSchool                                   0.01226 *  \n",
       "urban                                          0.97783    \n",
       "schoolSize                                     0.00294 ** \n",
       "---\n",
       "Signif. codes:  0 ‘***’ 0.001 ‘**’ 0.01 ‘*’ 0.05 ‘.’ 0.1 ‘ ’ 1\n",
       "\n",
       "Residual standard error: 73.81 on 2385 degrees of freedom\n",
       "Multiple R-squared:  0.3251,\tAdjusted R-squared:  0.3172 \n",
       "F-statistic: 41.04 on 28 and 2385 DF,  p-value: < 2.2e-16\n"
      ]
     },
     "metadata": {},
     "output_type": "display_data"
    }
   ],
   "source": [
    "pisaTrain$raceeth = relevel(pisaTrain$raceeth, \"White\")\n",
    "pisaTest$raceeth = relevel(pisaTest$raceeth, \"White\")\n",
    "\n",
    "lmScore  <- lm(readingScore ~ ., data=pisaTrain) # instead of type all variables names you can just type (.)\n",
    "summary(lmScore)"
   ]
  },
  {
   "cell_type": "markdown",
   "metadata": {},
   "source": [
    "### <font color='red'>Note</font> that this $R^2$ is lower than the ones for the models we saw in the lectures and recitation. This does not necessarily imply that the model is of poor quality. More often than not, it simply means that the prediction problem at hand (predicting a student's test score based on demographic and school-related variables) is more difficult than other prediction problems (like predicting a team's number of wins from their runs scored and allowed, or predicting the quality of wine from weather conditions)."
   ]
  },
  {
   "cell_type": "markdown",
   "metadata": {},
   "source": [
    "# Problem 3.2 - Computing the root-mean squared error of the model\n",
    "#### What is the training-set root-mean squared error (RMSE) of lmScore?"
   ]
  },
  {
   "cell_type": "code",
   "execution_count": 9,
   "metadata": {},
   "outputs": [
    {
     "data": {
      "text/html": [
       "73.3655514329845"
      ],
      "text/latex": [
       "73.3655514329845"
      ],
      "text/markdown": [
       "73.3655514329845"
      ],
      "text/plain": [
       "[1] 73.36555"
      ]
     },
     "metadata": {},
     "output_type": "display_data"
    }
   ],
   "source": [
    "SSE  <- sum((lmScore$residuals)^2)\n",
    "(SST  <- sqrt(SSE/nrow(pisaTrain)))"
   ]
  },
  {
   "cell_type": "markdown",
   "metadata": {},
   "source": [
    "# Problem 3.3 - Comparing predictions for similar students\n",
    "#### Consider two students A and B. They have all variable values the same, except that student A is in grade 11 and student B is in grade 9. What is the predicted reading score of student A minus the predicted reading score of student B?\n",
    "<font color='red'>-59.09</font><br>\n",
    "<font color='red'>-29.54</font><br>\n",
    "<font color='red'>0</font><br>\n",
    "<font color='red'>29.54</font><br>\n",
    "<font color='red'>59.09</font><br>\n",
    "<font color='red'>The difference cannot be determined without more information about the two students</font><br>"
   ]
  },
  {
   "cell_type": "code",
   "execution_count": 10,
   "metadata": {},
   "outputs": [
    {
     "data": {
      "text/html": [
       "59.085414"
      ],
      "text/latex": [
       "59.085414"
      ],
      "text/markdown": [
       "59.085414"
      ],
      "text/plain": [
       "[1] 59.08541"
      ]
     },
     "metadata": {},
     "output_type": "display_data"
    }
   ],
   "source": [
    "# becouse Estimate of variable (grade) is 29.542707 so we compute:\n",
    "(11 - 9) * 29.542707 "
   ]
  },
  {
   "cell_type": "markdown",
   "metadata": {},
   "source": [
    "# Problem 3.4 - Interpreting model coefficients\n",
    "#### What is the meaning of the coefficient associated with variable raceethAsian?\n",
    "<font color='red'>Predicted average reading score of an Asian student</font><br>\n",
    "<font color='red'>Difference between the average reading score of an Asian student and the average reading score of a white student</font><br>\n",
    "<font color='red'>Difference between the average reading score of an Asian student and the average reading score of all the students in the dataset</font><br>\n",
    "<font color='red'>Predicted difference in the reading score between an Asian student and a white student who is otherwise identical</font> # Correct <br>"
   ]
  },
  {
   "cell_type": "markdown",
   "metadata": {},
   "source": [
    "# Problem 3.5 - Identifying variables lacking statistical significance\n",
    "#### Based on the significance codes, which variables are candidates for removal from the model? Select all that apply. (We'll assume that the factor variable raceeth should only be removed if none of its levels are significant.)\n",
    "<font color='red'>grade</font><br>\n",
    "<font color='red'>male</font><br>\n",
    "<font color='red'>raceeth</font><br>\n",
    "<font color='red'>preschool</font> # Correct <br>\n",
    "<font color='red'>expectBachelors</font><br>\n",
    "<font color='red'>motherHS</font> # Correct <br>\n",
    "<font color='red'>motherBachelors</font><br>\n",
    "<font color='red'>motherWork</font> # Correct <br>\n",
    "<font color='red'>fatherHS</font> # Correct <br>\n",
    "<font color='red'>fatherBachelors</font><br>\n",
    "<font color='red'>fatherWork</font> # Correct <br>\n",
    "<font color='red'>selfBornUS</font> # Correct <br>\n",
    "<font color='red'>motherBornUS</font> # Correct <br>\n",
    "<font color='red'>fatherBornUS</font> # Correct <br>\n",
    "<font color='red'>englishAtHome</font> # Correct <br>\n",
    "<font color='red'>computerForSchoolwork</font><br>\n",
    "<font color='red'>read30MinsADay</font><br>\n",
    "<font color='red'>minutesPerWeekEnglish</font> # Correct <br>\n",
    "<font color='red'>studentsInEnglish</font> # Correct <br>\n",
    "<font color='red'>schoolHasLibrary</font> # Correct <br>\n",
    "<font color='red'>publicSchool</font><br>\n",
    "<font color='red'>urban</font> # Correct <br>\n",
    "<font color='red'>schoolSize</font><br>"
   ]
  },
  {
   "cell_type": "markdown",
   "metadata": {},
   "source": [
    "# Problem 4.1 - Predicting on unseen data\n",
    "### Using the \"predict\" function and supplying the \"newdata\" argument, use the lmScore model to predict the reading scores of students in pisaTest. Call this vector of predictions \"predTest\". Do not change the variables in the model (for example, do not remove variables that we found were not significant in the previous part of this problem). Use the summary function to describe the test set predictions.\n",
    "### What is the range between the maximum and minimum predicted reading score on the test set?"
   ]
  },
  {
   "cell_type": "code",
   "execution_count": 11,
   "metadata": {},
   "outputs": [
    {
     "data": {
      "text/html": [
       "284.468311795137"
      ],
      "text/latex": [
       "284.468311795137"
      ],
      "text/markdown": [
       "284.468311795137"
      ],
      "text/plain": [
       "[1] 284.4683"
      ]
     },
     "metadata": {},
     "output_type": "display_data"
    }
   ],
   "source": [
    "predTest <- predict(lmScore, newdata = pisaTest)\n",
    "max(predTest) - min(predTest)"
   ]
  },
  {
   "cell_type": "markdown",
   "metadata": {},
   "source": [
    "# Problem 4.2 - Test set SSE and RMSE\n",
    "### What is the sum of squared errors (SSE) of lmScore on the testing set?"
   ]
  },
  {
   "cell_type": "code",
   "execution_count": 12,
   "metadata": {},
   "outputs": [
    {
     "data": {
      "text/html": [
       "5762082.37114443"
      ],
      "text/latex": [
       "5762082.37114443"
      ],
      "text/markdown": [
       "5762082.37114443"
      ],
      "text/plain": [
       "[1] 5762082"
      ]
     },
     "metadata": {},
     "output_type": "display_data"
    }
   ],
   "source": [
    "(SSE <- sum((pisaTest$readingScore - predTest)^2))"
   ]
  },
  {
   "cell_type": "markdown",
   "metadata": {},
   "source": [
    "### What is the root-mean squared error (RMSE) of lmScore on the testing set?"
   ]
  },
  {
   "cell_type": "code",
   "execution_count": 13,
   "metadata": {},
   "outputs": [
    {
     "data": {
      "text/html": [
       "76.2907938310922"
      ],
      "text/latex": [
       "76.2907938310922"
      ],
      "text/markdown": [
       "76.2907938310922"
      ],
      "text/plain": [
       "[1] 76.29079"
      ]
     },
     "metadata": {},
     "output_type": "display_data"
    }
   ],
   "source": [
    "(RMSE  <- sqrt(SSE / nrow(pisaTest)))"
   ]
  },
  {
   "cell_type": "markdown",
   "metadata": {},
   "source": [
    "# Problem 4.3 - Baseline prediction and test-set SSE\n",
    "### What is the predicted test score used in the baseline model? Remember to compute this value using the training set and not the test set."
   ]
  },
  {
   "cell_type": "code",
   "execution_count": 14,
   "metadata": {},
   "outputs": [
    {
     "data": {
      "text/html": [
       "517.962887323944"
      ],
      "text/latex": [
       "517.962887323944"
      ],
      "text/markdown": [
       "517.962887323944"
      ],
      "text/plain": [
       "[1] 517.9629"
      ]
     },
     "metadata": {},
     "output_type": "display_data"
    }
   ],
   "source": [
    "mean(pisaTrain$readingScore)"
   ]
  },
  {
   "cell_type": "markdown",
   "metadata": {},
   "source": [
    "### What is the sum of squared errors of the baseline model on the testing set? HINT: We call the sum of squared errors for the baseline model the total sum of squares (SST)."
   ]
  },
  {
   "cell_type": "code",
   "execution_count": 15,
   "metadata": {},
   "outputs": [
    {
     "data": {
      "text/html": [
       "7802354.07761384"
      ],
      "text/latex": [
       "7802354.07761384"
      ],
      "text/markdown": [
       "7802354.07761384"
      ],
      "text/plain": [
       "[1] 7802354"
      ]
     },
     "metadata": {},
     "output_type": "display_data"
    }
   ],
   "source": [
    "sum((pisaTest$readingScore - 517.962887323944)^2)"
   ]
  },
  {
   "cell_type": "markdown",
   "metadata": {},
   "source": [
    "# Problem 4.4 - Test-set R-squared\n",
    "### What is the test-set R-squared value of lmScore?"
   ]
  },
  {
   "cell_type": "code",
   "execution_count": 16,
   "metadata": {},
   "outputs": [
    {
     "data": {
      "text/html": [
       "0.261494375437698"
      ],
      "text/latex": [
       "0.261494375437698"
      ],
      "text/markdown": [
       "0.261494375437698"
      ],
      "text/plain": [
       "[1] 0.2614944"
      ]
     },
     "metadata": {},
     "output_type": "display_data"
    }
   ],
   "source": [
    "SSE <- sum((pisaTest$readingScore - predTest)^2)\n",
    "SST <- sum((pisaTest$readingScore - mean(pisaTrain$readingScore))^2)\n",
    "(R2 <- 1 - SSE / SST)"
   ]
  }
 ],
 "metadata": {
  "kernelspec": {
   "display_name": "R",
   "language": "R",
   "name": "ir"
  },
  "language_info": {
   "codemirror_mode": "r",
   "file_extension": ".r",
   "mimetype": "text/x-r-source",
   "name": "R",
   "pygments_lexer": "r",
   "version": "3.5.1"
  }
 },
 "nbformat": 4,
 "nbformat_minor": 2
}
