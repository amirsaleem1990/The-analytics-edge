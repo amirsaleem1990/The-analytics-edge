{
 "cells": [
  {
   "cell_type": "markdown",
   "metadata": {},
   "source": [
    "### https://ocw.mit.edu/courses/sloan-school-of-management/15-071-the-analytics-edge-spring-2017/linear-regression/assignment-2/state-data"
   ]
  },
  {
   "cell_type": "markdown",
   "metadata": {},
   "source": [
    "# <font color='green'>State Data</font>\n",
    "#### We often take data for granted. However, one of the hardest parts about analyzing a problem you're interested in can be to find good data to answer the questions you want to ask. As you're learning R, though, there are many datasets that R has built in that you can take advantage of.\n",
    "#### In this problem, we will be examining the \"state\" dataset, which has data from the 1970s on all fifty US states. For each state, the dataset includes the population, per capita income, illiteracy rate, murder rate, high school graduation rate, average number of frost days, area, latitude and longitude, division the state belongs to, region the state belongs to, and two-letter abbreviation.\n",
    "#### Load the dataset and convert it to a data frame by running the following two commands in R:\n",
    "#### data(state)\n",
    "#### statedata = cbind(data.frame(state.x77), state.abb, state.area, state.center,  state.division, state.name, state.region)\n",
    "#### If you can't access the state dataset in R, here is a CSV file with the same data that you can load into R using the read.csv function: statedata (CSV).\n",
    "#### After you have loaded the data into R, inspect the data set using the command: str(statedata)\n",
    "#### This dataset has 50 observations (one for each US state) and the following 15 variables:     \n",
    "- Population - the population estimate of the state in 1975\n",
    "- Income - per capita income in 1974\n",
    "- Illiteracy - illiteracy rates in 1970, as a percent of the population\n",
    "- Life.Exp - the life expectancy in years of residents of the state in 1970\n",
    "- Murder - the murder and non-negligent manslaughter rate per 100,000 population in 1976 \n",
    "- HS.Grad - percent of high-school graduates in 1970\n",
    "- Frost - the mean number of days with minimum temperature below freezing from 1931–1960 in the capital or a large city of the state\n",
    "- Area - the land area (in square miles) of the state\n",
    "- state.abb - a 2-letter abreviation for each state\n",
    "- state.area - the area of each state, in square miles\n",
    "- x - the longitude of the center of the state\n",
    "- y - the latitude of the center of the state\n",
    "- state.division - the division each state belongs to (New England, Middle Atlantic, South Atlantic, East South Central, West South Central, East North Central, West North Central, Mountain, or Pacific)\n",
    "- state.name - the full names of each state\n",
    "- state.region - the region each state belong to (Northeast, South, North Central, or West)"
   ]
  },
  {
   "cell_type": "code",
   "execution_count": 1,
   "metadata": {},
   "outputs": [
    {
     "name": "stdout",
     "output_type": "stream",
     "text": [
      "'data.frame':\t50 obs. of  15 variables:\n",
      " $ Population    : int  3615 365 2212 2110 21198 2541 3100 579 8277 4931 ...\n",
      " $ Income        : int  3624 6315 4530 3378 5114 4884 5348 4809 4815 4091 ...\n",
      " $ Illiteracy    : num  2.1 1.5 1.8 1.9 1.1 0.7 1.1 0.9 1.3 2 ...\n",
      " $ Life.Exp      : num  69 69.3 70.5 70.7 71.7 ...\n",
      " $ Murder        : num  15.1 11.3 7.8 10.1 10.3 6.8 3.1 6.2 10.7 13.9 ...\n",
      " $ HS.Grad       : num  41.3 66.7 58.1 39.9 62.6 63.9 56 54.6 52.6 40.6 ...\n",
      " $ Frost         : int  20 152 15 65 20 166 139 103 11 60 ...\n",
      " $ Area          : int  50708 566432 113417 51945 156361 103766 4862 1982 54090 58073 ...\n",
      " $ state.abb     : Factor w/ 50 levels \"AK\",\"AL\",\"AR\",..: 2 1 4 3 5 6 7 8 9 10 ...\n",
      " $ state.area    : int  51609 589757 113909 53104 158693 104247 5009 2057 58560 58876 ...\n",
      " $ x             : num  -86.8 -127.2 -111.6 -92.3 -119.8 ...\n",
      " $ y             : num  32.6 49.2 34.2 34.7 36.5 ...\n",
      " $ state.division: Factor w/ 9 levels \"East North Central\",..: 2 6 4 9 6 4 5 7 7 7 ...\n",
      " $ state.name    : Factor w/ 50 levels \"Alabama\",\"Alaska\",..: 1 2 3 4 5 6 7 8 9 10 ...\n",
      " $ state.region  : Factor w/ 4 levels \"North Central\",..: 3 4 4 3 4 4 2 3 3 3 ...\n"
     ]
    }
   ],
   "source": [
    "statedata <- read.csv('../data/statedata.csv')\n",
    "str(statedata)"
   ]
  },
  {
   "cell_type": "markdown",
   "metadata": {},
   "source": [
    "# Problem 1.1 - Data Exploration\n",
    "#### We begin by exploring the data. Plot all of the states' centers with latitude on the y axis (the \"y\" variable in our dataset) and longitude on the x axis (the \"x\" variable in our dataset). The shape of the plot should look like the outline of the United States! Note that Alaska and Hawaii have had their coordinates adjusted to appear just off of the west coast.\n",
    "#### In the R command you used to generate this plot, which variable name did you use as the first argument?\n",
    "- <font color='red'>statedata\\\\$y</font><br>\n",
    "- <font color='red'>statedata\\\\$x</font> # Correct<br>\n",
    "- <font color='red'>I used a different variable name.</font><br>"
   ]
  },
  {
   "cell_type": "code",
   "execution_count": 2,
   "metadata": {},
   "outputs": [
    {
     "data": {
      "image/png": "[encoded data removed]",
      "text/plain": [
       "plot without title"
      ]
     },
     "metadata": {},
     "output_type": "display_data"
    }
   ],
   "source": [
    "plot(statedata$x, statedata$y)"
   ]
  },
  {
   "cell_type": "markdown",
   "metadata": {},
   "source": [
    "# Problem 1.2 - Data Exploration\n",
    "#### Using the tapply command, determine which region of the US (West, North Central, South, or Northeast) has the highest average high school graduation rate of all the states in the region:\n",
    "- <font color='red'>West</font> # Correct <br>\n",
    "- <font color='red'>North Central</font><br>\n",
    "- <font color='red'>South</font><br>\n",
    "- <font color='red'>Northeast</font><br>"
   ]
  },
  {
   "cell_type": "code",
   "execution_count": 3,
   "metadata": {},
   "outputs": [
    {
     "data": {
      "text/html": [
       "<strong>West:</strong> 4"
      ],
      "text/latex": [
       "\\textbf{West:} 4"
      ],
      "text/markdown": [
       "**West:** 4"
      ],
      "text/plain": [
       "West \n",
       "   4 "
      ]
     },
     "metadata": {},
     "output_type": "display_data"
    }
   ],
   "source": [
    "which.max(tapply(statedata$HS.Grad, statedata$state.region, sum))"
   ]
  },
  {
   "cell_type": "markdown",
   "metadata": {},
   "source": [
    "# Problem 1.3 - Data Exploration\n",
    "#### Now, make a boxplot of the murder rate by region (for more information about creating boxplots in R, type ?boxplot in your console).\n",
    "#### Which region has the highest median murder rate?\n",
    "- <font color='red'>Northeast</font><br>\n",
    "- <font color='red'>South</font><br>\n",
    "- <font color='red'>North Central</font><br>\n",
    "- <font color='red'>West</font><br>"
   ]
  },
  {
   "cell_type": "code",
   "execution_count": 4,
   "metadata": {},
   "outputs": [
    {
     "data": {
      "image/png": "[encoded data removed]",
      "text/plain": [
       "Plot with title “Murders in each State”"
      ]
     },
     "metadata": {},
     "output_type": "display_data"
    }
   ],
   "source": [
    "boxplot(statedata$Murder ~ statedata$state.region, xlab='States', ylab=\"Murders\", main=\"Murders in each State\")"
   ]
  },
  {
   "cell_type": "markdown",
   "metadata": {},
   "source": [
    "# Problem 1.4 - Data Exploration\n",
    "#### You should see that there is an outlier in the Northeast region of the boxplot you just generated. Which state does this correspond to? (Hint: There are many ways to find the answer to this question, but one way is to use the subset command to only look at the Northeast data.)\n",
    "- <font color='red'>Delaware</font><br>\n",
    "- <font color='red'>Rhode Island</font><br>\n",
    "- <font color='red'>Maine</font><br>\n",
    "- <font color='red'>New York</font> # Correct <br>"
   ]
  },
  {
   "cell_type": "code",
   "execution_count": 5,
   "metadata": {},
   "outputs": [
    {
     "data": {
      "text/html": [
       "New York\n",
       "<details>\n",
       "\t<summary style=display:list-item;cursor:pointer>\n",
       "\t\t<strong>Levels</strong>:\n",
       "\t</summary>\n",
       "\t<ol class=list-inline>\n",
       "\t\t<li>'Alabama'</li>\n",
       "\t\t<li>'Alaska'</li>\n",
       "\t\t<li>'Arizona'</li>\n",
       "\t\t<li>'Arkansas'</li>\n",
       "\t\t<li>'California'</li>\n",
       "\t\t<li>'Colorado'</li>\n",
       "\t\t<li>'Connecticut'</li>\n",
       "\t\t<li>'Delaware'</li>\n",
       "\t\t<li>'Florida'</li>\n",
       "\t\t<li>'Georgia'</li>\n",
       "\t\t<li>'Hawaii'</li>\n",
       "\t\t<li>'Idaho'</li>\n",
       "\t\t<li>'Illinois'</li>\n",
       "\t\t<li>'Indiana'</li>\n",
       "\t\t<li>'Iowa'</li>\n",
       "\t\t<li>'Kansas'</li>\n",
       "\t\t<li>'Kentucky'</li>\n",
       "\t\t<li>'Louisiana'</li>\n",
       "\t\t<li>'Maine'</li>\n",
       "\t\t<li>'Maryland'</li>\n",
       "\t\t<li>'Massachusetts'</li>\n",
       "\t\t<li>'Michigan'</li>\n",
       "\t\t<li>'Minnesota'</li>\n",
       "\t\t<li>'Mississippi'</li>\n",
       "\t\t<li>'Missouri'</li>\n",
       "\t\t<li>'Montana'</li>\n",
       "\t\t<li>'Nebraska'</li>\n",
       "\t\t<li>'Nevada'</li>\n",
       "\t\t<li>'New Hampshire'</li>\n",
       "\t\t<li>'New Jersey'</li>\n",
       "\t\t<li>'New Mexico'</li>\n",
       "\t\t<li>'New York'</li>\n",
       "\t\t<li>'North Carolina'</li>\n",
       "\t\t<li>'North Dakota'</li>\n",
       "\t\t<li>'Ohio'</li>\n",
       "\t\t<li>'Oklahoma'</li>\n",
       "\t\t<li>'Oregon'</li>\n",
       "\t\t<li>'Pennsylvania'</li>\n",
       "\t\t<li>'Rhode Island'</li>\n",
       "\t\t<li>'South Carolina'</li>\n",
       "\t\t<li>'South Dakota'</li>\n",
       "\t\t<li>'Tennessee'</li>\n",
       "\t\t<li>'Texas'</li>\n",
       "\t\t<li>'Utah'</li>\n",
       "\t\t<li>'Vermont'</li>\n",
       "\t\t<li>'Virginia'</li>\n",
       "\t\t<li>'Washington'</li>\n",
       "\t\t<li>'West Virginia'</li>\n",
       "\t\t<li>'Wisconsin'</li>\n",
       "\t\t<li>'Wyoming'</li>\n",
       "\t</ol>\n",
       "</details>"
      ],
      "text/latex": [
       "New York\n",
       "\\emph{Levels}: \\begin{enumerate*}\n",
       "\\item 'Alabama'\n",
       "\\item 'Alaska'\n",
       "\\item 'Arizona'\n",
       "\\item 'Arkansas'\n",
       "\\item 'California'\n",
       "\\item 'Colorado'\n",
       "\\item 'Connecticut'\n",
       "\\item 'Delaware'\n",
       "\\item 'Florida'\n",
       "\\item 'Georgia'\n",
       "\\item 'Hawaii'\n",
       "\\item 'Idaho'\n",
       "\\item 'Illinois'\n",
       "\\item 'Indiana'\n",
       "\\item 'Iowa'\n",
       "\\item 'Kansas'\n",
       "\\item 'Kentucky'\n",
       "\\item 'Louisiana'\n",
       "\\item 'Maine'\n",
       "\\item 'Maryland'\n",
       "\\item 'Massachusetts'\n",
       "\\item 'Michigan'\n",
       "\\item 'Minnesota'\n",
       "\\item 'Mississippi'\n",
       "\\item 'Missouri'\n",
       "\\item 'Montana'\n",
       "\\item 'Nebraska'\n",
       "\\item 'Nevada'\n",
       "\\item 'New Hampshire'\n",
       "\\item 'New Jersey'\n",
       "\\item 'New Mexico'\n",
       "\\item 'New York'\n",
       "\\item 'North Carolina'\n",
       "\\item 'North Dakota'\n",
       "\\item 'Ohio'\n",
       "\\item 'Oklahoma'\n",
       "\\item 'Oregon'\n",
       "\\item 'Pennsylvania'\n",
       "\\item 'Rhode Island'\n",
       "\\item 'South Carolina'\n",
       "\\item 'South Dakota'\n",
       "\\item 'Tennessee'\n",
       "\\item 'Texas'\n",
       "\\item 'Utah'\n",
       "\\item 'Vermont'\n",
       "\\item 'Virginia'\n",
       "\\item 'Washington'\n",
       "\\item 'West Virginia'\n",
       "\\item 'Wisconsin'\n",
       "\\item 'Wyoming'\n",
       "\\end{enumerate*}\n"
      ],
      "text/markdown": [
       "New York\n",
       "**Levels**: 1. 'Alabama'\n",
       "2. 'Alaska'\n",
       "3. 'Arizona'\n",
       "4. 'Arkansas'\n",
       "5. 'California'\n",
       "6. 'Colorado'\n",
       "7. 'Connecticut'\n",
       "8. 'Delaware'\n",
       "9. 'Florida'\n",
       "10. 'Georgia'\n",
       "11. 'Hawaii'\n",
       "12. 'Idaho'\n",
       "13. 'Illinois'\n",
       "14. 'Indiana'\n",
       "15. 'Iowa'\n",
       "16. 'Kansas'\n",
       "17. 'Kentucky'\n",
       "18. 'Louisiana'\n",
       "19. 'Maine'\n",
       "20. 'Maryland'\n",
       "21. 'Massachusetts'\n",
       "22. 'Michigan'\n",
       "23. 'Minnesota'\n",
       "24. 'Mississippi'\n",
       "25. 'Missouri'\n",
       "26. 'Montana'\n",
       "27. 'Nebraska'\n",
       "28. 'Nevada'\n",
       "29. 'New Hampshire'\n",
       "30. 'New Jersey'\n",
       "31. 'New Mexico'\n",
       "32. 'New York'\n",
       "33. 'North Carolina'\n",
       "34. 'North Dakota'\n",
       "35. 'Ohio'\n",
       "36. 'Oklahoma'\n",
       "37. 'Oregon'\n",
       "38. 'Pennsylvania'\n",
       "39. 'Rhode Island'\n",
       "40. 'South Carolina'\n",
       "41. 'South Dakota'\n",
       "42. 'Tennessee'\n",
       "43. 'Texas'\n",
       "44. 'Utah'\n",
       "45. 'Vermont'\n",
       "46. 'Virginia'\n",
       "47. 'Washington'\n",
       "48. 'West Virginia'\n",
       "49. 'Wisconsin'\n",
       "50. 'Wyoming'\n",
       "\n",
       "\n"
      ],
      "text/plain": [
       "[1] New York\n",
       "50 Levels: Alabama Alaska Arizona Arkansas California Colorado ... Wyoming"
      ]
     },
     "metadata": {},
     "output_type": "display_data"
    }
   ],
   "source": [
    "a <- subset(statedata, state.region == \"Northeast\")\n",
    "subset(a, a$Murder == max(a$Murder))$state.name"
   ]
  },
  {
   "cell_type": "markdown",
   "metadata": {},
   "source": [
    "# Problem 2.1 - Predicting Life Expectancy - An Initial Model\n",
    "#### We would like to build a model to predict life expectancy by state using the state statistics we have in our dataset.<br>\n",
    "#### Build the model with all potential variables included (Population, Income, Illiteracy, Murder, HS.Grad, Frost, and Area). Note that you should use the variable \"Area\" in your model, NOT the variable \"state.area\".<br>\n",
    "#### What is the coefficient for \"Income\" in your linear regression model?"
   ]
  },
  {
   "cell_type": "code",
   "execution_count": 6,
   "metadata": {},
   "outputs": [
    {
     "data": {
      "text/html": [
       "<strong>Estimate:</strong> -2.18042378253191e-05"
      ],
      "text/latex": [
       "\\textbf{Estimate:} -2.18042378253191e-05"
      ],
      "text/markdown": [
       "**Estimate:** -2.18042378253191e-05"
      ],
      "text/plain": [
       "     Estimate \n",
       "-2.180424e-05 "
      ]
     },
     "metadata": {},
     "output_type": "display_data"
    }
   ],
   "source": [
    "model1 <- lm(Life.Exp ~ Population + Income + Illiteracy +  Murder + HS.Grad + Frost + \n",
    "             Area,data=statedata)\n",
    "a  <- summary(model1)\n",
    "a$coefficients[\"Income\",][1]"
   ]
  },
  {
   "cell_type": "markdown",
   "metadata": {},
   "source": [
    "# Problem 2.2 - Predicting Life Expectancy - An Initial Model\n",
    "#### Call the coefficient for income x (the answer to Problem 2.1). What is the interpretation of the coefficient x?<br>\n",
    "- <font color='red'>For a one unit increase in income, predicted life expectancy increases by |x|</font><br>\n",
    "- <font color='red'>For a one unit increase in income, predicted life expectancy decreases by |x|</font> # Correct <br>\n",
    "- <font color='red'>For a one unit increase in predicted life expectancy, income decreases by |x|</font><br>\n",
    "- <font color='red'>For a one unit increase in predicted life expectancy, income increases by |x|</font><br>"
   ]
  },
  {
   "cell_type": "markdown",
   "metadata": {},
   "source": [
    "# Problem 2.3 - Predicting Life Expectancy - An Initial Model\n",
    "#### Now plot a graph of life expectancy vs. income using the command:\n",
    "#### plot(statedata\\\\$Income, statedata\\\\$Life.Exp)\n",
    "#### Visually observe the plot. What appears to be the relationship?\n",
    "- <font color='red'>Life expectancy is somewhat positively correlated with income.</font> # Correct <br>\n",
    "- <font color='red'>Life expectancy is somewhat negatively correlated with income.</font><br>\n",
    "- <font color='red'>Life expectancy is not correlated with income.</font><br>"
   ]
  },
  {
   "cell_type": "code",
   "execution_count": 7,
   "metadata": {},
   "outputs": [
    {
     "data": {
      "image/png": "[encoded data removed]",
      "text/plain": [
       "plot without title"
      ]
     },
     "metadata": {},
     "output_type": "display_data"
    }
   ],
   "source": [
    "plot(statedata$Income, statedata$Life.Exp)"
   ]
  },
  {
   "cell_type": "markdown",
   "metadata": {},
   "source": [
    "# Problem 2.4 - Predicting Life Expectancy - An Initial Model\n",
    "#### The model we built does not display the relationship we saw from the plot of life expectancy vs. income. Which of the following explanations seems the most reasonable?\n",
    "- <font color='red'>Income is not related to life expectancy.</font><br>\n",
    "- <font color='red'>Multicollinearity</font> # Correct <br>"
   ]
  },
  {
   "cell_type": "markdown",
   "metadata": {},
   "source": [
    "# Problem 3.1 - Predicting Life Expectancy - Refining the Model and Analyzing Predictions<br>\n",
    "#### Recall that we discussed the principle of simplicity: that is, a model with fewer variables is preferable to a model with many unnnecessary variables. Experiment with removing independent variables from the original model. Remember to use the significance of the coefficients to decide which variables to remove (remove the one with the largest \"p-value\" first, or the one with the \"t value\" closest to zero), and to remove them one at a time (this is called \"backwards variable selection\"). This is important due to multicollinearity issues - removing one insignificant variable may make another previously insignificant variable become significant.<br>\n",
    "#### You should be able to find a good model with only 4 independent variables, instead of the original 7. Which variables does this model contain?\n",
    "- <font color='red'>Income, HS.Grad, Frost, Murder</font><br>\n",
    "- <font color='red'>HS.Grad, Population, Income, Frost</font><br>\n",
    "- <font color='red'>Frost, Murder, HS.Grad, Illiteracy</font><br>\n",
    "- <font color='red'>Population, Murder, Frost, HS.Grad</font> # Correct <br>"
   ]
  },
  {
   "cell_type": "code",
   "execution_count": 8,
   "metadata": {
    "scrolled": true
   },
   "outputs": [
    {
     "data": {
      "text/plain": [
       "\n",
       "Call:\n",
       "lm(formula = Life.Exp ~ Population + Murder + HS.Grad + Frost, \n",
       "    data = statedata)\n",
       "\n",
       "Residuals:\n",
       "     Min       1Q   Median       3Q      Max \n",
       "-1.47095 -0.53464 -0.03701  0.57621  1.50683 \n",
       "\n",
       "Coefficients:\n",
       "              Estimate Std. Error t value Pr(>|t|)    \n",
       "(Intercept)  7.103e+01  9.529e-01  74.542  < 2e-16 ***\n",
       "Population   5.014e-05  2.512e-05   1.996  0.05201 .  \n",
       "Murder      -3.001e-01  3.661e-02  -8.199 1.77e-10 ***\n",
       "HS.Grad      4.658e-02  1.483e-02   3.142  0.00297 ** \n",
       "Frost       -5.943e-03  2.421e-03  -2.455  0.01802 *  \n",
       "---\n",
       "Signif. codes:  0 ‘***’ 0.001 ‘**’ 0.01 ‘*’ 0.05 ‘.’ 0.1 ‘ ’ 1\n",
       "\n",
       "Residual standard error: 0.7197 on 45 degrees of freedom\n",
       "Multiple R-squared:  0.736,\tAdjusted R-squared:  0.7126 \n",
       "F-statistic: 31.37 on 4 and 45 DF,  p-value: 1.696e-12\n"
      ]
     },
     "metadata": {},
     "output_type": "display_data"
    }
   ],
   "source": [
    "model2 <- lm(Life.Exp ~ Population +  Murder + HS.Grad + Frost,data=statedata)\n",
    "summary(model2)"
   ]
  },
  {
   "cell_type": "markdown",
   "metadata": {},
   "source": [
    "# Problem 3.2 - Predicting Life Expectancy - Refining the Model and Analyzing Predictions<br>\n",
    "#### Removing insignificant variables changes the Multiple R-squared value of the model. By looking at the summary output for both the initial model (all independent variables) and the simplified model (only 4 independent variables) and using what you learned in class, which of the following correctly explains the change in the Multiple R-squared value?\n",
    "- <font color='red'>We expect the \"Multiple R-squared\" value of the simplified model to be slightly worse than that of the initial model. It can't be better than the \"Multiple R-squared\" value of the initial model.</font> # Correct <br>\n",
    "- <font color='red'>We expect the \"Multiple R-squared\" value of the simplified model to be slightly better than that of the initial model. It can't be worse than the \"Multiple R-squared\" value of the initial model.</font><br>\n",
    "- <font color='red'>We expect the \"Multiple R-squared\" of the simplified model to be about the same as the intial model (we have no way of knowing if it will be slightly worse or slightly better than the Multiple R-squared of the intial model).</font><br>"
   ]
  },
  {
   "cell_type": "markdown",
   "metadata": {},
   "source": [
    "# Problem 3.3 - Predicting Life Expectancy - Refining the Model and Analyzing Predictions\n",
    "#### Using the simplified 4 variable model that we created, we'll now take a look at how our predictions compare to the actual values.<br>\n",
    "#### Take a look at the vector of predictions by using the predict function (since we are just looking at predictions on the training set, you don't need to pass a \"newdata\" argument to the predict function).<br>\n",
    "#### Which state do we predict to have the lowest life expectancy? (Hint: use the sort function)<br>\n",
    "- <font color='red'>South Carolina</font><br>\n",
    "- <font color='red'>Mississippi</font><br>\n",
    "- <font color='red'>Alabama</font> # Correct <br>\n",
    "- <font color='red'>Georgia</font><br>"
   ]
  },
  {
   "cell_type": "code",
   "execution_count": 9,
   "metadata": {},
   "outputs": [
    {
     "data": {
      "text/html": [
       "<strong>Alabama:</strong> 1"
      ],
      "text/latex": [
       "\\textbf{Alabama:} 1"
      ],
      "text/markdown": [
       "**Alabama:** 1"
      ],
      "text/plain": [
       "Alabama \n",
       "      1 "
      ]
     },
     "metadata": {},
     "output_type": "display_data"
    }
   ],
   "source": [
    "pred <- predict(model2)\n",
    "new_data <- statedata\n",
    "new_data$pridictions <- pred\n",
    "which.min(tapply(new_data$pridictions, new_data$state.name, sum))"
   ]
  },
  {
   "cell_type": "markdown",
   "metadata": {},
   "source": [
    "### Which state actually has the lowest life expectancy? (Hint: use the which.min function)\n",
    "- <font color='red'>South Carolina</font> # Correct <br>\n",
    "- <font color='red'>Mississippi</font><br>\n",
    "- <font color='red'>Alabama</font><br>\n",
    "- <font color='red'>Georgia</font><br>"
   ]
  },
  {
   "cell_type": "code",
   "execution_count": 10,
   "metadata": {},
   "outputs": [
    {
     "data": {
      "text/html": [
       "<strong>South Carolina:</strong> 40"
      ],
      "text/latex": [
       "\\textbf{South Carolina:} 40"
      ],
      "text/markdown": [
       "**South Carolina:** 40"
      ],
      "text/plain": [
       "South Carolina \n",
       "            40 "
      ]
     },
     "metadata": {},
     "output_type": "display_data"
    }
   ],
   "source": [
    "which.min(tapply(new_data$Life.Exp, new_data$state.name, sum))"
   ]
  },
  {
   "cell_type": "markdown",
   "metadata": {},
   "source": [
    "# Problem 3.4 - Predicting Life Expectancy - Refining the Model and Analyzing Predictions\n",
    "#### Which state do we predict to have the highest life expectancy?\n",
    "- <font color='red'>Massachusetts</font><br>\n",
    "- <font color='red'>Maine</font><br>\n",
    "- <font color='red'>Washington</font> # Correct <br>\n",
    "- <font color='red'>Hawaii</font><br>"
   ]
  },
  {
   "cell_type": "code",
   "execution_count": 11,
   "metadata": {},
   "outputs": [
    {
     "data": {
      "text/html": [
       "<strong>Washington:</strong> 47"
      ],
      "text/latex": [
       "\\textbf{Washington:} 47"
      ],
      "text/markdown": [
       "**Washington:** 47"
      ],
      "text/plain": [
       "Washington \n",
       "        47 "
      ]
     },
     "metadata": {},
     "output_type": "display_data"
    }
   ],
   "source": [
    "which.max(tapply(new_data$pridictions, new_data$state.name, sum))"
   ]
  },
  {
   "cell_type": "markdown",
   "metadata": {},
   "source": [
    "#### Which state actually has the highest life expectancy?\n",
    "- <font color='red'>Massachusetts</font><br>\n",
    "- <font color='red'>Maine</font><br>\n",
    "- <font color='red'>Washington</font><br>\n",
    "- <font color='red'>Hawaii</font> # Correct <br>"
   ]
  },
  {
   "cell_type": "code",
   "execution_count": 12,
   "metadata": {},
   "outputs": [
    {
     "data": {
      "text/html": [
       "<strong>Hawaii:</strong> 11"
      ],
      "text/latex": [
       "\\textbf{Hawaii:} 11"
      ],
      "text/markdown": [
       "**Hawaii:** 11"
      ],
      "text/plain": [
       "Hawaii \n",
       "    11 "
      ]
     },
     "metadata": {},
     "output_type": "display_data"
    }
   ],
   "source": [
    "which.max(tapply(new_data$Life.Exp, new_data$state.name, sum))"
   ]
  },
  {
   "cell_type": "markdown",
   "metadata": {},
   "source": [
    "# Problem 3.5 - Predicting Life Expectancy - Refining the Model and Analyzing Predictions<br>\n",
    "### Take a look at the vector of residuals (the difference between the predicted and actual values).<br>\n",
    "### For which state do we make the smallest absolute error?\n",
    "- <font color='red'>Maine</font><br>\n",
    "- <font color='red'>Florida</font><br>\n",
    "- <font color='red'>Indiana</font><br>\n",
    "- <font color='red'>Illinois</font><br>"
   ]
  },
  {
   "cell_type": "code",
   "execution_count": 13,
   "metadata": {},
   "outputs": [
    {
     "data": {
      "text/html": [
       "Indiana\n",
       "<details>\n",
       "\t<summary style=display:list-item;cursor:pointer>\n",
       "\t\t<strong>Levels</strong>:\n",
       "\t</summary>\n",
       "\t<ol class=list-inline>\n",
       "\t\t<li>'Alabama'</li>\n",
       "\t\t<li>'Alaska'</li>\n",
       "\t\t<li>'Arizona'</li>\n",
       "\t\t<li>'Arkansas'</li>\n",
       "\t\t<li>'California'</li>\n",
       "\t\t<li>'Colorado'</li>\n",
       "\t\t<li>'Connecticut'</li>\n",
       "\t\t<li>'Delaware'</li>\n",
       "\t\t<li>'Florida'</li>\n",
       "\t\t<li>'Georgia'</li>\n",
       "\t\t<li>'Hawaii'</li>\n",
       "\t\t<li>'Idaho'</li>\n",
       "\t\t<li>'Illinois'</li>\n",
       "\t\t<li>'Indiana'</li>\n",
       "\t\t<li>'Iowa'</li>\n",
       "\t\t<li>'Kansas'</li>\n",
       "\t\t<li>'Kentucky'</li>\n",
       "\t\t<li>'Louisiana'</li>\n",
       "\t\t<li>'Maine'</li>\n",
       "\t\t<li>'Maryland'</li>\n",
       "\t\t<li>'Massachusetts'</li>\n",
       "\t\t<li>'Michigan'</li>\n",
       "\t\t<li>'Minnesota'</li>\n",
       "\t\t<li>'Mississippi'</li>\n",
       "\t\t<li>'Missouri'</li>\n",
       "\t\t<li>'Montana'</li>\n",
       "\t\t<li>'Nebraska'</li>\n",
       "\t\t<li>'Nevada'</li>\n",
       "\t\t<li>'New Hampshire'</li>\n",
       "\t\t<li>'New Jersey'</li>\n",
       "\t\t<li>'New Mexico'</li>\n",
       "\t\t<li>'New York'</li>\n",
       "\t\t<li>'North Carolina'</li>\n",
       "\t\t<li>'North Dakota'</li>\n",
       "\t\t<li>'Ohio'</li>\n",
       "\t\t<li>'Oklahoma'</li>\n",
       "\t\t<li>'Oregon'</li>\n",
       "\t\t<li>'Pennsylvania'</li>\n",
       "\t\t<li>'Rhode Island'</li>\n",
       "\t\t<li>'South Carolina'</li>\n",
       "\t\t<li>'South Dakota'</li>\n",
       "\t\t<li>'Tennessee'</li>\n",
       "\t\t<li>'Texas'</li>\n",
       "\t\t<li>'Utah'</li>\n",
       "\t\t<li>'Vermont'</li>\n",
       "\t\t<li>'Virginia'</li>\n",
       "\t\t<li>'Washington'</li>\n",
       "\t\t<li>'West Virginia'</li>\n",
       "\t\t<li>'Wisconsin'</li>\n",
       "\t\t<li>'Wyoming'</li>\n",
       "\t</ol>\n",
       "</details>"
      ],
      "text/latex": [
       "Indiana\n",
       "\\emph{Levels}: \\begin{enumerate*}\n",
       "\\item 'Alabama'\n",
       "\\item 'Alaska'\n",
       "\\item 'Arizona'\n",
       "\\item 'Arkansas'\n",
       "\\item 'California'\n",
       "\\item 'Colorado'\n",
       "\\item 'Connecticut'\n",
       "\\item 'Delaware'\n",
       "\\item 'Florida'\n",
       "\\item 'Georgia'\n",
       "\\item 'Hawaii'\n",
       "\\item 'Idaho'\n",
       "\\item 'Illinois'\n",
       "\\item 'Indiana'\n",
       "\\item 'Iowa'\n",
       "\\item 'Kansas'\n",
       "\\item 'Kentucky'\n",
       "\\item 'Louisiana'\n",
       "\\item 'Maine'\n",
       "\\item 'Maryland'\n",
       "\\item 'Massachusetts'\n",
       "\\item 'Michigan'\n",
       "\\item 'Minnesota'\n",
       "\\item 'Mississippi'\n",
       "\\item 'Missouri'\n",
       "\\item 'Montana'\n",
       "\\item 'Nebraska'\n",
       "\\item 'Nevada'\n",
       "\\item 'New Hampshire'\n",
       "\\item 'New Jersey'\n",
       "\\item 'New Mexico'\n",
       "\\item 'New York'\n",
       "\\item 'North Carolina'\n",
       "\\item 'North Dakota'\n",
       "\\item 'Ohio'\n",
       "\\item 'Oklahoma'\n",
       "\\item 'Oregon'\n",
       "\\item 'Pennsylvania'\n",
       "\\item 'Rhode Island'\n",
       "\\item 'South Carolina'\n",
       "\\item 'South Dakota'\n",
       "\\item 'Tennessee'\n",
       "\\item 'Texas'\n",
       "\\item 'Utah'\n",
       "\\item 'Vermont'\n",
       "\\item 'Virginia'\n",
       "\\item 'Washington'\n",
       "\\item 'West Virginia'\n",
       "\\item 'Wisconsin'\n",
       "\\item 'Wyoming'\n",
       "\\end{enumerate*}\n"
      ],
      "text/markdown": [
       "Indiana\n",
       "**Levels**: 1. 'Alabama'\n",
       "2. 'Alaska'\n",
       "3. 'Arizona'\n",
       "4. 'Arkansas'\n",
       "5. 'California'\n",
       "6. 'Colorado'\n",
       "7. 'Connecticut'\n",
       "8. 'Delaware'\n",
       "9. 'Florida'\n",
       "10. 'Georgia'\n",
       "11. 'Hawaii'\n",
       "12. 'Idaho'\n",
       "13. 'Illinois'\n",
       "14. 'Indiana'\n",
       "15. 'Iowa'\n",
       "16. 'Kansas'\n",
       "17. 'Kentucky'\n",
       "18. 'Louisiana'\n",
       "19. 'Maine'\n",
       "20. 'Maryland'\n",
       "21. 'Massachusetts'\n",
       "22. 'Michigan'\n",
       "23. 'Minnesota'\n",
       "24. 'Mississippi'\n",
       "25. 'Missouri'\n",
       "26. 'Montana'\n",
       "27. 'Nebraska'\n",
       "28. 'Nevada'\n",
       "29. 'New Hampshire'\n",
       "30. 'New Jersey'\n",
       "31. 'New Mexico'\n",
       "32. 'New York'\n",
       "33. 'North Carolina'\n",
       "34. 'North Dakota'\n",
       "35. 'Ohio'\n",
       "36. 'Oklahoma'\n",
       "37. 'Oregon'\n",
       "38. 'Pennsylvania'\n",
       "39. 'Rhode Island'\n",
       "40. 'South Carolina'\n",
       "41. 'South Dakota'\n",
       "42. 'Tennessee'\n",
       "43. 'Texas'\n",
       "44. 'Utah'\n",
       "45. 'Vermont'\n",
       "46. 'Virginia'\n",
       "47. 'Washington'\n",
       "48. 'West Virginia'\n",
       "49. 'Wisconsin'\n",
       "50. 'Wyoming'\n",
       "\n",
       "\n"
      ],
      "text/plain": [
       "[1] Indiana\n",
       "50 Levels: Alabama Alaska Arizona Arkansas California Colorado ... Wyoming"
      ]
     },
     "metadata": {},
     "output_type": "display_data"
    }
   ],
   "source": [
    "statedata[which.min(abs(model2$residuals)),]$state.name"
   ]
  },
  {
   "cell_type": "markdown",
   "metadata": {},
   "source": [
    "#### For which state do we make the largest absolute error?\n",
    "- <font color='red'>Hawaii</font><br>\n",
    "- <font color='red'>Maine</font><br>\n",
    "- <font color='red'>Texas</font><br>\n",
    "- <font color='red'>South Carolina</font><br>"
   ]
  },
  {
   "cell_type": "code",
   "execution_count": 14,
   "metadata": {},
   "outputs": [
    {
     "data": {
      "text/html": [
       "Hawaii\n",
       "<details>\n",
       "\t<summary style=display:list-item;cursor:pointer>\n",
       "\t\t<strong>Levels</strong>:\n",
       "\t</summary>\n",
       "\t<ol class=list-inline>\n",
       "\t\t<li>'Alabama'</li>\n",
       "\t\t<li>'Alaska'</li>\n",
       "\t\t<li>'Arizona'</li>\n",
       "\t\t<li>'Arkansas'</li>\n",
       "\t\t<li>'California'</li>\n",
       "\t\t<li>'Colorado'</li>\n",
       "\t\t<li>'Connecticut'</li>\n",
       "\t\t<li>'Delaware'</li>\n",
       "\t\t<li>'Florida'</li>\n",
       "\t\t<li>'Georgia'</li>\n",
       "\t\t<li>'Hawaii'</li>\n",
       "\t\t<li>'Idaho'</li>\n",
       "\t\t<li>'Illinois'</li>\n",
       "\t\t<li>'Indiana'</li>\n",
       "\t\t<li>'Iowa'</li>\n",
       "\t\t<li>'Kansas'</li>\n",
       "\t\t<li>'Kentucky'</li>\n",
       "\t\t<li>'Louisiana'</li>\n",
       "\t\t<li>'Maine'</li>\n",
       "\t\t<li>'Maryland'</li>\n",
       "\t\t<li>'Massachusetts'</li>\n",
       "\t\t<li>'Michigan'</li>\n",
       "\t\t<li>'Minnesota'</li>\n",
       "\t\t<li>'Mississippi'</li>\n",
       "\t\t<li>'Missouri'</li>\n",
       "\t\t<li>'Montana'</li>\n",
       "\t\t<li>'Nebraska'</li>\n",
       "\t\t<li>'Nevada'</li>\n",
       "\t\t<li>'New Hampshire'</li>\n",
       "\t\t<li>'New Jersey'</li>\n",
       "\t\t<li>'New Mexico'</li>\n",
       "\t\t<li>'New York'</li>\n",
       "\t\t<li>'North Carolina'</li>\n",
       "\t\t<li>'North Dakota'</li>\n",
       "\t\t<li>'Ohio'</li>\n",
       "\t\t<li>'Oklahoma'</li>\n",
       "\t\t<li>'Oregon'</li>\n",
       "\t\t<li>'Pennsylvania'</li>\n",
       "\t\t<li>'Rhode Island'</li>\n",
       "\t\t<li>'South Carolina'</li>\n",
       "\t\t<li>'South Dakota'</li>\n",
       "\t\t<li>'Tennessee'</li>\n",
       "\t\t<li>'Texas'</li>\n",
       "\t\t<li>'Utah'</li>\n",
       "\t\t<li>'Vermont'</li>\n",
       "\t\t<li>'Virginia'</li>\n",
       "\t\t<li>'Washington'</li>\n",
       "\t\t<li>'West Virginia'</li>\n",
       "\t\t<li>'Wisconsin'</li>\n",
       "\t\t<li>'Wyoming'</li>\n",
       "\t</ol>\n",
       "</details>"
      ],
      "text/latex": [
       "Hawaii\n",
       "\\emph{Levels}: \\begin{enumerate*}\n",
       "\\item 'Alabama'\n",
       "\\item 'Alaska'\n",
       "\\item 'Arizona'\n",
       "\\item 'Arkansas'\n",
       "\\item 'California'\n",
       "\\item 'Colorado'\n",
       "\\item 'Connecticut'\n",
       "\\item 'Delaware'\n",
       "\\item 'Florida'\n",
       "\\item 'Georgia'\n",
       "\\item 'Hawaii'\n",
       "\\item 'Idaho'\n",
       "\\item 'Illinois'\n",
       "\\item 'Indiana'\n",
       "\\item 'Iowa'\n",
       "\\item 'Kansas'\n",
       "\\item 'Kentucky'\n",
       "\\item 'Louisiana'\n",
       "\\item 'Maine'\n",
       "\\item 'Maryland'\n",
       "\\item 'Massachusetts'\n",
       "\\item 'Michigan'\n",
       "\\item 'Minnesota'\n",
       "\\item 'Mississippi'\n",
       "\\item 'Missouri'\n",
       "\\item 'Montana'\n",
       "\\item 'Nebraska'\n",
       "\\item 'Nevada'\n",
       "\\item 'New Hampshire'\n",
       "\\item 'New Jersey'\n",
       "\\item 'New Mexico'\n",
       "\\item 'New York'\n",
       "\\item 'North Carolina'\n",
       "\\item 'North Dakota'\n",
       "\\item 'Ohio'\n",
       "\\item 'Oklahoma'\n",
       "\\item 'Oregon'\n",
       "\\item 'Pennsylvania'\n",
       "\\item 'Rhode Island'\n",
       "\\item 'South Carolina'\n",
       "\\item 'South Dakota'\n",
       "\\item 'Tennessee'\n",
       "\\item 'Texas'\n",
       "\\item 'Utah'\n",
       "\\item 'Vermont'\n",
       "\\item 'Virginia'\n",
       "\\item 'Washington'\n",
       "\\item 'West Virginia'\n",
       "\\item 'Wisconsin'\n",
       "\\item 'Wyoming'\n",
       "\\end{enumerate*}\n"
      ],
      "text/markdown": [
       "Hawaii\n",
       "**Levels**: 1. 'Alabama'\n",
       "2. 'Alaska'\n",
       "3. 'Arizona'\n",
       "4. 'Arkansas'\n",
       "5. 'California'\n",
       "6. 'Colorado'\n",
       "7. 'Connecticut'\n",
       "8. 'Delaware'\n",
       "9. 'Florida'\n",
       "10. 'Georgia'\n",
       "11. 'Hawaii'\n",
       "12. 'Idaho'\n",
       "13. 'Illinois'\n",
       "14. 'Indiana'\n",
       "15. 'Iowa'\n",
       "16. 'Kansas'\n",
       "17. 'Kentucky'\n",
       "18. 'Louisiana'\n",
       "19. 'Maine'\n",
       "20. 'Maryland'\n",
       "21. 'Massachusetts'\n",
       "22. 'Michigan'\n",
       "23. 'Minnesota'\n",
       "24. 'Mississippi'\n",
       "25. 'Missouri'\n",
       "26. 'Montana'\n",
       "27. 'Nebraska'\n",
       "28. 'Nevada'\n",
       "29. 'New Hampshire'\n",
       "30. 'New Jersey'\n",
       "31. 'New Mexico'\n",
       "32. 'New York'\n",
       "33. 'North Carolina'\n",
       "34. 'North Dakota'\n",
       "35. 'Ohio'\n",
       "36. 'Oklahoma'\n",
       "37. 'Oregon'\n",
       "38. 'Pennsylvania'\n",
       "39. 'Rhode Island'\n",
       "40. 'South Carolina'\n",
       "41. 'South Dakota'\n",
       "42. 'Tennessee'\n",
       "43. 'Texas'\n",
       "44. 'Utah'\n",
       "45. 'Vermont'\n",
       "46. 'Virginia'\n",
       "47. 'Washington'\n",
       "48. 'West Virginia'\n",
       "49. 'Wisconsin'\n",
       "50. 'Wyoming'\n",
       "\n",
       "\n"
      ],
      "text/plain": [
       "[1] Hawaii\n",
       "50 Levels: Alabama Alaska Arizona Arkansas California Colorado ... Wyoming"
      ]
     },
     "metadata": {},
     "output_type": "display_data"
    }
   ],
   "source": [
    "statedata[which.max(abs(model2$residuals)),]$state.name"
   ]
  }
 ],
 "metadata": {
  "kernelspec": {
   "display_name": "R",
   "language": "R",
   "name": "ir"
  },
  "language_info": {
   "codemirror_mode": "r",
   "file_extension": ".r",
   "mimetype": "text/x-r-source",
   "name": "R",
   "pygments_lexer": "r",
   "version": "3.5.1"
  }
 },
 "nbformat": 4,
 "nbformat_minor": 2
}
