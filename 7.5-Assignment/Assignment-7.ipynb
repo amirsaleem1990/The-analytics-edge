{
 "cells": [
  {
   "cell_type": "markdown",
   "metadata": {},
   "source": [
    "[Visualizing Attributes of Parole Violators](https://ocw.mit.edu/courses/sloan-school-of-management/15-071-the-analytics-edge-spring-2017/visualization/assignment-7/)"
   ]
  },
  {
   "cell_type": "markdown",
   "metadata": {},
   "source": [
    "# Visualizing Attributes of Parole Violators\n",
    "#### In the crime lecture, we saw how we can use heatmaps to give a 2-dimensional representation of 3-dimensional data: we made heatmaps of crime counts by time of the day and day of the week. In this problem, we'll learn how to use histograms to show counts by one variable, and then how to visualize 3 dimensions by creating multiple histograms.\n",
    "#### We'll use the parole data parole (CSV) from Unit 3. Before, we used this data to predict parole violators. Now, let's try to get a little more insight into this dataset using histograms. As a reminder, the variables in this dataset are:\n",
    "- <font color='red'>male = 1 if the parolee is male, 0 if female</font><br>\n",
    "- <font color='red'>race = 1 if the parolee is white, 2 otherwise</font><br>\n",
    "- <font color='red'>age = the parolee's age in years at the time of release from prison</font><br>\n",
    "- <font color='red'>state = a code for the parolee's state. 2 is Kentucky, 3 is Louisiana, 4 is Virginia, and 1 is any other state. These three states were selected due to having a high representation in the dataset.</font><br>\n",
    "- <font color='red'>time.served = the number of months the parolee served in prison (limited by the inclusion criteria to not exceed 6 months).</font><br>\n",
    "- <font color='red'>max.sentence = the maximum sentence length for all charges, in months (limited by the inclusion criteria to not exceed 18 months).</font><br>\n",
    "- <font color='red'>multiple.offenses = 1 if the parolee was incarcerated for multiple offenses, 0 otherwise.</font><br>\n",
    "- <font color='red'>crime = a code for the parolee's main crime leading to incarceration. 2 is larceny, 3 is drug-related crime, 4 is driving-related crime, and 1 is any other crime.</font><br>\n",
    "- <font color='red'>violator = 1 if the parolee violated the parole, and 0 if the parolee completed the parole without violation.</font><br>"
   ]
  },
  {
   "cell_type": "markdown",
   "metadata": {},
   "source": [
    "# Problem 1.1 - Loading the DataProblem 1.1 - Loading the Data\n",
    "#### Using the read.csv function, load the dataset parole.csv and call it parole. Since male, state, and crime are all unordered factors, convert them to factor variables using the following commands:\n",
    "#### parole\\\\$male = as.factor(parole\\\\$male)\n",
    "#### parole\\\\$state = as.factor(parole\\\\$state)\n",
    "#### parole\\\\$crime = as.factor(parole\\\\$crime)\n",
    "#### What fraction of parole violators are female?"
   ]
  },
  {
   "cell_type": "markdown",
   "metadata": {},
   "source": [
    "# Problem 1.2 - Loading the DataProblem 1.2 - Loading the Data\n",
    "#### In this dataset, which crime is the most common in Kentucky?\n",
    "- <font color='red'>Larceny</font><br>\n",
    "- <font color='red'>Drug-related crime</font><br>\n",
    "- <font color='red'>Driving-related crime</font><br>\n",
    "- <font color='red'>Other</font><br>"
   ]
  },
  {
   "cell_type": "markdown",
   "metadata": {},
   "source": [
    "# Problem 2.1 - Creating a Basic HistogramProblem 2.1 - Creating a Basic Histogram\n",
    "#### Recall from lecture that in ggplot, we need to specify the dataset, the aesthetic, and the geometry. To create a histogram, the geometry will be geom_histogram. The data we'll use is parole, and the aesthetic will be the map from a variable to the x-axis of the histogram.\n",
    "#### Create a histogram to find out the distribution of the age of parolees, by typing the following command in your R console (you might need to load the ggplot2 package first by typing library(ggplot2) in your R console):\n",
    "#### ggplot(data = parole, aes(x = age)) + geom_histogram()\n",
    "#### By default, geom_histogram divides the data into 30 bins. Change the width of the bins to 5 years by adding the argument \"binwidth = 5\" to geom_histogram.\n",
    "#### Note that by default, histograms create bins where the left endpoint is included in the bin, but the right endpoint isn't. So the first bin in this histogram represents parolees who are between 15 and 19 years old. The last bin in this histogram represents parolees who are between 65 and 69 years old.\n",
    "#### What is the age bracket with the most parolees?\n",
    "- <font color='red'>20-24</font><br>\n",
    "- <font color='red'>25-29</font><br>\n",
    "- <font color='red'>30-34</font><br>\n",
    "- <font color='red'>35-39</font><br>"
   ]
  },
  {
   "cell_type": "markdown",
   "metadata": {},
   "source": [
    "# Problem 2.2 - Creating a Basic HistogramProblem 2.2 - Creating a Basic Histogram\n",
    "#### Redo the histogram, adding the following argument to the geom_histogram function: color=\"blue\". What does this do? Select all that apply.\n",
    "- <font color='red'>Changes the fill color of the bars</font><br>\n",
    "- <font color='red'>Changes the background color of the plot</font><br>\n",
    "- <font color='red'>Changes the outline color of the bars</font><br>\n",
    "- <font color='red'>Changes the color of the axis labels</font><br>"
   ]
  },
  {
   "cell_type": "markdown",
   "metadata": {},
   "source": [
    "# Problem 3.1 - Adding Another DimensionProblem 3.1 - Adding Another Dimension\n",
    "#### Now suppose we are interested in seeing how the age distribution of male parolees compares to the age distribution of female parolees.\n",
    "#### One option would be to create a heatmap with age on one axis and male (a binary variable in our data set) on the other axis. Another option would be to stick with histograms, but to create a separate histogram for each gender. ggplot has the ability to do this automatically using the facet_grid command.\n",
    "#### To create separate histograms for male and female, type the following command into your R console:\n",
    "#### ggplot(data = parole, aes(x = age)) + geom_histogram(binwidth = 5) + facet_grid(male ~ .)\n",
    "#### The histogram for female parolees is shown at the top, and the histogram for male parolees is shown at the bottom.\n",
    "#### What is the age bracket with the most female parolees?\n",
    "- <font color='red'>20-24</font><br>\n",
    "- <font color='red'>25-29</font><br>\n",
    "- <font color='red'>30-34</font><br>\n",
    "- <font color='red'>35-39</font><br>"
   ]
  },
  {
   "cell_type": "markdown",
   "metadata": {},
   "source": [
    "# Problem 3.2 - Adding Another DimensionProblem 3.2 - Adding Another Dimension\n",
    "#### Now change the facet_grid argument to be \".~male\" instead of \"male~.\". What does this do?\n",
    "- <font color='red'>Creates histograms of the male variable, sorted by the different values of age.</font><br>\n",
    "- <font color='red'>Puts the histograms side-by-side instead of on top of each other.</font><br>\n",
    "- <font color='red'>This doesn't change anything - the plot looks exactly the same as it did before.</font><br>"
   ]
  },
  {
   "cell_type": "markdown",
   "metadata": {},
   "source": [
    "# Problem 3.3 - Adding Another DImensionProblem 3.3 - Adding Another DImension\n",
    "#### An alternative to faceting is to simply color the different groups differently. To color the data points by group, we need to tell ggplot that a property of the data (male or not male) should be translated to an aesthetic property of the histogram. We can do this by setting the fill parameter within the aesthetic to male.\n",
    "#### Run the following command in your R console to produce a histogram where data points are colored by group:\n",
    "#### ggplot(data = parole, aes(x = age, fill = male)) + geom_histogram(binwidth = 5)\n",
    "#### Since we didn't specify colors to use, ggplot will use its default color selection. Let's change this by defining our own color palette. First, type in your R console:\n",
    "#### colorPalette = c(\"#000000\", \"#E69F00\", \"#56B4E9\", \"#009E73\", \"#F0E442\", \"#0072B2\", \"#D55E00\", \"#CC79A7\")\n",
    "#### This is actually a colorblind-friendly palette, desribed on this Cookbook for R page. Now, generate your histogram again, using colorPalette, with the following command:\n",
    "#### ggplot(data = parole, aes(x = age, fill = male)) + geom_histogram(binwidth = 5) + scale_fill_manual(values=colorPalette)\n",
    "#### What color is the histogram for the female parolees?\n",
    "- <font color='red'>Orange</font><br>\n",
    "- <font color='red'>Black</font><br>"
   ]
  },
  {
   "cell_type": "markdown",
   "metadata": {},
   "source": [
    "# Problem 3.4 - Adding Another DimensionProblem 3.4 - Adding Another Dimension\n",
    "#### Coloring the groups differently is a good way to see the breakdown of age by sex within the single, aggregated histogram. However, the bars here are stacked, meaning that the height of the orange bars in each age bin represents the total number of parolees in that age bin, not just the number of parolees in that group.\n",
    "#### An alternative to a single, stacked histogram is to create two histograms and overlay them on top of each other. This is a simple adjustment to our previous command.\n",
    "#### We just need to:\n",
    "#### 1) Tell ggplot not to stack the histograms by adding the argument position=\"identity\" to the geom_histogram function.\n",
    "#### 2) Make the bars semi-transparent so we can see both colors by adding the argument alpha=0.5 to the geom_histogram function.\n",
    "#### Redo the plot, making both of these changes.\n",
    "#### Which of the following buckets contain no female paroles? Select all that apply.7\n",
    "- <font color='red'>15-19</font><br>\n",
    "- <font color='red'>20-24</font><br>\n",
    "- <font color='red'>25-29</font><br>\n",
    "- <font color='red'>30-34</font><br>\n",
    "- <font color='red'>35-39</font><br>\n",
    "- <font color='red'>40-44</font><br>\n",
    "- <font color='red'>45-49</font><br>\n",
    "- <font color='red'>50-54</font><br>\n",
    "- <font color='red'>55-59</font><br>\n",
    "- <font color='red'>60-64</font><br>\n",
    "- <font color='red'>65-69</font><br>"
   ]
  },
  {
   "cell_type": "markdown",
   "metadata": {},
   "source": [
    "# Problem 4.1 - Time ServedProblem 4.1 - Time Served\n",
    "#### Now let's explore another aspect of the data: the amount of time served by parolees. Create a basic histogram like the one we created in Problem 2, but this time with time.served on the x-axis. Set the bin width to one month.\n",
    "#### What is the most common length of time served, according to this histogram?\n",
    "- <font color='red'>Between 2 and 3 months</font><br>\n",
    "- <font color='red'>Between 3 and 4 months</font><br>\n",
    "- <font color='red'>Between 4 and 5 months</font><br>\n",
    "- <font color='red'>Between 5 and 6 months</font><br>"
   ]
  },
  {
   "cell_type": "markdown",
   "metadata": {},
   "source": [
    "# Problem 4.2 - Time ServedProblem 4.2 - Time Served\n",
    "#### Change the binwidth to 0.1 months. Now what is the most common length of time served, according to the histogram?\n",
    "- <font color='red'>Between 2.1 and 2.2 months</font><br>\n",
    "- <font color='red'>Between 3.0 and 3.1 months</font><br>\n",
    "- <font color='red'>Between 4.2 and 4.3 months</font><br>\n",
    "- <font color='red'>Between 4.8 and 4.9 months</font><br>\n",
    "#### Be careful when choosing the binwidth - it can significantly affect the interpretation of a histogram! When visualizing histograms, it is always a good idea to vary the bin size in order to understand the data at various granularities."
   ]
  },
  {
   "cell_type": "markdown",
   "metadata": {},
   "source": [
    "# Problem 4.3 - Time ServedProblem 4.3 - Time Served\n",
    "#### Now, suppose we suspect that it is unlikely that each type of crime has the same distribution of time served. To visualize this, change the binwidth back to 1 month, and use facet_grid to create a separate histogram of time.served for each value of the variable crime.\n",
    "#### Which crime type has no observations where time served is less than one month? Recall that crime type #2 is larceny, #3 is drug-related crime, #4 is driving-related crime, and #1 is any other crime.\n",
    "- <font color='red'>Larceny</font><br>\n",
    "- <font color='red'>Drug-related</font><br>\n",
    "- <font color='red'>Driving-related</font><br>\n",
    "- <font color='red'>Other</font><br>"
   ]
  },
  {
   "cell_type": "markdown",
   "metadata": {},
   "source": [
    "#### For which crime does the frequency of 5-6 month prison terms exceed the frequencies of each other term length?\n",
    "- <font color='red'>Larceny</font><br>\n",
    "- <font color='red'>Drug-related</font><br>\n",
    "- <font color='red'>Driving-related</font><br>\n",
    "- <font color='red'>Other</font><br>"
   ]
  },
  {
   "cell_type": "markdown",
   "metadata": {},
   "source": [
    "# Problem 4.4 - Time ServedProblem 4.4 - Time Served\n",
    "#### Now, instead of faceting the histograms, overlay them. Remember to set the position and alpha parameters so that the histograms are not stacked. Also, make sure to indicate that the fill aesthetic should be \"crime\".\n",
    "#### In this case, faceting seems like a better alternative. Why?\n",
    "- <font color='red'>With four different groups, it can be hard to tell them apart when they are overlayed.</font><br>\n",
    "- <font color='red'>ggplot doesn't let us overlay plots with more than two groups.</font><br>\n",
    "- <font color='red'>Overlaying the plots doesn't allow us to observe which crime type is the most common.</font><br>"
   ]
  },
  {
   "cell_type": "code",
   "execution_count": null,
   "metadata": {},
   "outputs": [],
   "source": []
  }
 ],
 "metadata": {
  "kernelspec": {
   "display_name": "R",
   "language": "R",
   "name": "ir"
  },
  "language_info": {
   "codemirror_mode": "r",
   "file_extension": ".r",
   "mimetype": "text/x-r-source",
   "name": "R",
   "pygments_lexer": "r",
   "version": "3.5.1"
  }
 },
 "nbformat": 4,
 "nbformat_minor": 2
}
