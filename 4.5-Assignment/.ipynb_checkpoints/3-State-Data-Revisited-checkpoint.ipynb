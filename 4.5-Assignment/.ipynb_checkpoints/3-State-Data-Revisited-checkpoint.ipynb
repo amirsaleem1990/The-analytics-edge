{
 "cells": [
  {
   "cell_type": "markdown",
   "metadata": {},
   "source": [
    "[State Data Revisited](https://ocw.mit.edu/courses/sloan-school-of-management/15-071-the-analytics-edge-spring-2017/trees/assignment-4/state-data-revisted/)"
   ]
  },
  {
   "cell_type": "markdown",
   "metadata": {},
   "source": [
    "#### We will be revisiting the \"state\" dataset from one of the optional problems in Unit 2. This dataset has, for each of the fifty U.S. states, the population, per capita income, illiteracy rate, murder rate, high school graduation rate, average number of frost days, area, latitude and longitude, division the state belongs to, region the state belongs to, and two-letter abbreviation. This dataset comes from the U.S. Department of Commerce, Bureau of the Census.\n",
    "#### Load the dataset into R and convert it to a data frame by running the following two commands in R:\n",
    "#### data(state)\n",
    "#### statedata = data.frame(state.x77)\n",
    "#### If you can't access the state dataset in R, here is a CSV file with the same data that you can load into R using the read.csv function: statedataSimple (CSV).  Be sure to call the output of the read.csv function \"statedata\".\n",
    "#### After you have loaded the data into R, inspect the data set using the command: str(statedata)\n",
    "#### This dataset has 50 observations (one for each US state) and the following 8 variables:\n",
    "- <font color='red'>Population - the population estimate of the state in 1975</font><br>\n",
    "- <font color='red'>Income - per capita income in 1974</font><br>\n",
    "- <font color='red'>Illiteracy - illiteracy rates in 1970, as a percent of the population</font><br>\n",
    "- <font color='red'>Life.Exp - the life expectancy in years of residents of the state in 1970</font><br>\n",
    "- <font color='red'>Murder - the murder and non-negligent manslaughter rate per 100,000 population in 1976</font><br>\n",
    "- <font color='red'>HS.Grad - percent of high-school graduates in 1970</font><br>\n",
    "- <font color='red'>Frost - the mean number of days with minimum temperature below freezing from 1931–1960 in the capital or a large city of the state</font><br>\n",
    "- <font color='red'>Area - the land area (in square miles) of the state</font><br>\n",
    "#### We will try to build a model for life expectancy using regression trees, and employ cross-validation to improve our tree's performance."
   ]
  },
  {
   "cell_type": "code",
   "execution_count": 1,
   "metadata": {},
   "outputs": [
    {
     "name": "stdout",
     "output_type": "stream",
     "text": [
      "'data.frame':\t50 obs. of  8 variables:\n",
      " $ Population: num  3615 365 2212 2110 21198 ...\n",
      " $ Income    : num  3624 6315 4530 3378 5114 ...\n",
      " $ Illiteracy: num  2.1 1.5 1.8 1.9 1.1 0.7 1.1 0.9 1.3 2 ...\n",
      " $ Life.Exp  : num  69 69.3 70.5 70.7 71.7 ...\n",
      " $ Murder    : num  15.1 11.3 7.8 10.1 10.3 6.8 3.1 6.2 10.7 13.9 ...\n",
      " $ HS.Grad   : num  41.3 66.7 58.1 39.9 62.6 63.9 56 54.6 52.6 40.6 ...\n",
      " $ Frost     : num  20 152 15 65 20 166 139 103 11 60 ...\n",
      " $ Area      : num  50708 566432 113417 51945 156361 ...\n"
     ]
    }
   ],
   "source": [
    "data(state)\n",
    "statedata = data.frame(state.x77)\n",
    "str(statedata)"
   ]
  },
  {
   "cell_type": "markdown",
   "metadata": {},
   "source": [
    "# Problem 1.1 - Linear Regression Models\n",
    "#### Let's recreate the linear regression models we made in the previous homework question. First, predict Life.Exp using all of the other variables as the independent variables (Population, Income, Illiteracy, Murder, HS.Grad, Frost, Area ). Use the entire dataset to build the model.\n",
    "#### What is the adjusted R-squared of the model?"
   ]
  },
  {
   "cell_type": "code",
   "execution_count": 2,
   "metadata": {},
   "outputs": [
    {
     "data": {
      "text/html": [
       "0.692182313727055"
      ],
      "text/latex": [
       "0.692182313727055"
      ],
      "text/markdown": [
       "0.692182313727055"
      ],
      "text/plain": [
       "[1] 0.6921823"
      ]
     },
     "metadata": {},
     "output_type": "display_data"
    }
   ],
   "source": [
    "modelLM <- lm(Life.Exp ~ ., data=statedata)\n",
    "summary(modelLM)$adj.r.squared"
   ]
  },
  {
   "cell_type": "markdown",
   "metadata": {},
   "source": [
    "# Problem 1.2 - Linear Regression Models\n",
    "#### Calculate the sum of squared errors (SSE) between the predicted life expectancies using this model and the actual life expectancies:"
   ]
  },
  {
   "cell_type": "code",
   "execution_count": 3,
   "metadata": {},
   "outputs": [
    {
     "data": {
      "text/html": [
       "23.2971381393001"
      ],
      "text/latex": [
       "23.2971381393001"
      ],
      "text/markdown": [
       "23.2971381393001"
      ],
      "text/plain": [
       "[1] 23.29714"
      ]
     },
     "metadata": {},
     "output_type": "display_data"
    }
   ],
   "source": [
    "(SSE  <- sum((modelLM$residuals)^2))"
   ]
  },
  {
   "cell_type": "markdown",
   "metadata": {},
   "source": [
    "# Problem 1.3 - Linear Regression Models\n",
    "#### Build a second linear regression model using just Population, Murder, Frost, and HS.Grad as independent variables (the best 4 variable model from the previous homework). What is the adjusted R-squared for this model?"
   ]
  },
  {
   "cell_type": "code",
   "execution_count": 4,
   "metadata": {},
   "outputs": [
    {
     "data": {
      "text/html": [
       "0.71256901835341"
      ],
      "text/latex": [
       "0.71256901835341"
      ],
      "text/markdown": [
       "0.71256901835341"
      ],
      "text/plain": [
       "[1] 0.712569"
      ]
     },
     "metadata": {},
     "output_type": "display_data"
    }
   ],
   "source": [
    "modelLM2  <- lm(Life.Exp ~ Population + Murder + Frost + HS.Grad, data = statedata)\n",
    "summary(modelLM2)$adj.r.squared"
   ]
  },
  {
   "cell_type": "markdown",
   "metadata": {},
   "source": [
    "# Problem 1.4 - Linear Regression Models\n",
    "#### Calculate the sum of squared errors again, using this reduced model:"
   ]
  },
  {
   "cell_type": "code",
   "execution_count": 5,
   "metadata": {},
   "outputs": [
    {
     "data": {
      "text/html": [
       "23.3080427968845"
      ],
      "text/latex": [
       "23.3080427968845"
      ],
      "text/markdown": [
       "23.3080427968845"
      ],
      "text/plain": [
       "[1] 23.30804"
      ]
     },
     "metadata": {},
     "output_type": "display_data"
    }
   ],
   "source": [
    "(SSE <- sum((modelLM2$residuals)^2))"
   ]
  },
  {
   "cell_type": "markdown",
   "metadata": {},
   "source": [
    "# Problem 1.5 - Linear Regression Models\n",
    "#### Which of the following is correct?\n",
    "- <font color='red'>Trying different combinations of variables in linear regression is like trying different numbers of splits in a tree - this controls the complexity of the model.</font> # Correct <br>\n",
    "- <font color='red'>Using many variables in a linear regression is always better than using just a few.</font><br>\n",
    "- <font color='red'>The variables we removed were uncorrelated with Life.Exp</font><br>"
   ]
  },
  {
   "cell_type": "markdown",
   "metadata": {},
   "source": [
    "# Problem 2.1 - CART Models\n",
    "#### Let's now build a CART model to predict Life.Exp using all of the other variables as independent variables (Population, Income, Illiteracy, Murder, HS.Grad, Frost, Area). We'll use the default minbucket parameter, so don't add the minbucket argument. Remember that in this problem we are not as interested in predicting life expectancies for new observations as we are understanding how they relate to the other variables we have, so we'll use all of the data to build our model. You shouldn't use the method=\"class\" argument since this is a regression tree.\n",
    "#### Plot the tree. Which of these variables appear in the tree? Select all that apply.\n",
    "- <font color='red'>Population</font><br>\n",
    "- <font color='red'>Murder</font> # Correct <br>\n",
    "- <font color='red'>Frost</font><br>\n",
    "- <font color='red'>HS.Grad</font><br>\n",
    "- <font color='red'>Area</font><br>"
   ]
  },
  {
   "cell_type": "code",
   "execution_count": 6,
   "metadata": {},
   "outputs": [
    {
     "data": {
      "image/png": "[encoded data removed]",
      "text/plain": [
       "plot without title"
      ]
     },
     "metadata": {},
     "output_type": "display_data"
    }
   ],
   "source": [
    "library(rpart)\n",
    "library(rpart.plot)\n",
    "modelCart <- rpart(Life.Exp ~ ., data = statedata)\n",
    "prp(modelCart)"
   ]
  },
  {
   "cell_type": "markdown",
   "metadata": {},
   "source": [
    "# Problem 2.2 - CART Models\n",
    "#### Use the regression tree you just built to predict life expectancies (using the predict function), and calculate the sum-of-squared-errors (SSE) like you did for linear regression. What is the SSE?"
   ]
  },
  {
   "cell_type": "code",
   "execution_count": 7,
   "metadata": {},
   "outputs": [
    {
     "data": {
      "text/html": [
       "28.998476622807"
      ],
      "text/latex": [
       "28.998476622807"
      ],
      "text/markdown": [
       "28.998476622807"
      ],
      "text/plain": [
       "[1] 28.99848"
      ]
     },
     "metadata": {},
     "output_type": "display_data"
    }
   ],
   "source": [
    "cartPrediction <- predict(modelCart)\n",
    "sum((cartPrediction - statedata$Life.Exp)^2)"
   ]
  },
  {
   "cell_type": "markdown",
   "metadata": {},
   "source": [
    "# Problem 2.3 - CART Models\n",
    "#### The error is higher than for the linear regression models. One reason might be that we haven't made the tree big enough. Set the minbucket parameter to 5, and recreate the tree.\n",
    "#### Which variables appear in this new tree? Select all that apply.\n",
    "- <font color='red'>Population</font><br>\n",
    "- <font color='red'>Murder</font> # Correct <br>\n",
    "- <font color='red'>Frost</font><br>\n",
    "- <font color='red'>HS.Grad</font> # Correct <br>\n",
    "- <font color='red'>Area</font> # Correct <br>"
   ]
  },
  {
   "cell_type": "code",
   "execution_count": 8,
   "metadata": {},
   "outputs": [
    {
     "data": {
      "image/png": "[encoded data removed]",
      "text/plain": [
       "plot without title"
      ]
     },
     "metadata": {},
     "output_type": "display_data"
    }
   ],
   "source": [
    "modelCart2 <- rpart(Life.Exp ~ ., data = statedata, minbucket=5)\n",
    "prp(modelCart2)"
   ]
  },
  {
   "cell_type": "markdown",
   "metadata": {},
   "source": [
    "# Problem 2.4 - CART Models\n",
    "#### Do you think the default minbucket parameter is smaller or larger than 5 based on the tree that was built?\n",
    "- <font color='red'>Smaller</font><br>\n",
    "- <font color='red'>Larger</font> # Correct <br>"
   ]
  },
  {
   "cell_type": "markdown",
   "metadata": {},
   "source": [
    "# Problem 2.5 - CART Models\n",
    "#### What is the SSE of this tree?\n",
    "#### This is much closer to the linear regression model's error. By changing the parameters we have improved the fit of our model."
   ]
  },
  {
   "cell_type": "code",
   "execution_count": 9,
   "metadata": {},
   "outputs": [
    {
     "data": {
      "text/html": [
       "23.6428282692308"
      ],
      "text/latex": [
       "23.6428282692308"
      ],
      "text/markdown": [
       "23.6428282692308"
      ],
      "text/plain": [
       "[1] 23.64283"
      ]
     },
     "metadata": {},
     "output_type": "display_data"
    }
   ],
   "source": [
    "predictionCart <-  predict(modelCart2)\n",
    "sum((predictionCart - statedata$Life.Exp)^2)"
   ]
  },
  {
   "cell_type": "markdown",
   "metadata": {},
   "source": [
    "# Problem 2.6 - CART Models\n",
    "#### Can we do even better? Create a tree that predicts Life.Exp using only Area, with the minbucket parameter to 1. What is the SSE of this newest tree?"
   ]
  },
  {
   "cell_type": "code",
   "execution_count": 10,
   "metadata": {},
   "outputs": [
    {
     "data": {
      "text/html": [
       "9.31244166666664"
      ],
      "text/latex": [
       "9.31244166666664"
      ],
      "text/markdown": [
       "9.31244166666664"
      ],
      "text/plain": [
       "[1] 9.312442"
      ]
     },
     "metadata": {},
     "output_type": "display_data"
    }
   ],
   "source": [
    "modelCart3  <- rpart(Life.Exp ~ Area, data = statedata, minbucket=1)\n",
    "predictonCart3 <- predict(modelCart3)\n",
    "(SSE <- sum((predictonCart3 - statedata$Life.Exp)^2))"
   ]
  },
  {
   "cell_type": "markdown",
   "metadata": {},
   "source": [
    "# Problem 2.7 - CART Models\n",
    "#### This is the lowest error we have seen so far. What would be the best interpretation of this result?\n",
    "- <font color='red'>Trees are much better than linear regression for this problem because they can capture nonlinearities that linear regression misses.</font><br>\n",
    "- <font color='red'>We can build almost perfect models given the right parameters, even if they violate our intuition of what a good model should be.</font> # Correct <br>\n",
    "- <font color='red'>Area is obviously a very meaningful predictor of life expectancy, given we were able to get such low error using just Area as our independent variable.</font><br>"
   ]
  },
  {
   "cell_type": "markdown",
   "metadata": {},
   "source": [
    "# Problem 3.1 - Cross-validation\n",
    "#### Adjusting the variables included in a linear regression model is a form of model tuning. In Problem 1 we showed that by removing variables in our linear regression model (tuning the model), we were able to maintain the fit of the model while using a simpler model. A rule of thumb is that simpler models are more interpretable and generalizeable. We will now tune our regression tree to see if we can improve the fit of our tree while keeping it as simple as possible.\n",
    "#### Load the caret library, and set the seed to 111. Set up the controls exactly like we did in the lecture (10-fold cross-validation) with cp varying over the range 0.01 to 0.50 in increments of 0.01. Use the train function to determine the best cp value for a CART model using all of the available independent variables, and the entire dataset statedata. What value of cp does the train function recommend? (Remember that the train function tells you to pick the largest value of cp with the lowest error when there are ties, and explains this at the bottom of the output.)"
   ]
  },
  {
   "cell_type": "code",
   "execution_count": 11,
   "metadata": {},
   "outputs": [
    {
     "name": "stderr",
     "output_type": "stream",
     "text": [
      "Loading required package: lattice\n",
      "Loading required package: ggplot2\n",
      "Warning message in nominalTrainWorkflow(x = x, y = y, wts = weights, info = trainInfo, :\n",
      "“There were missing values in resampled performance measures.”"
     ]
    },
    {
     "data": {
      "text/plain": [
       "CART \n",
       "\n",
       "50 samples\n",
       " 7 predictor\n",
       "\n",
       "No pre-processing\n",
       "Resampling: Cross-Validated (10 fold) \n",
       "Summary of sample sizes: 46, 45, 44, 43, 46, 46, ... \n",
       "Resampling results across tuning parameters:\n",
       "\n",
       "  cp    RMSE       Rsquared   MAE      \n",
       "  0.01  1.1375138  0.4734757  0.9362281\n",
       "  0.02  1.1375138  0.4734757  0.9362281\n",
       "  0.03  1.1375138  0.4734757  0.9362281\n",
       "  0.04  1.1231367  0.4734757  0.9286572\n",
       "  0.05  1.0817092  0.4923520  0.8907357\n",
       "  0.06  1.0709561  0.4923520  0.8822194\n",
       "  0.07  1.0149896  0.5275358  0.8371557\n",
       "  0.08  0.9933235  0.5436269  0.8117516\n",
       "  0.09  0.9933235  0.5436269  0.8117516\n",
       "  0.10  0.9933235  0.5436269  0.8117516\n",
       "  0.11  0.9933235  0.5436269  0.8117516\n",
       "  0.12  0.9933235  0.5436269  0.8117516\n",
       "  0.13  1.0568377  0.4988101  0.8515894\n",
       "  0.14  1.1221457  0.4758470  0.8944743\n",
       "  0.15  1.1399888  0.4642198  0.9140933\n",
       "  0.16  1.1244999  0.4642198  0.8983067\n",
       "  0.17  1.1244999  0.4642198  0.8983067\n",
       "  0.18  1.1463316  0.4642198  0.9112852\n",
       "  0.19  1.1463316  0.4642198  0.9112852\n",
       "  0.20  1.1463316  0.4642198  0.9112852\n",
       "  0.21  1.1463316  0.4642198  0.9112852\n",
       "  0.22  1.1636884  0.4527311  0.9468219\n",
       "  0.23  1.1636884  0.4527311  0.9468219\n",
       "  0.24  1.1636884  0.4527311  0.9468219\n",
       "  0.25  1.1636884  0.4527311  0.9468219\n",
       "  0.26  1.1636884  0.4527311  0.9468219\n",
       "  0.27  1.1636884  0.4527311  0.9468219\n",
       "  0.28  1.1636884  0.4527311  0.9468219\n",
       "  0.29  1.1636884  0.4527311  0.9468219\n",
       "  0.30  1.1636884  0.4527311  0.9468219\n",
       "  0.31  1.1636884  0.4527311  0.9468219\n",
       "  0.32  1.1636884  0.4527311  0.9468219\n",
       "  0.33  1.1636884  0.4527311  0.9468219\n",
       "  0.34  1.1636884  0.4527311  0.9468219\n",
       "  0.35  1.1636884  0.4527311  0.9468219\n",
       "  0.36  1.1636884  0.4527311  0.9468219\n",
       "  0.37  1.1636884  0.4527311  0.9468219\n",
       "  0.38  1.1636884  0.4527311  0.9468219\n",
       "  0.39  1.1636884  0.4527311  0.9468219\n",
       "  0.40  1.1636884  0.4527311  0.9468219\n",
       "  0.41  1.1636884  0.4527311  0.9468219\n",
       "  0.42  1.1636884  0.4527311  0.9468219\n",
       "  0.43  1.1636884  0.4527311  0.9468219\n",
       "  0.44  1.1636884  0.4527311  0.9468219\n",
       "  0.45  1.1636884  0.4527311  0.9468219\n",
       "  0.46  1.2203897  0.4201907  0.9944414\n",
       "  0.47  1.3782050  0.2554142  1.1446881\n",
       "  0.48  1.4203510  0.1945662  1.1636157\n",
       "  0.49  1.4376198  0.1194860  1.1863268\n",
       "  0.50  1.4402764  0.1194860  1.1910118\n",
       "\n",
       "RMSE was used to select the optimal model using the smallest value.\n",
       "The final value used for the model was cp = 0.12."
      ]
     },
     "metadata": {},
     "output_type": "display_data"
    }
   ],
   "source": [
    "set.seed(111)\n",
    "library(caret)\n",
    "numFolds = trainControl( method = \"cv\", number = 10 )\n",
    "cpGrid = expand.grid( .cp = seq(0.01,0.5,0.01)) \n",
    "train(Life.Exp ~ ., data = statedata, method = \"rpart\", \n",
    "      trControl = numFolds, tuneGrid = cpGrid)"
   ]
  },
  {
   "cell_type": "markdown",
   "metadata": {},
   "source": [
    "# Problem 3.2 - Cross-Validation\n",
    "#### Create a tree with the value of cp you found in the previous problem, all of the available independent variables, and the entire dataset \"statedata\" as the training data. Then plot the tree. You'll notice that this is actually quite similar to the first tree we created with the initial model. Interpret the tree: we predict the life expectancy to be 70 if the murder rate is greater than or equal to"
   ]
  },
  {
   "cell_type": "code",
   "execution_count": 12,
   "metadata": {},
   "outputs": [
    {
     "data": {
      "text/html": [
       "6.6"
      ],
      "text/latex": [
       "6.6"
      ],
      "text/markdown": [
       "6.6"
      ],
      "text/plain": [
       "[1] 6.6"
      ]
     },
     "metadata": {},
     "output_type": "display_data"
    },
    {
     "data": {
      "image/png": "[encoded data removed]",
      "text/plain": [
       "plot without title"
      ]
     },
     "metadata": {},
     "output_type": "display_data"
    }
   ],
   "source": [
    "modelCart3  <- rpart(Life.Exp ~ ., data = statedata, cp=0.12)\n",
    "prp(modelCart3)\n",
    "6.6"
   ]
  },
  {
   "cell_type": "markdown",
   "metadata": {},
   "source": [
    "#### and is less than\n",
    "11"
   ]
  },
  {
   "cell_type": "markdown",
   "metadata": {},
   "source": [
    "# Problem 3.3 - Cross-Validation\n",
    "#### Calculate the SSE of this tree:"
   ]
  },
  {
   "cell_type": "code",
   "execution_count": 13,
   "metadata": {},
   "outputs": [
    {
     "data": {
      "text/html": [
       "32.8654897025171"
      ],
      "text/latex": [
       "32.8654897025171"
      ],
      "text/markdown": [
       "32.8654897025171"
      ],
      "text/plain": [
       "[1] 32.86549"
      ]
     },
     "metadata": {},
     "output_type": "display_data"
    }
   ],
   "source": [
    "predictCart4 <- predict(modelCart3)\n",
    "(SSE <- sum((predictCart4 - statedata$Life.Exp)^2))"
   ]
  },
  {
   "cell_type": "markdown",
   "metadata": {},
   "source": [
    "# Problem 3.4 - Cross-Validation\n",
    "#### Recall the first tree (default parameters), second tree (minbucket = 5), and the third tree (selected with cross validation) we made. Given what you have learned about cross-validation, which of the three models would you expect to be better if we did use it for prediction on a test set? For this question, suppose we had actually set aside a few obseThe best model in this whole question is the first \"Area tree\" because it had the lowest SSE.\n",
    "&nbsp;The Area variable is not as predictive as Murder rate.\n",
    "&nbsp;Cross-validation is intended to decrease the SSE for a model on the training data, compared to a tree that isn't cross-validated.\n",
    "&nbsp;Cross-validation will always improve the SSE of a model on unseen data, compared to a tree that isn't cross-validated.rvations (states) in a test set, and we want to make predictions on those states.\n",
    "- <font color='red'>The first model</font><br>\n",
    "- <font color='red'>The second model</font><br>\n",
    "- <font color='red'>The model we just made with the \"best\" cp</font> # Correct <br>"
   ]
  },
  {
   "cell_type": "markdown",
   "metadata": {},
   "source": [
    "# Problem 3.5 - Cross-Validation\n",
    "#### At the end of Problem 2 we made a very complex tree using just Area. Use train with the same parameters as before but just using Area as an independent variable to find the best cp value (set the seed to 111 first). Then build a new tree using just Area and this value of cp.\n",
    "#### How many splits does the tree have?"
   ]
  },
  {
   "cell_type": "code",
   "execution_count": 14,
   "metadata": {},
   "outputs": [
    {
     "name": "stderr",
     "output_type": "stream",
     "text": [
      "Warning message in nominalTrainWorkflow(x = x, y = y, wts = weights, info = trainInfo, :\n",
      "“There were missing values in resampled performance measures.”"
     ]
    },
    {
     "data": {
      "text/plain": [
       "CART \n",
       "\n",
       "50 samples\n",
       " 1 predictor\n",
       "\n",
       "No pre-processing\n",
       "Resampling: Cross-Validated (10 fold) \n",
       "Summary of sample sizes: 46, 45, 44, 43, 46, 46, ... \n",
       "Resampling results across tuning parameters:\n",
       "\n",
       "  cp    RMSE      Rsquared    MAE     \n",
       "  0.01  1.231586  0.39845523  1.006585\n",
       "  0.02  1.243748  0.38909431  1.016449\n",
       "  0.03  1.243748  0.38909431  1.016449\n",
       "  0.04  1.246020  0.38659302  1.020503\n",
       "  0.05  1.246020  0.38659302  1.020503\n",
       "  0.06  1.257693  0.38542329  1.028342\n",
       "  0.07  1.284635  0.37765344  1.063739\n",
       "  0.08  1.295051  0.36309730  1.080484\n",
       "  0.09  1.295051  0.36309730  1.080484\n",
       "  0.10  1.295051  0.36309730  1.080484\n",
       "  0.11  1.393421  0.26634509  1.155116\n",
       "  0.12  1.393421  0.26634509  1.155116\n",
       "  0.13  1.393421  0.26634509  1.155116\n",
       "  0.14  1.408479  0.20191108  1.177991\n",
       "  0.15  1.391087  0.23690897  1.190359\n",
       "  0.16  1.391087  0.23690897  1.190359\n",
       "  0.17  1.368303  0.08957212  1.147769\n",
       "  0.18  1.369533  0.01795209  1.142731\n",
       "  0.19  1.356254  0.01795209  1.131768\n",
       "  0.20  1.328025         NaN  1.094530\n",
       "  0.21  1.328025         NaN  1.094530\n",
       "  0.22  1.328025         NaN  1.094530\n",
       "  0.23  1.328025         NaN  1.094530\n",
       "  0.24  1.328025         NaN  1.094530\n",
       "  0.25  1.328025         NaN  1.094530\n",
       "  0.26  1.328025         NaN  1.094530\n",
       "  0.27  1.328025         NaN  1.094530\n",
       "  0.28  1.328025         NaN  1.094530\n",
       "  0.29  1.328025         NaN  1.094530\n",
       "  0.30  1.328025         NaN  1.094530\n",
       "  0.31  1.328025         NaN  1.094530\n",
       "  0.32  1.328025         NaN  1.094530\n",
       "  0.33  1.328025         NaN  1.094530\n",
       "  0.34  1.328025         NaN  1.094530\n",
       "  0.35  1.328025         NaN  1.094530\n",
       "  0.36  1.328025         NaN  1.094530\n",
       "  0.37  1.328025         NaN  1.094530\n",
       "  0.38  1.328025         NaN  1.094530\n",
       "  0.39  1.328025         NaN  1.094530\n",
       "  0.40  1.328025         NaN  1.094530\n",
       "  0.41  1.328025         NaN  1.094530\n",
       "  0.42  1.328025         NaN  1.094530\n",
       "  0.43  1.328025         NaN  1.094530\n",
       "  0.44  1.328025         NaN  1.094530\n",
       "  0.45  1.328025         NaN  1.094530\n",
       "  0.46  1.328025         NaN  1.094530\n",
       "  0.47  1.328025         NaN  1.094530\n",
       "  0.48  1.328025         NaN  1.094530\n",
       "  0.49  1.328025         NaN  1.094530\n",
       "  0.50  1.328025         NaN  1.094530\n",
       "\n",
       "RMSE was used to select the optimal model using the smallest value.\n",
       "The final value used for the model was cp = 0.01."
      ]
     },
     "metadata": {},
     "output_type": "display_data"
    }
   ],
   "source": [
    "set.seed(111)\n",
    "numFolds = trainControl( method = \"cv\", number = 10 )\n",
    "cpGrid = expand.grid( .cp = seq(0.01,0.5,0.01)) \n",
    "train(Life.Exp ~ Area, data=statedata, method = \"rpart\", \n",
    "      trControl = numFolds, tuneGrid = cpGrid)"
   ]
  },
  {
   "cell_type": "code",
   "execution_count": 15,
   "metadata": {},
   "outputs": [
    {
     "data": {
      "image/png": "[encoded data removed]",
      "text/plain": [
       "plot without title"
      ]
     },
     "metadata": {},
     "output_type": "display_data"
    }
   ],
   "source": [
    "modelCart5 <- rpart(Life.Exp ~ Area, data=statedata, cp = 0.01)\n",
    "prp(modelCart5)"
   ]
  },
  {
   "cell_type": "markdown",
   "metadata": {},
   "source": [
    "# Problem 3.6 - Cross-Validation\n",
    "#### The lower left leaf (or bucket) corresponds to the lowest predicted Life.Exp of 70. Observations in this leaf correspond to states with area greater than or equal to"
   ]
  },
  {
   "cell_type": "code",
   "execution_count": 16,
   "metadata": {},
   "outputs": [
    {
     "data": {
      "text/html": [
       "9579"
      ],
      "text/latex": [
       "9579"
      ],
      "text/markdown": [
       "9579"
      ],
      "text/plain": [
       "[1] 9579"
      ]
     },
     "metadata": {},
     "output_type": "display_data"
    }
   ],
   "source": [
    "9579"
   ]
  },
  {
   "cell_type": "markdown",
   "metadata": {},
   "source": [
    "#### and area less than"
   ]
  },
  {
   "cell_type": "code",
   "execution_count": 17,
   "metadata": {},
   "outputs": [
    {
     "data": {
      "text/html": [
       "51000"
      ],
      "text/latex": [
       "51000"
      ],
      "text/markdown": [
       "51000"
      ],
      "text/plain": [
       "[1] 51000"
      ]
     },
     "metadata": {},
     "output_type": "display_data"
    }
   ],
   "source": [
    "51e+3"
   ]
  },
  {
   "cell_type": "markdown",
   "metadata": {},
   "source": [
    "# Problem 3.7 - Cross-Validation\n",
    "#### We have simplified the previous \"Area tree\" considerably by using cross-validation. Calculate the SSE of the cross-validated \"Area tree\", and select all of the following correct statements that apply:\n",
    "- <font color='red'>The best model in this whole question is the first \"Area tree\" because it had the lowest SSE.</font><br>\n",
    "- <font color='red'>The Area variable is not as predictive as Murder rate.</font> # Correct <br>\n",
    "- <font color='red'>Cross-validation is intended to decrease the SSE for a model on the training data, compared to a tree that isn't cross-validated.</font><br>\n",
    "- <font color='red'>Cross-validation will always improve the SSE of a model on unseen data, compared to a tree that isn't cross-validated.</font><br>"
   ]
  },
  {
   "cell_type": "code",
   "execution_count": 18,
   "metadata": {},
   "outputs": [
    {
     "data": {
      "text/html": [
       "44.2681679040403"
      ],
      "text/latex": [
       "44.2681679040403"
      ],
      "text/markdown": [
       "44.2681679040403"
      ],
      "text/plain": [
       "[1] 44.26817"
      ]
     },
     "metadata": {},
     "output_type": "display_data"
    }
   ],
   "source": [
    "predictionCart5 <- predict(modelCart5)\n",
    "(SSE <- sum((predictionCart5 - statedata$Life.Exp)^2))"
   ]
  }
 ],
 "metadata": {
  "kernelspec": {
   "display_name": "R",
   "language": "R",
   "name": "ir"
  },
  "language_info": {
   "codemirror_mode": "r",
   "file_extension": ".r",
   "mimetype": "text/x-r-source",
   "name": "R",
   "pygments_lexer": "r",
   "version": "3.5.1"
  }
 },
 "nbformat": 4,
 "nbformat_minor": 2
}
