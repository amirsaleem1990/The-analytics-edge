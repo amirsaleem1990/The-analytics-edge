{
 "cells": [
  {
   "cell_type": "markdown",
   "metadata": {},
   "source": [
    "[Predicting Earnings from Census Data](https://ocw.mit.edu/courses/sloan-school-of-management/15-071-the-analytics-edge-spring-2017/trees/assignment-4/)"
   ]
  },
  {
   "cell_type": "markdown",
   "metadata": {},
   "source": [
    "#### The United States government periodically collects demographic information by conducting a census.\n",
    "#### In this problem, we are going to use census information about an individual to predict how much a person earns -- in particular, whether the person earns more than $50,000 per year. This data comes from the UCI Machine Learning Repository.\n",
    "#### The file census (CSV - 3.3MB) contains 1994 census data for 31,978 individuals in the United States.\n",
    "#### The dataset includes the following 13 variables:\n",
    "- <font color='red'>age = the age of the individual in years</font><br>\n",
    "- <font color='red'>workclass = the classification of the individual's working status (does the person work for the federal government, work for the local government, work without pay, and so on)</font><br>\n",
    "- <font color='red'>education = the level of education of the individual (e.g., 5th-6th grade, high school graduate, PhD, so on)</font><br>\n",
    "- <font color='red'>maritalstatus = the marital status of the individual</font><br>\n",
    "- <font color='red'>occupation = the type of work the individual does (e.g., administrative/clerical work, farming/fishing, sales and so on)</font><br>\n",
    "- <font color='red'>relationship = relationship of individual to his/her household</font><br>\n",
    "- <font color='red'>race = the individual's race</font><br>\n",
    "- <font color='red'>sex = the individual's sex</font><br>\n",
    "- <font color='red'>capitalgain = the capital gains of the individual in 1994 (from selling an asset such as a stock or bond for more than the original purchase price)</font><br>\n",
    "- <font color='red'>capitalloss = the capital losses of the individual in 1994 (from selling an asset such as a stock or bond for less than the original purchase price)</font><br>\n",
    "- <font color='red'>hoursperweek = the number of hours the individual works per week</font><br>\n",
    "- <font color='red'>nativecountry = the native country of the individual</font><br>\n",
    "- <font color='red'>over50k = whether or not the individual earned more than \\\\$50,000 in 1994</font><br>"
   ]
  },
  {
   "cell_type": "markdown",
   "metadata": {},
   "source": [
    "# Problem 1.1 - A Logistic Regression Model"
   ]
  },
  {
   "cell_type": "markdown",
   "metadata": {},
   "source": [
    "#### Let's begin by building a logistic regression model to predict whether an individual's earnings are above \\\\$50,000 (the variable \"over50k\") using all of the other variables as independent variables. First, read the dataset census.csv into R.\n",
    "#### Then, split the data randomly into a training set and a testing set, setting the seed to 2000 before creating the split. Split the data so that the training set contains 60\\% of the observations, while the testing set contains 40\\% of the observations.\n",
    "#### Next, build a logistic regression model to predict the dependent variable \"over50k\", using all of the other variables in the dataset as independent variables. Use the training set to build the model.\n",
    "#### Which variables are significant, or have factors that have at least one significant dummy variable? (Use 0.1 as your significance threshold, so variables with a period or dot in the stars column should be counted too. You might see a warning message here - you can ignore it and proceed. This message is a warning that we might be overfitting our model to the training set.) Select all that apply.\n",
    "- <font color='red'>age</font> # Correct <br>\n",
    "- <font color='red'>workclass</font> # Correct <br>\n",
    "- <font color='red'>education</font> # Correct <br>\n",
    "- <font color='red'>maritalstatus</font> # Correct <br>\n",
    "- <font color='red'>occupation</font> # Correct <br>\n",
    "- <font color='red'>relationship</font> # Correct <br>\n",
    "- <font color='red'>race</font><br>\n",
    "- <font color='red'>sex</font> # Correct <br>\n",
    "- <font color='red'>capitalgain</font> # Correct <br>\n",
    "- <font color='red'>capitalloss</font> # Correct <br>\n",
    "- <font color='red'>hoursperweek</font> # Correct <br>\n",
    "- <font color='red'>nativecountry</font><br>"
   ]
  },
  {
   "cell_type": "code",
   "execution_count": 1,
   "metadata": {
    "scrolled": true
   },
   "outputs": [
    {
     "name": "stdout",
     "output_type": "stream",
     "text": [
      "'data.frame':\t31978 obs. of  13 variables:\n",
      " $ age          : int  39 50 38 53 28 37 49 52 31 42 ...\n",
      " $ workclass    : Factor w/ 9 levels \" ?\",\" Federal-gov\",..: 8 7 5 5 5 5 5 7 5 5 ...\n",
      " $ education    : Factor w/ 16 levels \" 10th\",\" 11th\",..: 10 10 12 2 10 13 7 12 13 10 ...\n",
      " $ maritalstatus: Factor w/ 7 levels \" Divorced\",\" Married-AF-spouse\",..: 5 3 1 3 3 3 4 3 5 3 ...\n",
      " $ occupation   : Factor w/ 15 levels \" ?\",\" Adm-clerical\",..: 2 5 7 7 11 5 9 5 11 5 ...\n",
      " $ relationship : Factor w/ 6 levels \" Husband\",\" Not-in-family\",..: 2 1 2 1 6 6 2 1 2 1 ...\n",
      " $ race         : Factor w/ 5 levels \" Amer-Indian-Eskimo\",..: 5 5 5 3 3 5 3 5 5 5 ...\n",
      " $ sex          : Factor w/ 2 levels \" Female\",\" Male\": 2 2 2 2 1 1 1 2 1 2 ...\n",
      " $ capitalgain  : int  2174 0 0 0 0 0 0 0 14084 5178 ...\n",
      " $ capitalloss  : int  0 0 0 0 0 0 0 0 0 0 ...\n",
      " $ hoursperweek : int  40 13 40 40 40 40 16 45 50 40 ...\n",
      " $ nativecountry: Factor w/ 41 levels \" Cambodia\",\" Canada\",..: 39 39 39 39 5 39 23 39 39 39 ...\n",
      " $ over50k      : Factor w/ 2 levels \" <=50K\",\" >50K\": 1 1 1 1 1 1 1 2 2 2 ...\n"
     ]
    }
   ],
   "source": [
    "census  <- read.csv(\"../data/census.csv\")\n",
    "str(census)"
   ]
  },
  {
   "cell_type": "code",
   "execution_count": 2,
   "metadata": {},
   "outputs": [
    {
     "name": "stderr",
     "output_type": "stream",
     "text": [
      "Warning message:\n",
      "“glm.fit: fitted probabilities numerically 0 or 1 occurred”"
     ]
    },
    {
     "data": {
      "text/plain": [
       "\n",
       "Call:\n",
       "glm(formula = over50k ~ ., family = binomial, data = Train)\n",
       "\n",
       "Deviance Residuals: \n",
       "    Min       1Q   Median       3Q      Max  \n",
       "-3.2341  -0.5045  -0.1821  -0.0004   3.4323  \n",
       "\n",
       "Coefficients: (1 not defined because of singularities)\n",
       "                                           Estimate Std. Error z value Pr(>|z|)\n",
       "(Intercept)                              -7.664e+00  1.113e+00  -6.887 5.71e-12\n",
       "age                                       2.441e-02  2.280e-03  10.708  < 2e-16\n",
       "workclass Federal-gov                     1.146e+00  2.124e-01   5.397 6.80e-08\n",
       "workclass Local-gov                       5.010e-01  1.925e-01   2.603 0.009239\n",
       "workclass Never-worked                   -1.045e+01  1.142e+03  -0.009 0.992699\n",
       "workclass Private                         7.582e-01  1.712e-01   4.428 9.51e-06\n",
       "workclass Self-emp-inc                    9.394e-01  2.051e-01   4.580 4.64e-06\n",
       "workclass Self-emp-not-inc                4.050e-01  1.881e-01   2.153 0.031304\n",
       "workclass State-gov                       3.424e-01  2.083e-01   1.644 0.100219\n",
       "workclass Without-pay                    -1.467e+01  1.021e+03  -0.014 0.988539\n",
       "education 11th                            2.531e-01  2.803e-01   0.903 0.366515\n",
       "education 12th                            6.638e-01  3.706e-01   1.791 0.073302\n",
       "education 1st-4th                         1.068e-01  5.348e-01   0.200 0.841789\n",
       "education 5th-6th                        -3.110e-01  4.405e-01  -0.706 0.480196\n",
       "education 7th-8th                        -5.183e-01  3.295e-01  -1.573 0.115707\n",
       "education 9th                            -2.076e-01  3.675e-01  -0.565 0.572081\n",
       "education Assoc-acdm                      1.318e+00  2.445e-01   5.392 6.97e-08\n",
       "education Assoc-voc                       1.382e+00  2.334e-01   5.922 3.19e-09\n",
       "education Bachelors                       1.896e+00  2.186e-01   8.675  < 2e-16\n",
       "education Doctorate                       3.001e+00  3.059e-01   9.807  < 2e-16\n",
       "education HS-grad                         7.471e-01  2.126e-01   3.514 0.000442\n",
       "education Masters                         2.379e+00  2.337e-01  10.180  < 2e-16\n",
       "education Preschool                      -1.342e+01  3.729e+02  -0.036 0.971291\n",
       "education Prof-school                     2.705e+00  2.786e-01   9.711  < 2e-16\n",
       "education Some-college                    1.142e+00  2.157e-01   5.295 1.19e-07\n",
       "maritalstatus Married-AF-spouse           2.516e+00  7.102e-01   3.543 0.000396\n",
       "maritalstatus Married-civ-spouse          1.634e+00  3.758e-01   4.347 1.38e-05\n",
       "maritalstatus Married-spouse-absent      -1.676e-02  3.341e-01  -0.050 0.959996\n",
       "maritalstatus Never-married              -5.405e-01  1.214e-01  -4.453 8.46e-06\n",
       "maritalstatus Separated                   3.667e-02  2.117e-01   0.173 0.862463\n",
       "maritalstatus Widowed                     2.131e-01  2.103e-01   1.014 0.310724\n",
       "occupation Adm-clerical                   1.861e-01  1.345e-01   1.384 0.166449\n",
       "occupation Armed-Forces                   1.896e-01  2.462e+00   0.077 0.938623\n",
       "occupation Craft-repair                   6.655e-02  1.155e-01   0.576 0.564365\n",
       "occupation Exec-managerial                8.451e-01  1.182e-01   7.152 8.58e-13\n",
       "occupation Farming-fishing               -1.142e+00  2.018e-01  -5.657 1.54e-08\n",
       "occupation Handlers-cleaners             -3.591e-01  1.912e-01  -1.878 0.060425\n",
       "occupation Machine-op-inspct             -3.376e-01  1.466e-01  -2.303 0.021259\n",
       "occupation Other-service                 -7.553e-01  1.703e-01  -4.436 9.17e-06\n",
       "occupation Priv-house-serv               -1.399e+01  2.355e+02  -0.059 0.952642\n",
       "occupation Prof-specialty                 6.005e-01  1.273e-01   4.719 2.37e-06\n",
       "occupation Protective-serv                5.804e-01  1.791e-01   3.241 0.001193\n",
       "occupation Sales                          3.481e-01  1.219e-01   2.856 0.004287\n",
       "occupation Tech-support                   7.864e-01  1.624e-01   4.841 1.29e-06\n",
       "occupation Transport-moving                      NA         NA      NA       NA\n",
       "relationship Not-in-family               -5.759e-02  3.717e-01  -0.155 0.876859\n",
       "relationship Other-relative              -5.340e-01  3.618e-01  -1.476 0.139997\n",
       "relationship Own-child                   -1.143e+00  3.750e-01  -3.047 0.002311\n",
       "relationship Unmarried                   -3.075e-02  3.920e-01  -0.078 0.937463\n",
       "relationship Wife                         1.430e+00  1.421e-01  10.060  < 2e-16\n",
       "race Asian-Pac-Islander                   5.445e-01  3.699e-01   1.472 0.141010\n",
       "race Black                                3.823e-01  3.022e-01   1.265 0.205739\n",
       "race Other                               -3.414e-01  5.419e-01  -0.630 0.528685\n",
       "race White                                4.846e-01  2.868e-01   1.689 0.091126\n",
       "sex Male                                  9.201e-01  1.106e-01   8.319  < 2e-16\n",
       "capitalgain                               3.174e-04  1.411e-05  22.495  < 2e-16\n",
       "capitalloss                               6.576e-04  5.086e-05  12.928  < 2e-16\n",
       "hoursperweek                              3.147e-02  2.292e-03  13.731  < 2e-16\n",
       "nativecountry Canada                     -6.064e-01  1.025e+00  -0.592 0.554043\n",
       "nativecountry China                      -7.185e-01  1.036e+00  -0.693 0.488143\n",
       "nativecountry Columbia                   -1.508e+01  3.535e+02  -0.043 0.965978\n",
       "nativecountry Cuba                       -4.035e-01  1.054e+00  -0.383 0.701703\n",
       "nativecountry Dominican-Republic         -1.432e+01  3.071e+02  -0.047 0.962804\n",
       "nativecountry Ecuador                    -1.432e+00  1.504e+00  -0.952 0.341034\n",
       "nativecountry El-Salvador                -7.012e-01  1.088e+00  -0.644 0.519391\n",
       "nativecountry England                    -5.571e-01  1.040e+00  -0.536 0.591976\n",
       "nativecountry France                     -7.792e-01  1.157e+00  -0.673 0.500635\n",
       "nativecountry Germany                    -4.665e-01  1.025e+00  -0.455 0.648923\n",
       "nativecountry Greece                     -1.905e+00  1.243e+00  -1.532 0.125550\n",
       "nativecountry Guatemala                  -1.808e-01  1.245e+00  -0.145 0.884548\n",
       "nativecountry Haiti                      -1.042e+00  1.368e+00  -0.762 0.446179\n",
       "nativecountry Holand-Netherlands         -1.337e+01  2.400e+03  -0.006 0.995556\n",
       "nativecountry Honduras                   -1.664e+00  2.878e+00  -0.578 0.563126\n",
       "nativecountry Hong                       -8.631e-01  1.409e+00  -0.613 0.540203\n",
       "nativecountry Hungary                    -1.570e+01  1.055e+03  -0.015 0.988129\n",
       "nativecountry India                      -6.194e-01  1.008e+00  -0.615 0.538763\n",
       "nativecountry Iran                       -4.890e-01  1.068e+00  -0.458 0.647125\n",
       "nativecountry Ireland                    -4.670e-01  1.330e+00  -0.351 0.725511\n",
       "nativecountry Italy                      -1.129e-01  1.049e+00  -0.108 0.914240\n",
       "nativecountry Jamaica                    -1.283e+00  1.176e+00  -1.091 0.275138\n",
       "nativecountry Japan                       8.014e-01  1.154e+00   0.695 0.487330\n",
       "nativecountry Laos                       -2.924e-01  1.338e+00  -0.219 0.827011\n",
       "nativecountry Mexico                     -9.220e-01  9.918e-01  -0.930 0.352555\n",
       "nativecountry Nicaragua                  -7.002e-01  1.255e+00  -0.558 0.577043\n",
       "nativecountry Outlying-US(Guam-USVI-etc) -1.493e+01  7.206e+02  -0.021 0.983471\n",
       "nativecountry Peru                       -1.030e+00  1.484e+00  -0.694 0.487837\n",
       "nativecountry Philippines                -2.038e-01  9.693e-01  -0.210 0.833484\n",
       "nativecountry Poland                     -2.266e-01  1.078e+00  -0.210 0.833514\n",
       "nativecountry Portugal                   -6.948e-01  1.246e+00  -0.558 0.577074\n",
       "nativecountry Puerto-Rico                -9.917e-01  1.081e+00  -0.917 0.358947\n",
       "nativecountry Scotland                   -2.842e-01  1.360e+00  -0.209 0.834483\n",
       "nativecountry South                      -1.378e+00  1.065e+00  -1.294 0.195586\n",
       "nativecountry Taiwan                     -7.401e-02  1.087e+00  -0.068 0.945702\n",
       "nativecountry Thailand                   -7.377e-01  1.363e+00  -0.541 0.588380\n",
       "nativecountry Trinadad&Tobago            -1.615e+00  1.523e+00  -1.060 0.289025\n",
       "nativecountry United-States              -4.132e-01  9.544e-01  -0.433 0.665073\n",
       "nativecountry Vietnam                    -1.556e+01  3.174e+02  -0.049 0.960907\n",
       "nativecountry Yugoslavia                  1.364e+00  1.320e+00   1.033 0.301406\n",
       "                                            \n",
       "(Intercept)                              ***\n",
       "age                                      ***\n",
       "workclass Federal-gov                    ***\n",
       "workclass Local-gov                      ** \n",
       "workclass Never-worked                      \n",
       "workclass Private                        ***\n",
       "workclass Self-emp-inc                   ***\n",
       "workclass Self-emp-not-inc               *  \n",
       "workclass State-gov                         \n",
       "workclass Without-pay                       \n",
       "education 11th                              \n",
       "education 12th                           .  \n",
       "education 1st-4th                           \n",
       "education 5th-6th                           \n",
       "education 7th-8th                           \n",
       "education 9th                               \n",
       "education Assoc-acdm                     ***\n",
       "education Assoc-voc                      ***\n",
       "education Bachelors                      ***\n",
       "education Doctorate                      ***\n",
       "education HS-grad                        ***\n",
       "education Masters                        ***\n",
       "education Preschool                         \n",
       "education Prof-school                    ***\n",
       "education Some-college                   ***\n",
       "maritalstatus Married-AF-spouse          ***\n",
       "maritalstatus Married-civ-spouse         ***\n",
       "maritalstatus Married-spouse-absent         \n",
       "maritalstatus Never-married              ***\n",
       "maritalstatus Separated                     \n",
       "maritalstatus Widowed                       \n",
       "occupation Adm-clerical                     \n",
       "occupation Armed-Forces                     \n",
       "occupation Craft-repair                     \n",
       "occupation Exec-managerial               ***\n",
       "occupation Farming-fishing               ***\n",
       "occupation Handlers-cleaners             .  \n",
       "occupation Machine-op-inspct             *  \n",
       "occupation Other-service                 ***\n",
       "occupation Priv-house-serv                  \n",
       "occupation Prof-specialty                ***\n",
       "occupation Protective-serv               ** \n",
       "occupation Sales                         ** \n",
       "occupation Tech-support                  ***\n",
       "occupation Transport-moving                 \n",
       "relationship Not-in-family                  \n",
       "relationship Other-relative                 \n",
       "relationship Own-child                   ** \n",
       "relationship Unmarried                      \n",
       "relationship Wife                        ***\n",
       "race Asian-Pac-Islander                     \n",
       "race Black                                  \n",
       "race Other                                  \n",
       "race White                               .  \n",
       "sex Male                                 ***\n",
       "capitalgain                              ***\n",
       "capitalloss                              ***\n",
       "hoursperweek                             ***\n",
       "nativecountry Canada                        \n",
       "nativecountry China                         \n",
       "nativecountry Columbia                      \n",
       "nativecountry Cuba                          \n",
       "nativecountry Dominican-Republic            \n",
       "nativecountry Ecuador                       \n",
       "nativecountry El-Salvador                   \n",
       "nativecountry England                       \n",
       "nativecountry France                        \n",
       "nativecountry Germany                       \n",
       "nativecountry Greece                        \n",
       "nativecountry Guatemala                     \n",
       "nativecountry Haiti                         \n",
       "nativecountry Holand-Netherlands            \n",
       "nativecountry Honduras                      \n",
       "nativecountry Hong                          \n",
       "nativecountry Hungary                       \n",
       "nativecountry India                         \n",
       "nativecountry Iran                          \n",
       "nativecountry Ireland                       \n",
       "nativecountry Italy                         \n",
       "nativecountry Jamaica                       \n",
       "nativecountry Japan                         \n",
       "nativecountry Laos                          \n",
       "nativecountry Mexico                        \n",
       "nativecountry Nicaragua                     \n",
       "nativecountry Outlying-US(Guam-USVI-etc)    \n",
       "nativecountry Peru                          \n",
       "nativecountry Philippines                   \n",
       "nativecountry Poland                        \n",
       "nativecountry Portugal                      \n",
       "nativecountry Puerto-Rico                   \n",
       "nativecountry Scotland                      \n",
       "nativecountry South                         \n",
       "nativecountry Taiwan                        \n",
       "nativecountry Thailand                      \n",
       "nativecountry Trinadad&Tobago               \n",
       "nativecountry United-States                 \n",
       "nativecountry Vietnam                       \n",
       "nativecountry Yugoslavia                    \n",
       "---\n",
       "Signif. codes:  0 ‘***’ 0.001 ‘**’ 0.01 ‘*’ 0.05 ‘.’ 0.1 ‘ ’ 1\n",
       "\n",
       "(Dispersion parameter for binomial family taken to be 1)\n",
       "\n",
       "    Null deviance: 18979  on 17217  degrees of freedom\n",
       "Residual deviance: 10834  on 17121  degrees of freedom\n",
       "AIC: 11028\n",
       "\n",
       "Number of Fisher Scoring iterations: 15\n"
      ]
     },
     "metadata": {},
     "output_type": "display_data"
    }
   ],
   "source": [
    "set.seed(2000)\n",
    "library(caTools)\n",
    "spl  <- sample.split(census, SplitRatio = 0.6)\n",
    "Train <- subset(census, spl == TRUE)\n",
    "Test <- subset(census, spl == FALSE)\n",
    "model  <- glm(over50k ~ ., data= Train, family = binomial)\n",
    "summary(model)"
   ]
  },
  {
   "cell_type": "markdown",
   "metadata": {},
   "source": [
    "# Problem 1.2 - A Logistic Regression Model"
   ]
  },
  {
   "cell_type": "markdown",
   "metadata": {},
   "source": [
    "#### What is the accuracy of the model on the testing set? Use a threshold of p = 0.5. (You might see a warning message when you make predictions on the test set - you can safely ignore it.)"
   ]
  },
  {
   "cell_type": "code",
   "execution_count": 3,
   "metadata": {},
   "outputs": [
    {
     "name": "stderr",
     "output_type": "stream",
     "text": [
      "Warning message in predict.lm(object, newdata, se.fit, scale = 1, type = ifelse(type == :\n",
      "“prediction from a rank-deficient fit may be misleading”"
     ]
    },
    {
     "data": {
      "text/plain": [
       "        \n",
       "         FALSE  TRUE\n",
       "   <=50K 10421   777\n",
       "   >50K   1439  2123"
      ]
     },
     "metadata": {},
     "output_type": "display_data"
    },
    {
     "data": {
      "text/html": [
       "0.849864498644986"
      ],
      "text/latex": [
       "0.849864498644986"
      ],
      "text/markdown": [
       "0.849864498644986"
      ],
      "text/plain": [
       "[1] 0.8498645"
      ]
     },
     "metadata": {},
     "output_type": "display_data"
    }
   ],
   "source": [
    "predTest <- predict(model, newdata = Test, type=\"response\")\n",
    "table(Test$over50k, predTest >= 0.5)\n",
    "(10421+2123)/(10421+777+1439+2123)"
   ]
  },
  {
   "cell_type": "markdown",
   "metadata": {},
   "source": [
    "# Problem 1.3 - A Logistic Regression Model"
   ]
  },
  {
   "cell_type": "markdown",
   "metadata": {},
   "source": [
    "#### What is the accuracy of the baseline model on the testing set?"
   ]
  },
  {
   "cell_type": "code",
   "execution_count": 4,
   "metadata": {},
   "outputs": [
    {
     "data": {
      "text/plain": [
       "\n",
       " <=50K   >50K \n",
       " 11198   3562 "
      ]
     },
     "metadata": {},
     "output_type": "display_data"
    },
    {
     "data": {
      "text/html": [
       "0.758672086720867"
      ],
      "text/latex": [
       "0.758672086720867"
      ],
      "text/markdown": [
       "0.758672086720867"
      ],
      "text/plain": [
       "[1] 0.7586721"
      ]
     },
     "metadata": {},
     "output_type": "display_data"
    }
   ],
   "source": [
    "table(Test$over50k)\n",
    "11198/(11198+3562)"
   ]
  },
  {
   "cell_type": "markdown",
   "metadata": {},
   "source": [
    "# Problem 1.4 - A Logistic Regression Model"
   ]
  },
  {
   "cell_type": "markdown",
   "metadata": {},
   "source": [
    "#### What is the area under the curve (AUC) for the logistic regression model on the test set?"
   ]
  },
  {
   "cell_type": "code",
   "execution_count": 5,
   "metadata": {},
   "outputs": [
    {
     "name": "stderr",
     "output_type": "stream",
     "text": [
      "Loading required package: gplots\n",
      "\n",
      "Attaching package: ‘gplots’\n",
      "\n",
      "The following object is masked from ‘package:stats’:\n",
      "\n",
      "    lowess\n",
      "\n"
     ]
    },
    {
     "data": {
      "text/html": [
       "0.904943433590169"
      ],
      "text/latex": [
       "0.904943433590169"
      ],
      "text/markdown": [
       "0.904943433590169"
      ],
      "text/plain": [
       "[1] 0.9049434"
      ]
     },
     "metadata": {},
     "output_type": "display_data"
    }
   ],
   "source": [
    "library(ROCR)\n",
    "ROCRpredTest = prediction(predTest, Test$over50k)\n",
    "(auc = as.numeric(performance(ROCRpredTest, \"auc\")@y.values))"
   ]
  },
  {
   "cell_type": "markdown",
   "metadata": {},
   "source": [
    "# Problem 2.1 - A CART Model"
   ]
  },
  {
   "cell_type": "markdown",
   "metadata": {},
   "source": [
    "#### We have just seen how a logistic regression model for this data achieves a high accuracy. Moreover, the significances of the variables give us a way to gauge which variables are relevant for this prediction task. However, it is not immediately clear which variables are more important than the others, especially due to the large number of factor variables in this problem.\n",
    "#### Let us now build a CART model to predict \"over50k\". Use the training set to build the model, with all of the other variables as independent variables. Use the default parameters (with the default loss table), so don't set a value for minbucket or cp and do not specify a loss table. Remember to specify method=\"class\" as an argument to rpart, since this is a classification problem. After you are done building the model, plot the resulting tree.\n",
    "#### How many splits does the tree have in total?"
   ]
  },
  {
   "cell_type": "code",
   "execution_count": 6,
   "metadata": {},
   "outputs": [
    {
     "data": {
      "image/png": "[encoded data removed]",
      "text/plain": [
       "plot without title"
      ]
     },
     "metadata": {},
     "output_type": "display_data"
    }
   ],
   "source": [
    "library(rpart)\n",
    "library(rpart.plot)\n",
    "cartModel <- rpart(over50k ~ ., data=Train, method=\"class\")\n",
    "prp(cartModel)"
   ]
  },
  {
   "cell_type": "markdown",
   "metadata": {},
   "source": [
    "# Problem 2.2 - A CART Model"
   ]
  },
  {
   "cell_type": "markdown",
   "metadata": {},
   "source": [
    "#### Which variable does the tree split on at the first level (the very first split of the tree)?\n",
    "- <font color='red'>age</font><br>\n",
    "- <font color='red'>workclass</font><br>\n",
    "- <font color='red'>education</font><br>\n",
    "- <font color='red'>maritalstatus</font><br>\n",
    "- <font color='red'>occupation</font><br>\n",
    "- <font color='red'>relationship</font> # Correct <br>\n",
    "- <font color='red'>race</font><br>\n",
    "- <font color='red'>sex</font><br>\n",
    "- <font color='red'>capitalgain</font><br>\n",
    "- <font color='red'>capitalloss</font><br>\n",
    "- <font color='red'>hoursperweek</font><br>\n",
    "- <font color='red'>nativecountry</font><br>"
   ]
  },
  {
   "cell_type": "markdown",
   "metadata": {},
   "source": [
    "# Problem 2.3 - A CART Model"
   ]
  },
  {
   "cell_type": "markdown",
   "metadata": {},
   "source": [
    "#### Which variables does the tree split on at the second level (immediately after the first split of the tree)? Select all that apply.\n",
    "- <font color='red'>age</font><br>\n",
    "- <font color='red'>workclass</font><br>\n",
    "- <font color='red'>education</font> # Correct <br>\n",
    "- <font color='red'>maritalstatus</font><br>\n",
    "- <font color='red'>occupation</font><br>\n",
    "- <font color='red'>relationship</font><br>\n",
    "- <font color='red'>race</font><br>\n",
    "- <font color='red'>sex</font><br>\n",
    "- <font color='red'>capitalgain</font> # Correct <br>\n",
    "- <font color='red'>capitalloss</font><br>\n",
    "- <font color='red'>hoursperweek</font><br>\n",
    "- <font color='red'>nativecountry</font><br>"
   ]
  },
  {
   "cell_type": "markdown",
   "metadata": {},
   "source": [
    "# Problem 2.4 - A CART Model"
   ]
  },
  {
   "cell_type": "markdown",
   "metadata": {},
   "source": [
    "#### What is the accuracy of the model on the testing set?"
   ]
  },
  {
   "cell_type": "code",
   "execution_count": 7,
   "metadata": {},
   "outputs": [
    {
     "data": {
      "text/plain": [
       "        PredictCart\n",
       "          <=50K  >50K\n",
       "   <=50K  10531   667\n",
       "   >50K    1672  1890"
      ]
     },
     "metadata": {},
     "output_type": "display_data"
    },
    {
     "data": {
      "text/html": [
       "0.841531165311653"
      ],
      "text/latex": [
       "0.841531165311653"
      ],
      "text/markdown": [
       "0.841531165311653"
      ],
      "text/plain": [
       "[1] 0.8415312"
      ]
     },
     "metadata": {},
     "output_type": "display_data"
    }
   ],
   "source": [
    "PredictCart <- predict(cartModel, newdata = Test, type = \"class\")\n",
    "table(Test$over50k, PredictCart)\n",
    "(10531+1890) / (10531+667+1672+1890)"
   ]
  },
  {
   "cell_type": "markdown",
   "metadata": {},
   "source": [
    "#### <font color='red'>This highlights a very regular phenomenon when comparing CART and logistic regression. CART often performs a little worse than logistic regression in out-of-sample accuracy. However, as is the case here, the CART model is often much simpler to describe and understand.</font>"
   ]
  },
  {
   "cell_type": "markdown",
   "metadata": {},
   "source": [
    "# Problem 3.1 - A Random Forest Model"
   ]
  },
  {
   "cell_type": "markdown",
   "metadata": {},
   "source": [
    "#### Before building a random forest model, we'll down-sample our training set. While some modern personal computers can build a random forest model on the entire training set, others might run out of memory when trying to train the model since random forests is much more computationally intensive than CART or Logistic Regression. For this reason, before continuing we will define a new training set to be used when building our random forest model, that contains 2000 randomly selected obervations from the original training set. Do this by running the following commands in your R console (assuming your training set is called \"censusTrain\"):\n",
    "#### set.seed(1)\n",
    "#### trainSmall = censusTrain[sample(nrow(censusTrain), 2000), ]\n",
    "#### Let us now build a random forest model to predict \"over50k\", using the dataset \"trainSmall\" as the data used to build the model. Set the seed to 1 again right before building the model, and use all of the other variables in the dataset as independent variables. (If you get an error that random forest \"can not handle categorical predictors with more than 32 categories\", re-build the model without the nativecountry variable as one of the independent variables.)\n",
    "#### Then, make predictions using this model on the entire test set. What is the accuracy of the model on the test set, using a threshold of 0.5? (Remember that you don't need a \"type\" argument when making predictions with a random forest model if you want to use a threshold of 0.5. Also, note that your accuracy might be different from the one reported here, since random forest models can still differ depending on your operating system, even when the random seed is set. )"
   ]
  },
  {
   "cell_type": "code",
   "execution_count": 8,
   "metadata": {},
   "outputs": [
    {
     "name": "stderr",
     "output_type": "stream",
     "text": [
      "randomForest 4.6-14\n",
      "Type rfNews() to see new features/changes/bug fixes.\n"
     ]
    },
    {
     "data": {
      "text/plain": [
       "        predictionsForest\n",
       "          <=50K  >50K\n",
       "   <=50K  10315   883\n",
       "   >50K    1198  2364"
      ]
     },
     "metadata": {},
     "output_type": "display_data"
    },
    {
     "data": {
      "text/html": [
       "0.859010840108401"
      ],
      "text/latex": [
       "0.859010840108401"
      ],
      "text/markdown": [
       "0.859010840108401"
      ],
      "text/plain": [
       "[1] 0.8590108"
      ]
     },
     "metadata": {},
     "output_type": "display_data"
    }
   ],
   "source": [
    "set.seed(1)\n",
    "trainSmall = census[sample(nrow(census), 2000), ]\n",
    "set.seed(1)\n",
    "library(randomForest)\n",
    "trainSmall$over50k <- as.factor(trainSmall$over50k)\n",
    "Test$over50k <- as.factor(Test$over50k)\n",
    "censusForest  <- randomForest(over50k ~ ., data= trainSmall)#, nodesize = 25, ntree = 200\n",
    "predictionsForest = predict(censusForest, newdata= Test)\n",
    "table(Test$over50k, predictionsForest)\n",
    "(10315+2364) / (10315+883+1198+2364)"
   ]
  },
  {
   "cell_type": "markdown",
   "metadata": {},
   "source": [
    "#### You may be surprised that the test-set accuracy of the random forest model is lower than the test-set accuracies of some of the other, simpler models we've trained. This can occur when the parameters of the random forest have not been tuned via cross-validation and the default parameters are ill suited for the dataset."
   ]
  },
  {
   "cell_type": "markdown",
   "metadata": {},
   "source": [
    "# Problem 4.1 - Selecting cp by Cross-Validation"
   ]
  },
  {
   "cell_type": "markdown",
   "metadata": {},
   "source": [
    "#### We now conclude our study of this data set by looking at how CART behaves with different choices of its parameters.\n",
    "#### Let us select the cp parameter for our CART model using k-fold cross validation, with k = 10 folds. Do this by using the train function. Set the seed beforehand to 2. Test cp values from 0.002 to 0.092 in 0.01 increments, by using the following command:\n",
    "#### cartGrid = data.frame( .cp = seq(0.002,0.092,0.01))\n",
    "#### After you create the cartGrid variable, you can pass it on to the train function by letting tuneGrid = cartGrid.\n",
    "#### Also, remember to use the entire training set \"censusTrain\" when building this model. The train function might take some time to run.\n",
    "#### Which value of cp does the train function recommend?"
   ]
  },
  {
   "cell_type": "code",
   "execution_count": 9,
   "metadata": {},
   "outputs": [
    {
     "name": "stderr",
     "output_type": "stream",
     "text": [
      "Loading required package: lattice\n",
      "Loading required package: ggplot2\n",
      "\n",
      "Attaching package: ‘ggplot2’\n",
      "\n",
      "The following object is masked from ‘package:randomForest’:\n",
      "\n",
      "    margin\n",
      "\n"
     ]
    },
    {
     "data": {
      "text/plain": [
       "CART \n",
       "\n",
       "17218 samples\n",
       "   12 predictor\n",
       "    2 classes: ' <=50K', ' >50K' \n",
       "\n",
       "No pre-processing\n",
       "Resampling: Cross-Validated (10 fold) \n",
       "Summary of sample sizes: 15496, 15496, 15495, 15497, 15496, 15495, ... \n",
       "Resampling results across tuning parameters:\n",
       "\n",
       "  cp     Accuracy   Kappa    \n",
       "  0.002  0.8563712  0.5751312\n",
       "  0.012  0.8466732  0.5407577\n",
       "  0.022  0.8433049  0.5199841\n",
       "  0.032  0.8433049  0.5199841\n",
       "  0.042  0.8297742  0.4627558\n",
       "  0.052  0.8215250  0.4164289\n",
       "  0.062  0.8101415  0.2984142\n",
       "  0.072  0.7599605  0.0000000\n",
       "  0.082  0.7599605  0.0000000\n",
       "  0.092  0.7599605  0.0000000\n",
       "\n",
       "Accuracy was used to select the optimal model using the largest value.\n",
       "The final value used for the model was cp = 0.002."
      ]
     },
     "metadata": {},
     "output_type": "display_data"
    }
   ],
   "source": [
    "library(caret)\n",
    "library(e1071)\n",
    "numFolds = trainControl( method = \"cv\", number = 10 )\n",
    "cartGrid <- data.frame( .cp = seq(0.002,0.092,0.01))\n",
    "set.seed(2)\n",
    "(cartCV  <- train(over50k ~ ., data = Train,method = \"rpart\", \n",
    "      trControl = numFolds, tuneGrid = cartGrid ))"
   ]
  },
  {
   "cell_type": "markdown",
   "metadata": {},
   "source": [
    "# Problem 4.2 - Selecting cp by Cross-Validation"
   ]
  },
  {
   "cell_type": "markdown",
   "metadata": {},
   "source": [
    "#### Recall that the caret package causes categorical independent variables to be split into factor levels. To generate a version of the test set with dummy variables, please run the following command (which assumes your test set is stored in variable \"censusTest\"):\n",
    "#### censusTestMM = as.data.frame(model.matrix(over50k~.+0, data=censusTest))\n",
    "#### Use the final model selected via cross-validation to make predictions on censusTestMM. What is the prediction accuracy on the test set?"
   ]
  },
  {
   "cell_type": "code",
   "execution_count": 10,
   "metadata": {},
   "outputs": [
    {
     "data": {
      "text/plain": [
       "        predictTest\n",
       "          <=50K  >50K\n",
       "   <=50K  10490   708\n",
       "   >50K    1477  2085"
      ]
     },
     "metadata": {},
     "output_type": "display_data"
    },
    {
     "data": {
      "text/html": [
       "0.851964769647697"
      ],
      "text/latex": [
       "0.851964769647697"
      ],
      "text/markdown": [
       "0.851964769647697"
      ],
      "text/plain": [
       "[1] 0.8519648"
      ]
     },
     "metadata": {},
     "output_type": "display_data"
    }
   ],
   "source": [
    "model <- cartCV$final\n",
    "censusTestMM = as.data.frame(model.matrix(over50k~.+0, data=Test))\n",
    "predictTest = predict(model, newdata=censusTestMM, type=\"class\")\n",
    "table(Test$over50k, predictTest)\n",
    "(10490+2085)/(10490+708+1477+2085)"
   ]
  },
  {
   "cell_type": "markdown",
   "metadata": {},
   "source": [
    "# Problem 4.3 - Selecting cp by Cross-Validation"
   ]
  },
  {
   "cell_type": "markdown",
   "metadata": {},
   "source": [
    "#### Compared to the original accuracy using the default value of cp, this new CART model is an improvement, and so we should clearly favor this new model over the old one -- or should we? Plot the CART tree for this model. How many splits are there?"
   ]
  },
  {
   "cell_type": "code",
   "execution_count": 11,
   "metadata": {},
   "outputs": [
    {
     "data": {
      "text/html": [
       "17"
      ],
      "text/latex": [
       "17"
      ],
      "text/markdown": [
       "17"
      ],
      "text/plain": [
       "[1] 17"
      ]
     },
     "metadata": {},
     "output_type": "display_data"
    }
   ],
   "source": [
    "max(model$cptable[,2])"
   ]
  },
  {
   "cell_type": "markdown",
   "metadata": {},
   "source": [
    "#### <font color='red'>This highlights one important tradeoff in building predictive models. By tuning cp, we improved our accuracy, but our tree became significantly more complex. In some applications, such an improvement in accuracy would be worth the loss in interpretability. In others, we may prefer a less accurate model that is simpler to understand and describe over a more accurate -- but more complicated -- model.</font>"
   ]
  }
 ],
 "metadata": {
  "kernelspec": {
   "display_name": "R",
   "language": "R",
   "name": "ir"
  },
  "language_info": {
   "codemirror_mode": "r",
   "file_extension": ".r",
   "mimetype": "text/x-r-source",
   "name": "R",
   "pygments_lexer": "r",
   "version": "3.5.1"
  }
 },
 "nbformat": 4,
 "nbformat_minor": 2
}
