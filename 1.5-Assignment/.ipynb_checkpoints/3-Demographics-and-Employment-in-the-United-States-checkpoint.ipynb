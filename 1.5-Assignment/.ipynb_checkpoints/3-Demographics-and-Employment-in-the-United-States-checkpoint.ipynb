{
 "cells": [
  {
   "cell_type": "markdown",
   "metadata": {},
   "source": [
    "##### https://ocw.mit.edu/courses/sloan-school-of-management/15-071-the-analytics-edge-spring-2017/an-introduction-to-analytics/assignment-1/demographics-and-employment-in-the-united-states/"
   ]
  },
  {
   "cell_type": "code",
   "execution_count": 4,
   "metadata": {},
   "outputs": [
    {
     "name": "stdout",
     "output_type": "stream",
     "text": [
      "'data.frame':\t131302 obs. of  14 variables:\n",
      " $ PeopleInHousehold : int  1 3 3 3 3 3 3 2 2 2 ...\n",
      " $ Region            : Factor w/ 4 levels \"Midwest\",\"Northeast\",..: 3 3 3 3 3 3 3 3 3 3 ...\n",
      " $ State             : Factor w/ 51 levels \"Alabama\",\"Alaska\",..: 1 1 1 1 1 1 1 1 1 1 ...\n",
      " $ MetroAreaCode     : int  26620 13820 13820 13820 26620 26620 26620 33660 33660 26620 ...\n",
      " $ Age               : int  85 21 37 18 52 24 26 71 43 52 ...\n",
      " $ Married           : Factor w/ 5 levels \"Divorced\",\"Married\",..: 5 3 3 3 5 3 3 1 1 3 ...\n",
      " $ Sex               : Factor w/ 2 levels \"Female\",\"Male\": 1 2 1 2 1 2 2 1 2 2 ...\n",
      " $ Education         : Factor w/ 8 levels \"Associate degree\",..: 1 4 4 6 1 2 4 4 4 2 ...\n",
      " $ Race              : Factor w/ 6 levels \"American Indian\",..: 6 3 3 3 6 6 6 6 6 6 ...\n",
      " $ Hispanic          : int  0 0 0 0 0 0 0 0 0 0 ...\n",
      " $ CountryOfBirthCode: int  57 57 57 57 57 57 57 57 57 57 ...\n",
      " $ Citizenship       : Factor w/ 3 levels \"Citizen, Native\",..: 1 1 1 1 1 1 1 1 1 1 ...\n",
      " $ EmploymentStatus  : Factor w/ 5 levels \"Disabled\",\"Employed\",..: 4 5 1 3 2 2 2 2 3 2 ...\n",
      " $ Industry          : Factor w/ 14 levels \"Agriculture, forestry, fishing, and hunting\",..: NA 11 NA NA 11 4 14 4 NA 12 ...\n"
     ]
    }
   ],
   "source": [
    "CPS <- read.csv('../data/CPSData.csv')\n",
    "str(CPS)"
   ]
  },
  {
   "cell_type": "code",
   "execution_count": 5,
   "metadata": {},
   "outputs": [
    {
     "data": {
      "text/plain": [
       " PeopleInHousehold       Region               State       MetroAreaCode  \n",
       " Min.   : 1.000    Midwest  :30684   California  :11570   Min.   :10420  \n",
       " 1st Qu.: 2.000    Northeast:25939   Texas       : 7077   1st Qu.:21780  \n",
       " Median : 3.000    South    :41502   New York    : 5595   Median :34740  \n",
       " Mean   : 3.284    West     :33177   Florida     : 5149   Mean   :35075  \n",
       " 3rd Qu.: 4.000                      Pennsylvania: 3930   3rd Qu.:41860  \n",
       " Max.   :15.000                      Illinois    : 3912   Max.   :79600  \n",
       "                                     (Other)     :94069   NA's   :34238  \n",
       "      Age                 Married          Sex       \n",
       " Min.   : 0.00   Divorced     :11151   Female:67481  \n",
       " 1st Qu.:19.00   Married      :55509   Male  :63821  \n",
       " Median :39.00   Never Married:30772                 \n",
       " Mean   :38.83   Separated    : 2027                 \n",
       " 3rd Qu.:57.00   Widowed      : 6505                 \n",
       " Max.   :85.00   NA's         :25338                 \n",
       "                                                     \n",
       "                   Education                   Race           Hispanic     \n",
       " High school            :30906   American Indian :  1433   Min.   :0.0000  \n",
       " Bachelor's degree      :19443   Asian           :  6520   1st Qu.:0.0000  \n",
       " Some college, no degree:18863   Black           : 13913   Median :0.0000  \n",
       " No high school diploma :16095   Multiracial     :  2897   Mean   :0.1393  \n",
       " Associate degree       : 9913   Pacific Islander:   618   3rd Qu.:0.0000  \n",
       " (Other)                :10744   White           :105921   Max.   :1.0000  \n",
       " NA's                   :25338                                             \n",
       " CountryOfBirthCode               Citizenship               EmploymentStatus\n",
       " Min.   : 57.00     Citizen, Native     :116639   Disabled          : 5712  \n",
       " 1st Qu.: 57.00     Citizen, Naturalized:  7073   Employed          :61733  \n",
       " Median : 57.00     Non-Citizen         :  7590   Not in Labor Force:15246  \n",
       " Mean   : 82.68                                   Retired           :18619  \n",
       " 3rd Qu.: 57.00                                   Unemployed        : 4203  \n",
       " Max.   :555.00                                   NA's              :25789  \n",
       "                                                                            \n",
       "                               Industry    \n",
       " Educational and health services   :15017  \n",
       " Trade                             : 8933  \n",
       " Professional and business services: 7519  \n",
       " Manufacturing                     : 6791  \n",
       " Leisure and hospitality           : 6364  \n",
       " (Other)                           :21618  \n",
       " NA's                              :65060  "
      ]
     },
     "metadata": {},
     "output_type": "display_data"
    }
   ],
   "source": [
    "summary(CPS)"
   ]
  },
  {
   "cell_type": "markdown",
   "metadata": {},
   "source": [
    "# Problem 1.1 - Loading and Summarizing the Dataset\n",
    "#### Load the dataset from CPSData (CSV) into a data frame called CPS, and view the dataset with the summary() and str() commands.\n",
    "#### How many interviewees are in the dataset?"
   ]
  },
  {
   "cell_type": "code",
   "execution_count": 7,
   "metadata": {},
   "outputs": [
    {
     "data": {
      "text/html": [
       "131302"
      ],
      "text/latex": [
       "131302"
      ],
      "text/markdown": [
       "131302"
      ],
      "text/plain": [
       "[1] 131302"
      ]
     },
     "metadata": {},
     "output_type": "display_data"
    }
   ],
   "source": [
    "nrow(CPS)"
   ]
  },
  {
   "cell_type": "markdown",
   "metadata": {},
   "source": [
    "# Problem 1.2 - Loading and Summarizing the Dataset\n",
    "#### Among the interviewees with a value reported for the Industry variable, what is the most common industry of employment? Please enter the name exactly how you see it."
   ]
  },
  {
   "cell_type": "code",
   "execution_count": 12,
   "metadata": {},
   "outputs": [
    {
     "data": {
      "text/html": [
       "<strong>Educational and health services:</strong> 4"
      ],
      "text/latex": [
       "\\textbf{Educational and health services:} 4"
      ],
      "text/markdown": [
       "**Educational and health services:** 4"
      ],
      "text/plain": [
       "Educational and health services \n",
       "                              4 "
      ]
     },
     "metadata": {},
     "output_type": "display_data"
    }
   ],
   "source": [
    "which.max(table(CPS$Industry))"
   ]
  },
  {
   "cell_type": "markdown",
   "metadata": {},
   "source": [
    "# Problem 1.3 - Loading and Summarizing the Dataset\n",
    "#### Recall from the homework assignment \"The Analytical Detective\" that you can call the sort() function on the output of the table() function to obtain a sorted breakdown of a variable. For instance, sort(table(CPS$Region)) sorts the regions by the number of interviewees from that region.\n",
    "#### Which state has the fewest interviewees?"
   ]
  },
  {
   "cell_type": "code",
   "execution_count": null,
   "metadata": {},
   "outputs": [],
   "source": []
  },
  {
   "cell_type": "code",
   "execution_count": null,
   "metadata": {},
   "outputs": [],
   "source": []
  }
 ],
 "metadata": {
  "kernelspec": {
   "display_name": "R",
   "language": "R",
   "name": "ir"
  },
  "language_info": {
   "codemirror_mode": "r",
   "file_extension": ".r",
   "mimetype": "text/x-r-source",
   "name": "R",
   "pygments_lexer": "r",
   "version": "3.5.1"
  }
 },
 "nbformat": 4,
 "nbformat_minor": 2
}
