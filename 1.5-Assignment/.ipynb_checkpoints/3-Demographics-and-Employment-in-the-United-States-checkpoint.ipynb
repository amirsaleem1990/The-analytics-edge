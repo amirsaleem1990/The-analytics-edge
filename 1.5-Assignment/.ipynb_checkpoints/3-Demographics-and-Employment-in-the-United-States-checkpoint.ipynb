{
 "cells": [
  {
   "cell_type": "markdown",
   "metadata": {},
   "source": [
    "##### https://ocw.mit.edu/courses/sloan-school-of-management/15-071-the-analytics-edge-spring-2017/an-introduction-to-analytics/assignment-1/demographics-and-employment-in-the-united-states/"
   ]
  },
  {
   "cell_type": "code",
   "execution_count": 1,
   "metadata": {},
   "outputs": [
    {
     "name": "stdout",
     "output_type": "stream",
     "text": [
      "'data.frame':\t131302 obs. of  14 variables:\n",
      " $ PeopleInHousehold : int  1 3 3 3 3 3 3 2 2 2 ...\n",
      " $ Region            : Factor w/ 4 levels \"Midwest\",\"Northeast\",..: 3 3 3 3 3 3 3 3 3 3 ...\n",
      " $ State             : Factor w/ 51 levels \"Alabama\",\"Alaska\",..: 1 1 1 1 1 1 1 1 1 1 ...\n",
      " $ MetroAreaCode     : int  26620 13820 13820 13820 26620 26620 26620 33660 33660 26620 ...\n",
      " $ Age               : int  85 21 37 18 52 24 26 71 43 52 ...\n",
      " $ Married           : Factor w/ 5 levels \"Divorced\",\"Married\",..: 5 3 3 3 5 3 3 1 1 3 ...\n",
      " $ Sex               : Factor w/ 2 levels \"Female\",\"Male\": 1 2 1 2 1 2 2 1 2 2 ...\n",
      " $ Education         : Factor w/ 8 levels \"Associate degree\",..: 1 4 4 6 1 2 4 4 4 2 ...\n",
      " $ Race              : Factor w/ 6 levels \"American Indian\",..: 6 3 3 3 6 6 6 6 6 6 ...\n",
      " $ Hispanic          : int  0 0 0 0 0 0 0 0 0 0 ...\n",
      " $ CountryOfBirthCode: int  57 57 57 57 57 57 57 57 57 57 ...\n",
      " $ Citizenship       : Factor w/ 3 levels \"Citizen, Native\",..: 1 1 1 1 1 1 1 1 1 1 ...\n",
      " $ EmploymentStatus  : Factor w/ 5 levels \"Disabled\",\"Employed\",..: 4 5 1 3 2 2 2 2 3 2 ...\n",
      " $ Industry          : Factor w/ 14 levels \"Agriculture, forestry, fishing, and hunting\",..: NA 11 NA NA 11 4 14 4 NA 12 ...\n"
     ]
    }
   ],
   "source": [
    "CPS <- read.csv('../data/CPSData.csv')\n",
    "str(CPS)"
   ]
  },
  {
   "cell_type": "code",
   "execution_count": 2,
   "metadata": {},
   "outputs": [
    {
     "data": {
      "text/plain": [
       " PeopleInHousehold       Region               State       MetroAreaCode  \n",
       " Min.   : 1.000    Midwest  :30684   California  :11570   Min.   :10420  \n",
       " 1st Qu.: 2.000    Northeast:25939   Texas       : 7077   1st Qu.:21780  \n",
       " Median : 3.000    South    :41502   New York    : 5595   Median :34740  \n",
       " Mean   : 3.284    West     :33177   Florida     : 5149   Mean   :35075  \n",
       " 3rd Qu.: 4.000                      Pennsylvania: 3930   3rd Qu.:41860  \n",
       " Max.   :15.000                      Illinois    : 3912   Max.   :79600  \n",
       "                                     (Other)     :94069   NA's   :34238  \n",
       "      Age                 Married          Sex       \n",
       " Min.   : 0.00   Divorced     :11151   Female:67481  \n",
       " 1st Qu.:19.00   Married      :55509   Male  :63821  \n",
       " Median :39.00   Never Married:30772                 \n",
       " Mean   :38.83   Separated    : 2027                 \n",
       " 3rd Qu.:57.00   Widowed      : 6505                 \n",
       " Max.   :85.00   NA's         :25338                 \n",
       "                                                     \n",
       "                   Education                   Race           Hispanic     \n",
       " High school            :30906   American Indian :  1433   Min.   :0.0000  \n",
       " Bachelor's degree      :19443   Asian           :  6520   1st Qu.:0.0000  \n",
       " Some college, no degree:18863   Black           : 13913   Median :0.0000  \n",
       " No high school diploma :16095   Multiracial     :  2897   Mean   :0.1393  \n",
       " Associate degree       : 9913   Pacific Islander:   618   3rd Qu.:0.0000  \n",
       " (Other)                :10744   White           :105921   Max.   :1.0000  \n",
       " NA's                   :25338                                             \n",
       " CountryOfBirthCode               Citizenship               EmploymentStatus\n",
       " Min.   : 57.00     Citizen, Native     :116639   Disabled          : 5712  \n",
       " 1st Qu.: 57.00     Citizen, Naturalized:  7073   Employed          :61733  \n",
       " Median : 57.00     Non-Citizen         :  7590   Not in Labor Force:15246  \n",
       " Mean   : 82.68                                   Retired           :18619  \n",
       " 3rd Qu.: 57.00                                   Unemployed        : 4203  \n",
       " Max.   :555.00                                   NA's              :25789  \n",
       "                                                                            \n",
       "                               Industry    \n",
       " Educational and health services   :15017  \n",
       " Trade                             : 8933  \n",
       " Professional and business services: 7519  \n",
       " Manufacturing                     : 6791  \n",
       " Leisure and hospitality           : 6364  \n",
       " (Other)                           :21618  \n",
       " NA's                              :65060  "
      ]
     },
     "metadata": {},
     "output_type": "display_data"
    }
   ],
   "source": [
    "summary(CPS)"
   ]
  },
  {
   "cell_type": "markdown",
   "metadata": {},
   "source": [
    "# Problem 1.1 - Loading and Summarizing the Dataset\n",
    "#### Load the dataset from CPSData (CSV) into a data frame called CPS, and view the dataset with the summary() and str() commands.\n",
    "#### How many interviewees are in the dataset?"
   ]
  },
  {
   "cell_type": "code",
   "execution_count": 3,
   "metadata": {},
   "outputs": [
    {
     "data": {
      "text/html": [
       "131302"
      ],
      "text/latex": [
       "131302"
      ],
      "text/markdown": [
       "131302"
      ],
      "text/plain": [
       "[1] 131302"
      ]
     },
     "metadata": {},
     "output_type": "display_data"
    }
   ],
   "source": [
    "nrow(CPS)"
   ]
  },
  {
   "cell_type": "markdown",
   "metadata": {},
   "source": [
    "# Problem 1.2 - Loading and Summarizing the Dataset\n",
    "#### Among the interviewees with a value reported for the Industry variable, what is the most common industry of employment? Please enter the name exactly how you see it."
   ]
  },
  {
   "cell_type": "code",
   "execution_count": 4,
   "metadata": {},
   "outputs": [
    {
     "data": {
      "text/html": [
       "<strong>Educational and health services:</strong> 4"
      ],
      "text/latex": [
       "\\textbf{Educational and health services:} 4"
      ],
      "text/markdown": [
       "**Educational and health services:** 4"
      ],
      "text/plain": [
       "Educational and health services \n",
       "                              4 "
      ]
     },
     "metadata": {},
     "output_type": "display_data"
    }
   ],
   "source": [
    "which.max(table(CPS$Industry))"
   ]
  },
  {
   "cell_type": "markdown",
   "metadata": {},
   "source": [
    "# Problem 1.3 - Loading and Summarizing the Dataset\n",
    "#### Recall from the homework assignment \"The Analytical Detective\" that you can call the sort() function on the output of the table() function to obtain a sorted breakdown of a variable. For instance, sort(table(CPS\\\\$Region)) sorts the regions by the number of interviewees from that region.\n",
    "#### Which state has the fewest interviewees?"
   ]
  },
  {
   "cell_type": "code",
   "execution_count": 5,
   "metadata": {},
   "outputs": [
    {
     "data": {
      "text/html": [
       "<strong>New Mexico:</strong> 1"
      ],
      "text/latex": [
       "\\textbf{New Mexico:} 1"
      ],
      "text/markdown": [
       "**New Mexico:** 1"
      ],
      "text/plain": [
       "New Mexico \n",
       "         1 "
      ]
     },
     "metadata": {},
     "output_type": "display_data"
    }
   ],
   "source": [
    "which.min(sort(table(CPS$State)))"
   ]
  },
  {
   "cell_type": "code",
   "execution_count": 6,
   "metadata": {},
   "outputs": [
    {
     "data": {
      "text/html": [
       "<strong>California:</strong> 51"
      ],
      "text/latex": [
       "\\textbf{California:} 51"
      ],
      "text/markdown": [
       "**California:** 51"
      ],
      "text/plain": [
       "California \n",
       "        51 "
      ]
     },
     "metadata": {},
     "output_type": "display_data"
    }
   ],
   "source": [
    "which.max(sort(table(CPS$State)))"
   ]
  },
  {
   "cell_type": "markdown",
   "metadata": {},
   "source": [
    "# Problem 1.4 - Loading and Summarizing the Dataset\n",
    "#### What proportion of interviewees are citizens of the United States?"
   ]
  },
  {
   "cell_type": "code",
   "execution_count": 7,
   "metadata": {},
   "outputs": [
    {
     "data": {
      "text/plain": [
       "\n",
       "     Citizen, Native Citizen, Naturalized          Non-Citizen \n",
       "              116639                 7073                 7590 "
      ]
     },
     "metadata": {},
     "output_type": "display_data"
    },
    {
     "data": {
      "text/html": [
       "0.942194330627104"
      ],
      "text/latex": [
       "0.942194330627104"
      ],
      "text/markdown": [
       "0.942194330627104"
      ],
      "text/plain": [
       "[1] 0.9421943"
      ]
     },
     "metadata": {},
     "output_type": "display_data"
    }
   ],
   "source": [
    "table(CPS$Citizenship)\n",
    "(116639 + 7073) / (sum(table(CPS$Citizenship)))"
   ]
  },
  {
   "cell_type": "markdown",
   "metadata": {},
   "source": [
    "# Problem 1.5 - Loading and Summarizing the Dataset\n",
    "#### The CPS differentiates between race (with possible values American Indian, Asian, Black, Pacific Islander, White, or Multiracial) and ethnicity. A number of interviewees are of Hispanic ethnicity, as captured by the Hispanic variable. For which races are there at least 250 interviewees in the CPS dataset of Hispanic ethnicity? (Select all that apply.)\n",
    "<font color='red'>American Indian</font> # Correct <br>\n",
    "<font color='red'>Asian</font><br>\n",
    "<font color='red'>Black</font> # Correct <br>\n",
    "<font color='red'>Multiracial</font> # Correct <br>\n",
    "<font color='red'>Pacific Islander</font><br>\n",
    "<font color='red'>White</font> # Correct <br>"
   ]
  },
  {
   "cell_type": "code",
   "execution_count": 8,
   "metadata": {},
   "outputs": [
    {
     "data": {
      "text/html": [
       "<dl class=dl-horizontal>\n",
       "\t<dt>American Indian</dt>\n",
       "\t\t<dd>304</dd>\n",
       "\t<dt>Asian</dt>\n",
       "\t\t<dd>113</dd>\n",
       "\t<dt>Black</dt>\n",
       "\t\t<dd>621</dd>\n",
       "\t<dt>Multiracial</dt>\n",
       "\t\t<dd>448</dd>\n",
       "\t<dt>Pacific Islander</dt>\n",
       "\t\t<dd>77</dd>\n",
       "\t<dt>White</dt>\n",
       "\t\t<dd>16731</dd>\n",
       "</dl>\n"
      ],
      "text/latex": [
       "\\begin{description*}\n",
       "\\item[American Indian] 304\n",
       "\\item[Asian] 113\n",
       "\\item[Black] 621\n",
       "\\item[Multiracial] 448\n",
       "\\item[Pacific Islander] 77\n",
       "\\item[White] 16731\n",
       "\\end{description*}\n"
      ],
      "text/markdown": [
       "American Indian\n",
       ":   304Asian\n",
       ":   113Black\n",
       ":   621Multiracial\n",
       ":   448Pacific Islander\n",
       ":   77White\n",
       ":   16731\n",
       "\n"
      ],
      "text/plain": [
       " American Indian            Asian            Black      Multiracial \n",
       "             304              113              621              448 \n",
       "Pacific Islander            White \n",
       "              77            16731 "
      ]
     },
     "metadata": {},
     "output_type": "display_data"
    }
   ],
   "source": [
    "a <- CPS[c(\"Hispanic\", \"Race\")]\n",
    "tapply(a$Hispanic, a$Race, sum)"
   ]
  },
  {
   "cell_type": "markdown",
   "metadata": {},
   "source": [
    "# Problem 2.1 - Evaluating Missing Values\n",
    "#### Which variables have at least one interviewee with a missing (NA) value? (Select all that apply.)\n",
    "<font color='red'>Region</font><br>\n",
    "<font color='red'>State</font><br>\n",
    "<font color='red'>MetroAreaCode</font> # Correct <br>\n",
    "<font color='red'>Age</font><br>\n",
    "<font color='red'>Married</font> # Correct <br>\n",
    "<font color='red'>Sex</font><br>\n",
    "<font color='red'>Education</font> # Correct <br>\n",
    "<font color='red'>Race</font><br>\n",
    "<font color='red'>Hispanic</font><br>\n",
    "<font color='red'>CountryOfBirthCode</font><br>\n",
    "<font color='red'>Citizenship</font><br>\n",
    "<font color='red'>EmploymentStatus</font> # Correct <br>\n",
    "<font color='red'>Industry</font> # Correct <br>"
   ]
  },
  {
   "cell_type": "code",
   "execution_count": 9,
   "metadata": {},
   "outputs": [
    {
     "data": {
      "text/html": [
       "<dl class=dl-horizontal>\n",
       "\t<dt>MetroAreaCode</dt>\n",
       "\t\t<dd>TRUE</dd>\n",
       "\t<dt>Married</dt>\n",
       "\t\t<dd>TRUE</dd>\n",
       "\t<dt>Education</dt>\n",
       "\t\t<dd>TRUE</dd>\n",
       "\t<dt>EmploymentStatus</dt>\n",
       "\t\t<dd>TRUE</dd>\n",
       "\t<dt>Industry</dt>\n",
       "\t\t<dd>TRUE</dd>\n",
       "</dl>\n"
      ],
      "text/latex": [
       "\\begin{description*}\n",
       "\\item[MetroAreaCode] TRUE\n",
       "\\item[Married] TRUE\n",
       "\\item[Education] TRUE\n",
       "\\item[EmploymentStatus] TRUE\n",
       "\\item[Industry] TRUE\n",
       "\\end{description*}\n"
      ],
      "text/markdown": [
       "MetroAreaCode\n",
       ":   TRUEMarried\n",
       ":   TRUEEducation\n",
       ":   TRUEEmploymentStatus\n",
       ":   TRUEIndustry\n",
       ":   TRUE\n",
       "\n"
      ],
      "text/plain": [
       "   MetroAreaCode          Married        Education EmploymentStatus \n",
       "            TRUE             TRUE             TRUE             TRUE \n",
       "        Industry \n",
       "            TRUE "
      ]
     },
     "metadata": {},
     "output_type": "display_data"
    }
   ],
   "source": [
    "a  <- apply(CPS, 2, function(x) any(is.na(x)))\n",
    "a[a == TRUE]\n",
    "\n",
    "# Another solution\n",
    "# colnames(CPS)[colSums(is.na(CPS)) > 0]"
   ]
  },
  {
   "cell_type": "markdown",
   "metadata": {},
   "source": [
    "# Problem 2.2 - Evaluating Missing Values\n",
    "#### Often when evaluating a new dataset, we try to identify if there is a pattern in the missing values in the dataset. We will try to determine if there is a pattern in the missing values of the Married variable. The function is.na(CPS\\\\$Married) returns a vector of TRUE/FALSE values for whether the Married variable is missing. We can see the breakdown of whether Married is missing based on the reported value of the Region variable with the function table(CPS\\\\$Region, is.na(CPS\\\\$Married)). Which is the most accurate:\n",
    "\n",
    "<font color='red'>The Married variable being missing is related to the Region value for the interviewee.</font><br>\n",
    "<font color='red'>The Married variable being missing is related to the Sex value for the interviewee.</font><br>\n",
    "<font color='red'>The Married variable being missing is related to the Age value for the interviewee.</font># Correct <br>\n",
    "<font color='red'>The Married variable being missing is related to the Citizenship value for the interviewee.</font><br>\n",
    "<font color='red'>The Married variable being missing is not related to the Region, Sex, Age, or Citizenship value for the interviewee.</font><br>"
   ]
  },
  {
   "cell_type": "code",
   "execution_count": 10,
   "metadata": {},
   "outputs": [
    {
     "data": {
      "text/plain": [
       "           \n",
       "            FALSE  TRUE\n",
       "  Midwest   24609  6075\n",
       "  Northeast 21432  4507\n",
       "  South     33535  7967\n",
       "  West      26388  6789"
      ]
     },
     "metadata": {},
     "output_type": "display_data"
    },
    {
     "data": {
      "text/plain": [
       "        \n",
       "         FALSE  TRUE\n",
       "  Female 55264 12217\n",
       "  Male   50700 13121"
      ]
     },
     "metadata": {},
     "output_type": "display_data"
    },
    {
     "data": {
      "text/plain": [
       "    \n",
       "     FALSE TRUE\n",
       "  0      0 1283\n",
       "  1      0 1559\n",
       "  2      0 1574\n",
       "  3      0 1693\n",
       "  4      0 1695\n",
       "  5      0 1795\n",
       "  6      0 1721\n",
       "  7      0 1681\n",
       "  8      0 1729\n",
       "  9      0 1748\n",
       "  10     0 1750\n",
       "  11     0 1721\n",
       "  12     0 1797\n",
       "  13     0 1802\n",
       "  14     0 1790\n",
       "  15  1795    0\n",
       "  16  1751    0\n",
       "  17  1764    0\n",
       "  18  1596    0\n",
       "  19  1517    0\n",
       "  20  1398    0\n",
       "  21  1525    0\n",
       "  22  1536    0\n",
       "  23  1638    0\n",
       "  24  1627    0\n",
       "  25  1604    0\n",
       "  26  1643    0\n",
       "  27  1657    0\n",
       "  28  1736    0\n",
       "  29  1645    0\n",
       "  30  1854    0\n",
       "  31  1762    0\n",
       "  32  1790    0\n",
       "  33  1804    0\n",
       "  34  1653    0\n",
       "  35  1716    0\n",
       "  36  1663    0\n",
       "  37  1531    0\n",
       "  38  1530    0\n",
       "  39  1542    0\n",
       "  40  1571    0\n",
       "  41  1673    0\n",
       "  42  1711    0\n",
       "  43  1819    0\n",
       "  44  1764    0\n",
       "  45  1749    0\n",
       "  46  1665    0\n",
       "  47  1647    0\n",
       "  48  1791    0\n",
       "  49  1989    0\n",
       "  50  1966    0\n",
       "  51  1931    0\n",
       "  52  1935    0\n",
       "  53  1994    0\n",
       "  54  1912    0\n",
       "  55  1895    0\n",
       "  56  1935    0\n",
       "  57  1827    0\n",
       "  58  1874    0\n",
       "  59  1758    0\n",
       "  60  1746    0\n",
       "  61  1735    0\n",
       "  62  1595    0\n",
       "  63  1596    0\n",
       "  64  1519    0\n",
       "  65  1569    0\n",
       "  66  1577    0\n",
       "  67  1227    0\n",
       "  68  1130    0\n",
       "  69  1062    0\n",
       "  70  1195    0\n",
       "  71  1031    0\n",
       "  72   941    0\n",
       "  73   896    0\n",
       "  74   842    0\n",
       "  75   763    0\n",
       "  76   729    0\n",
       "  77   698    0\n",
       "  78   659    0\n",
       "  79   661    0\n",
       "  80  2664    0\n",
       "  85  2446    0"
      ]
     },
     "metadata": {},
     "output_type": "display_data"
    },
    {
     "data": {
      "text/plain": [
       "                      \n",
       "                       FALSE  TRUE\n",
       "  Citizen, Native      91956 24683\n",
       "  Citizen, Naturalized  6910   163\n",
       "  Non-Citizen           7098   492"
      ]
     },
     "metadata": {},
     "output_type": "display_data"
    }
   ],
   "source": [
    "table(CPS$Region, is.na(CPS$Married))\n",
    "table(CPS$Sex, is.na(CPS$Married))\n",
    "table(CPS$Age, is.na(CPS$Married))\n",
    "table(CPS$Citizenship, is.na(CPS$Married))"
   ]
  },
  {
   "cell_type": "markdown",
   "metadata": {},
   "source": [
    "# Problem 2.3 - Evaluating Missing Values\n",
    "#### As mentioned in the variable descriptions, MetroAreaCode is missing if an interviewee does not live in a metropolitan area. Using the same technique as in the previous question, answer the following questions about people who live in non-metropolitan areas.\n",
    "#### How many states had all interviewees living in a non-metropolitan area (aka they have a missing MetroAreaCode value)? For this question, treat the District of Columbia as a state (even though it is not technically a state)."
   ]
  },
  {
   "cell_type": "code",
   "execution_count": 11,
   "metadata": {},
   "outputs": [
    {
     "data": {
      "text/html": [
       "2"
      ],
      "text/latex": [
       "2"
      ],
      "text/markdown": [
       "2"
      ],
      "text/plain": [
       "[1] 2"
      ]
     },
     "metadata": {},
     "output_type": "display_data"
    }
   ],
   "source": [
    "sum(table(CPS$State, is.na(CPS$MetroAreaCode))[,1]==0)"
   ]
  },
  {
   "cell_type": "markdown",
   "metadata": {},
   "source": [
    "#### How many states had all interviewees living in a metropolitan area? Again, treat the District of Columbia as a state."
   ]
  },
  {
   "cell_type": "code",
   "execution_count": 12,
   "metadata": {},
   "outputs": [
    {
     "data": {
      "text/html": [
       "3"
      ],
      "text/latex": [
       "3"
      ],
      "text/markdown": [
       "3"
      ],
      "text/plain": [
       "[1] 3"
      ]
     },
     "metadata": {},
     "output_type": "display_data"
    }
   ],
   "source": [
    "sum(table(CPS$State, is.na(CPS$MetroAreaCode))[,2]==0)"
   ]
  },
  {
   "cell_type": "markdown",
   "metadata": {},
   "source": [
    "# Problem 2.4 - Evaluating Missing Values\n",
    "#### Which region of the United States has the largest proportion of interviewees living in a non-metropolitan area?\n",
    "<font color='red'>Midwest</font> # Correct<br>\n",
    "<font color='red'>Northeast</font><br>\n",
    "<font color='red'>South</font><br>\n",
    "<font color='red'>West</font><br>"
   ]
  },
  {
   "cell_type": "code",
   "execution_count": 13,
   "metadata": {},
   "outputs": [
    {
     "name": "stderr",
     "output_type": "stream",
     "text": [
      "Warning message in a$perc <- a[, 2]/(a[, 1] + a[, 2]):\n",
      "“Coercing LHS to a list”"
     ]
    },
    {
     "data": {
      "text/html": [
       "<dl class=dl-horizontal>\n",
       "\t<dt>Midwest</dt>\n",
       "\t\t<dd>0.34786859601095</dd>\n",
       "\t<dt>Northeast</dt>\n",
       "\t\t<dd>0.216238097073904</dd>\n",
       "\t<dt>South</dt>\n",
       "\t\t<dd>0.237843959327261</dd>\n",
       "\t<dt>West</dt>\n",
       "\t\t<dd>0.243662778430841</dd>\n",
       "</dl>\n"
      ],
      "text/latex": [
       "\\begin{description*}\n",
       "\\item[Midwest] 0.34786859601095\n",
       "\\item[Northeast] 0.216238097073904\n",
       "\\item[South] 0.237843959327261\n",
       "\\item[West] 0.243662778430841\n",
       "\\end{description*}\n"
      ],
      "text/markdown": [
       "Midwest\n",
       ":   0.34786859601095Northeast\n",
       ":   0.216238097073904South\n",
       ":   0.237843959327261West\n",
       ":   0.243662778430841\n",
       "\n"
      ],
      "text/plain": [
       "  Midwest Northeast     South      West \n",
       "0.3478686 0.2162381 0.2378440 0.2436628 "
      ]
     },
     "metadata": {},
     "output_type": "display_data"
    }
   ],
   "source": [
    "a <- table(CPS$Region, is.na(CPS$MetroAreaCode))\n",
    "(a$perc <- a[,2] / (a[,1] + a[,2]))"
   ]
  },
  {
   "cell_type": "markdown",
   "metadata": {},
   "source": [
    "# Problem 2.5 - Evaluating Missing Values\n",
    "#### While we were able to use the table() command to compute the proportion of interviewees from each region not living in a metropolitan area, it was somewhat tedious (it involved manually computing the proportion for each region) and isn't something you would want to do if there were a larger number of options. It turns out there is a less tedious way to compute the proportion of values that are TRUE. The mean() function, which takes the average of the values passed to it, will treat TRUE as 1 and FALSE as 0, meaning it returns the proportion of values that are true. For instance, mean(c(TRUE, FALSE, TRUE, TRUE)) returns 0.75. Knowing this, use tapply() with the mean function to answer the following questions:\n",
    "#### Which state has a proportion of interviewees living in a non-metropolitan area closest to 30%?"
   ]
  },
  {
   "cell_type": "code",
   "execution_count": 14,
   "metadata": {},
   "outputs": [
    {
     "name": "stderr",
     "output_type": "stream",
     "text": [
      "Warning message in a$perc <- a[, 2]/(a[, 1] + a[, 2]):\n",
      "“Coercing LHS to a list”"
     ]
    },
    {
     "data": {
      "text/html": [
       "<dl class=dl-horizontal>\n",
       "\t<dt>District of Columbia</dt>\n",
       "\t\t<dd>0</dd>\n",
       "\t<dt>New Jersey</dt>\n",
       "\t\t<dd>0</dd>\n",
       "\t<dt>Rhode Island</dt>\n",
       "\t\t<dd>0</dd>\n",
       "\t<dt>California</dt>\n",
       "\t\t<dd>0.0204840103716508</dd>\n",
       "\t<dt>Florida</dt>\n",
       "\t\t<dd>0.0392309186249757</dd>\n",
       "\t<dt>Massachusetts</dt>\n",
       "\t\t<dd>0.0649219929542023</dd>\n",
       "\t<dt>Maryland</dt>\n",
       "\t\t<dd>0.069375</dd>\n",
       "\t<dt>New York</dt>\n",
       "\t\t<dd>0.0806076854334227</dd>\n",
       "\t<dt>Connecticut</dt>\n",
       "\t\t<dd>0.0856840620592384</dd>\n",
       "\t<dt>Illinois</dt>\n",
       "\t\t<dd>0.11221881390593</dd>\n",
       "\t<dt>Colorado</dt>\n",
       "\t\t<dd>0.12991452991453</dd>\n",
       "\t<dt>Arizona</dt>\n",
       "\t\t<dd>0.131544502617801</dd>\n",
       "\t<dt>Nevada</dt>\n",
       "\t\t<dd>0.133081896551724</dd>\n",
       "\t<dt>Texas</dt>\n",
       "\t\t<dd>0.143704959728699</dd>\n",
       "\t<dt>Louisiana</dt>\n",
       "\t\t<dd>0.161379310344828</dd>\n",
       "\t<dt>Pennsylvania</dt>\n",
       "\t\t<dd>0.174300254452926</dd>\n",
       "\t<dt>Michigan</dt>\n",
       "\t\t<dd>0.178256611165524</dd>\n",
       "\t<dt>Washington</dt>\n",
       "\t\t<dd>0.181318681318681</dd>\n",
       "\t<dt>Georgia</dt>\n",
       "\t\t<dd>0.198432490203064</dd>\n",
       "\t<dt>Virginia</dt>\n",
       "\t\t<dd>0.198442262106333</dd>\n",
       "\t<dt>Utah</dt>\n",
       "\t\t<dd>0.210097719869707</dd>\n",
       "\t<dt>Oregon</dt>\n",
       "\t\t<dd>0.218219248584663</dd>\n",
       "\t<dt>Delaware</dt>\n",
       "\t\t<dd>0.233965672990063</dd>\n",
       "\t<dt>New Mexico</dt>\n",
       "\t\t<dd>0.245009074410163</dd>\n",
       "\t<dt>Hawaii</dt>\n",
       "\t\t<dd>0.249166269652215</dd>\n",
       "\t<dt>Ohio</dt>\n",
       "\t\t<dd>0.251223491027732</dd>\n",
       "\t<dt>Alabama</dt>\n",
       "\t\t<dd>0.258720930232558</dd>\n",
       "\t<dt>Indiana</dt>\n",
       "\t\t<dd>0.291417165668663</dd>\n",
       "\t<dt>Wisconsin</dt>\n",
       "\t\t<dd>0.299329858525689</dd>\n",
       "\t<dt>South Carolina</dt>\n",
       "\t\t<dd>0.313027744270205</dd>\n",
       "\t<dt>Minnesota</dt>\n",
       "\t\t<dd>0.315068493150685</dd>\n",
       "\t<dt>Oklahoma</dt>\n",
       "\t\t<dd>0.327642810242942</dd>\n",
       "\t<dt>Missouri</dt>\n",
       "\t\t<dd>0.328671328671329</dd>\n",
       "\t<dt>Tennessee</dt>\n",
       "\t\t<dd>0.355941704035874</dd>\n",
       "\t<dt>Kansas</dt>\n",
       "\t\t<dd>0.362273901808786</dd>\n",
       "\t<dt>North Carolina</dt>\n",
       "\t\t<dd>0.373043146239023</dd>\n",
       "\t<dt>Iowa</dt>\n",
       "\t\t<dd>0.486946202531646</dd>\n",
       "\t<dt>Arkansas</dt>\n",
       "\t\t<dd>0.490499648135116</dd>\n",
       "\t<dt>Idaho</dt>\n",
       "\t\t<dd>0.498682476943346</dd>\n",
       "\t<dt>Kentucky</dt>\n",
       "\t\t<dd>0.506789788158609</dd>\n",
       "\t<dt>New Hampshire</dt>\n",
       "\t\t<dd>0.568745304282494</dd>\n",
       "\t<dt>Nebraska</dt>\n",
       "\t\t<dd>0.581323755772191</dd>\n",
       "\t<dt>Maine</dt>\n",
       "\t\t<dd>0.598320813079982</dd>\n",
       "\t<dt>Vermont</dt>\n",
       "\t\t<dd>0.652380952380952</dd>\n",
       "\t<dt>Mississippi</dt>\n",
       "\t\t<dd>0.694308943089431</dd>\n",
       "\t<dt>South Dakota</dt>\n",
       "\t\t<dd>0.7025</dd>\n",
       "\t<dt>North Dakota</dt>\n",
       "\t\t<dd>0.737386018237082</dd>\n",
       "\t<dt>West Virginia</dt>\n",
       "\t\t<dd>0.755855216465578</dd>\n",
       "\t<dt>Montana</dt>\n",
       "\t\t<dd>0.836079077429984</dd>\n",
       "\t<dt>Alaska</dt>\n",
       "\t\t<dd>1</dd>\n",
       "\t<dt>Wyoming</dt>\n",
       "\t\t<dd>1</dd>\n",
       "</dl>\n"
      ],
      "text/latex": [
       "\\begin{description*}\n",
       "\\item[District of Columbia] 0\n",
       "\\item[New Jersey] 0\n",
       "\\item[Rhode Island] 0\n",
       "\\item[California] 0.0204840103716508\n",
       "\\item[Florida] 0.0392309186249757\n",
       "\\item[Massachusetts] 0.0649219929542023\n",
       "\\item[Maryland] 0.069375\n",
       "\\item[New York] 0.0806076854334227\n",
       "\\item[Connecticut] 0.0856840620592384\n",
       "\\item[Illinois] 0.11221881390593\n",
       "\\item[Colorado] 0.12991452991453\n",
       "\\item[Arizona] 0.131544502617801\n",
       "\\item[Nevada] 0.133081896551724\n",
       "\\item[Texas] 0.143704959728699\n",
       "\\item[Louisiana] 0.161379310344828\n",
       "\\item[Pennsylvania] 0.174300254452926\n",
       "\\item[Michigan] 0.178256611165524\n",
       "\\item[Washington] 0.181318681318681\n",
       "\\item[Georgia] 0.198432490203064\n",
       "\\item[Virginia] 0.198442262106333\n",
       "\\item[Utah] 0.210097719869707\n",
       "\\item[Oregon] 0.218219248584663\n",
       "\\item[Delaware] 0.233965672990063\n",
       "\\item[New Mexico] 0.245009074410163\n",
       "\\item[Hawaii] 0.249166269652215\n",
       "\\item[Ohio] 0.251223491027732\n",
       "\\item[Alabama] 0.258720930232558\n",
       "\\item[Indiana] 0.291417165668663\n",
       "\\item[Wisconsin] 0.299329858525689\n",
       "\\item[South Carolina] 0.313027744270205\n",
       "\\item[Minnesota] 0.315068493150685\n",
       "\\item[Oklahoma] 0.327642810242942\n",
       "\\item[Missouri] 0.328671328671329\n",
       "\\item[Tennessee] 0.355941704035874\n",
       "\\item[Kansas] 0.362273901808786\n",
       "\\item[North Carolina] 0.373043146239023\n",
       "\\item[Iowa] 0.486946202531646\n",
       "\\item[Arkansas] 0.490499648135116\n",
       "\\item[Idaho] 0.498682476943346\n",
       "\\item[Kentucky] 0.506789788158609\n",
       "\\item[New Hampshire] 0.568745304282494\n",
       "\\item[Nebraska] 0.581323755772191\n",
       "\\item[Maine] 0.598320813079982\n",
       "\\item[Vermont] 0.652380952380952\n",
       "\\item[Mississippi] 0.694308943089431\n",
       "\\item[South Dakota] 0.7025\n",
       "\\item[North Dakota] 0.737386018237082\n",
       "\\item[West Virginia] 0.755855216465578\n",
       "\\item[Montana] 0.836079077429984\n",
       "\\item[Alaska] 1\n",
       "\\item[Wyoming] 1\n",
       "\\end{description*}\n"
      ],
      "text/markdown": [
       "District of Columbia\n",
       ":   0New Jersey\n",
       ":   0Rhode Island\n",
       ":   0California\n",
       ":   0.0204840103716508Florida\n",
       ":   0.0392309186249757Massachusetts\n",
       ":   0.0649219929542023Maryland\n",
       ":   0.069375New York\n",
       ":   0.0806076854334227Connecticut\n",
       ":   0.0856840620592384Illinois\n",
       ":   0.11221881390593Colorado\n",
       ":   0.12991452991453Arizona\n",
       ":   0.131544502617801Nevada\n",
       ":   0.133081896551724Texas\n",
       ":   0.143704959728699Louisiana\n",
       ":   0.161379310344828Pennsylvania\n",
       ":   0.174300254452926Michigan\n",
       ":   0.178256611165524Washington\n",
       ":   0.181318681318681Georgia\n",
       ":   0.198432490203064Virginia\n",
       ":   0.198442262106333Utah\n",
       ":   0.210097719869707Oregon\n",
       ":   0.218219248584663Delaware\n",
       ":   0.233965672990063New Mexico\n",
       ":   0.245009074410163Hawaii\n",
       ":   0.249166269652215Ohio\n",
       ":   0.251223491027732Alabama\n",
       ":   0.258720930232558Indiana\n",
       ":   0.291417165668663Wisconsin\n",
       ":   0.299329858525689South Carolina\n",
       ":   0.313027744270205Minnesota\n",
       ":   0.315068493150685Oklahoma\n",
       ":   0.327642810242942Missouri\n",
       ":   0.328671328671329Tennessee\n",
       ":   0.355941704035874Kansas\n",
       ":   0.362273901808786North Carolina\n",
       ":   0.373043146239023Iowa\n",
       ":   0.486946202531646Arkansas\n",
       ":   0.490499648135116Idaho\n",
       ":   0.498682476943346Kentucky\n",
       ":   0.506789788158609New Hampshire\n",
       ":   0.568745304282494Nebraska\n",
       ":   0.581323755772191Maine\n",
       ":   0.598320813079982Vermont\n",
       ":   0.652380952380952Mississippi\n",
       ":   0.694308943089431South Dakota\n",
       ":   0.7025North Dakota\n",
       ":   0.737386018237082West Virginia\n",
       ":   0.755855216465578Montana\n",
       ":   0.836079077429984Alaska\n",
       ":   1Wyoming\n",
       ":   1\n",
       "\n"
      ],
      "text/plain": [
       "District of Columbia           New Jersey         Rhode Island \n",
       "          0.00000000           0.00000000           0.00000000 \n",
       "          California              Florida        Massachusetts \n",
       "          0.02048401           0.03923092           0.06492199 \n",
       "            Maryland             New York          Connecticut \n",
       "          0.06937500           0.08060769           0.08568406 \n",
       "            Illinois             Colorado              Arizona \n",
       "          0.11221881           0.12991453           0.13154450 \n",
       "              Nevada                Texas            Louisiana \n",
       "          0.13308190           0.14370496           0.16137931 \n",
       "        Pennsylvania             Michigan           Washington \n",
       "          0.17430025           0.17825661           0.18131868 \n",
       "             Georgia             Virginia                 Utah \n",
       "          0.19843249           0.19844226           0.21009772 \n",
       "              Oregon             Delaware           New Mexico \n",
       "          0.21821925           0.23396567           0.24500907 \n",
       "              Hawaii                 Ohio              Alabama \n",
       "          0.24916627           0.25122349           0.25872093 \n",
       "             Indiana            Wisconsin       South Carolina \n",
       "          0.29141717           0.29932986           0.31302774 \n",
       "           Minnesota             Oklahoma             Missouri \n",
       "          0.31506849           0.32764281           0.32867133 \n",
       "           Tennessee               Kansas       North Carolina \n",
       "          0.35594170           0.36227390           0.37304315 \n",
       "                Iowa             Arkansas                Idaho \n",
       "          0.48694620           0.49049965           0.49868248 \n",
       "            Kentucky        New Hampshire             Nebraska \n",
       "          0.50678979           0.56874530           0.58132376 \n",
       "               Maine              Vermont          Mississippi \n",
       "          0.59832081           0.65238095           0.69430894 \n",
       "        South Dakota         North Dakota        West Virginia \n",
       "          0.70250000           0.73738602           0.75585522 \n",
       "             Montana               Alaska              Wyoming \n",
       "          0.83607908           1.00000000           1.00000000 "
      ]
     },
     "metadata": {},
     "output_type": "display_data"
    }
   ],
   "source": [
    "a <- table(CPS$State, is.na(CPS$MetroAreaCode))\n",
    "sort(a$perc <- a[,2] / (a[,1] + a[,2]))\n",
    "# Wisconsin"
   ]
  },
  {
   "cell_type": "markdown",
   "metadata": {},
   "source": [
    "#### Which state has the largest proportion of non-metropolitan interviewees, ignoring states where all interviewees were non-metropolitan?"
   ]
  },
  {
   "cell_type": "markdown",
   "metadata": {},
   "source": [
    "Montana"
   ]
  },
  {
   "cell_type": "markdown",
   "metadata": {},
   "source": [
    "# Problem 3.1 - Integrating Metropolitan Area Data\n",
    "#### Codes like MetroAreaCode and CountryOfBirthCode are a compact way to encode factor variables with text as their possible values, and they are therefore quite common in survey datasets. In fact, all but one of the variables in this dataset were actually stored by a numeric code in the original CPS datafile.\n",
    "#### When analyzing a variable stored by a numeric code, we will often want to convert it into the values the codes represent. To do this, we will use a dictionary, which maps the the code to the actual value of the variable. We have provided dictionaries MetroAreaCodes.csv and CountryCodes.csv, which respectively map MetroAreaCode and CountryOfBirthCode into their true values. Read these two dictionaries into data frames MetroAreaMap and CountryMap.\n",
    "#### How many observations (codes for metropolitan areas) are there in MetroAreaMap?"
   ]
  },
  {
   "cell_type": "code",
   "execution_count": 15,
   "metadata": {},
   "outputs": [
    {
     "name": "stderr",
     "output_type": "stream",
     "text": [
      "Warning message in system(\"cp ../../../learning/The-Analytics-Edge/data/MetroAreaCodes.csv CountryCodes.csv /home/home/Desktop/github/The-analytics-edge/data\", :\n",
      "“running command 'cp ../../../learning/The-Analytics-Edge/data/MetroAreaCodes.csv CountryCodes.csv /home/home/Desktop/github/The-analytics-edge/data' had status 1”"
     ]
    },
    {
     "data": {
      "text/html": [],
      "text/latex": [],
      "text/markdown": [],
      "text/plain": [
       "character(0)\n",
       "attr(,\"status\")\n",
       "[1] 1\n",
       "attr(,\"errmsg\")\n",
       "[1] \"Resource temporarily unavailable\""
      ]
     },
     "metadata": {},
     "output_type": "display_data"
    }
   ],
   "source": [
    "# copy data files from anothere folder\n",
    "system(\"cp ../../../learning/The-Analytics-Edge/data/MetroAreaCodes.csv CountryCodes.csv /home/home/Desktop/github/The-analytics-edge/data\", intern = TRUE)"
   ]
  },
  {
   "cell_type": "code",
   "execution_count": 16,
   "metadata": {},
   "outputs": [],
   "source": [
    "MetroAreaMap <- read.csv(\"../data/MetroAreaCodes.csv\")\n",
    "CountryMap <- read.csv(\"../data/CountryCodes.csv\")"
   ]
  },
  {
   "cell_type": "code",
   "execution_count": 17,
   "metadata": {},
   "outputs": [
    {
     "data": {
      "text/html": [
       "271"
      ],
      "text/latex": [
       "271"
      ],
      "text/markdown": [
       "271"
      ],
      "text/plain": [
       "[1] 271"
      ]
     },
     "metadata": {},
     "output_type": "display_data"
    }
   ],
   "source": [
    "nrow(MetroAreaMap)"
   ]
  },
  {
   "cell_type": "markdown",
   "metadata": {},
   "source": [
    "#### How many observations (codes for countries) are there in CountryMap?"
   ]
  },
  {
   "cell_type": "code",
   "execution_count": 18,
   "metadata": {},
   "outputs": [
    {
     "data": {
      "text/html": [
       "149"
      ],
      "text/latex": [
       "149"
      ],
      "text/markdown": [
       "149"
      ],
      "text/plain": [
       "[1] 149"
      ]
     },
     "metadata": {},
     "output_type": "display_data"
    }
   ],
   "source": [
    "nrow(CountryMap)"
   ]
  },
  {
   "cell_type": "markdown",
   "metadata": {},
   "source": [
    "# Problem 3.m2 - Integrating Metropolitan Area Data\n",
    "#### To merge in the metropolitan areas, we want to connect the field MetroAreaCode from the CPS data frame with the field Code in MetroAreaMap. The following command merges the two data frames on these columns, overwriting the CPS data frame with the result:\n",
    "#### CPS = merge(CPS, MetroAreaMap, by.x=\"MetroAreaCode\", by.y=\"Code\", all.x=TRUE)\n",
    "#### The first two arguments determine the data frames to be merged (they are called \"x\" and \"y\", respectively, in the subsequent parameters to the merge function). by.x=\"MetroAreaCode\" means we're matching on the MetroAreaCode variable from the \"x\" data frame (CPS), while by.y=\"Code\" means we're matching on the Code variable from the \"y\" data frame (MetroAreaMap). Finally, all.x=TRUE means we want to keep all rows from the \"x\" data frame (CPS), even if some of the rows' MetroAreaCode doesn't match any codes in MetroAreaMap (for those familiar with database terminology, this parameter makes the operation a left outer join instead of an inner join).\n",
    "#### Review the new version of the CPS data frame with the summary() and str() functions. What is the name of the variable that was added to the data frame by the merge() operation?"
   ]
  },
  {
   "cell_type": "code",
   "execution_count": 19,
   "metadata": {},
   "outputs": [],
   "source": [
    "CPS = merge(CPS, MetroAreaMap, by.x=\"MetroAreaCode\", by.y=\"Code\", all.x=TRUE)"
   ]
  },
  {
   "cell_type": "code",
   "execution_count": 20,
   "metadata": {},
   "outputs": [
    {
     "name": "stdout",
     "output_type": "stream",
     "text": [
      "'data.frame':\t131302 obs. of  15 variables:\n",
      " $ MetroAreaCode     : int  10420 10420 10420 10420 10420 10420 10420 10420 10420 10420 ...\n",
      " $ PeopleInHousehold : int  4 4 2 4 1 3 4 4 2 3 ...\n",
      " $ Region            : Factor w/ 4 levels \"Midwest\",\"Northeast\",..: 1 1 1 1 1 1 1 1 1 1 ...\n",
      " $ State             : Factor w/ 51 levels \"Alabama\",\"Alaska\",..: 36 36 36 36 36 36 36 36 36 36 ...\n",
      " $ Age               : int  2 9 73 40 63 19 30 6 60 32 ...\n",
      " $ Married           : Factor w/ 5 levels \"Divorced\",\"Married\",..: NA NA 2 2 3 3 2 NA 2 2 ...\n",
      " $ Sex               : Factor w/ 2 levels \"Female\",\"Male\": 2 2 1 1 2 1 1 1 1 2 ...\n",
      " $ Education         : Factor w/ 8 levels \"Associate degree\",..: NA NA 8 4 6 4 2 NA 4 4 ...\n",
      " $ Race              : Factor w/ 6 levels \"American Indian\",..: 6 6 6 6 6 6 2 6 6 6 ...\n",
      " $ Hispanic          : int  0 0 0 0 0 0 0 1 0 0 ...\n",
      " $ CountryOfBirthCode: int  57 57 57 362 57 57 203 57 57 57 ...\n",
      " $ Citizenship       : Factor w/ 3 levels \"Citizen, Native\",..: 1 1 1 2 1 1 3 1 1 1 ...\n",
      " $ EmploymentStatus  : Factor w/ 5 levels \"Disabled\",\"Employed\",..: NA NA 4 3 1 2 3 NA 2 2 ...\n",
      " $ Industry          : Factor w/ 14 levels \"Agriculture, forestry, fishing, and hunting\",..: NA NA NA NA NA 7 NA NA 4 13 ...\n",
      " $ MetroArea         : Factor w/ 271 levels \"Akron, OH\",\"Albany-Schenectady-Troy, NY\",..: 1 1 1 1 1 1 1 1 1 1 ...\n"
     ]
    }
   ],
   "source": [
    "str(CPS)"
   ]
  },
  {
   "cell_type": "code",
   "execution_count": 21,
   "metadata": {},
   "outputs": [
    {
     "data": {
      "text/plain": [
       "\n",
       "FALSE  TRUE \n",
       "97064 34238 "
      ]
     },
     "metadata": {},
     "output_type": "display_data"
    }
   ],
   "source": [
    "table(is.na(CPS$MetroArea))"
   ]
  },
  {
   "cell_type": "markdown",
   "metadata": {},
   "source": [
    "Problem 3.3 - Integrating Metropolitan Area Data\n",
    "#### Which of the following metropolitan areas has the largest number of interviewees?\n",
    "<font color='red'>Atlanta-Sandy Springs-Marietta, GA</font><br>\n",
    "<font color='red'>Baltimore-Towson, MD</font><br>\n",
    "<font color='red'>Boston-Cambridge-Quincy, MA-NH</font> # Center<br>\n",
    "<font color='red'>San Francisco-Oakland-Fremont, CA</font><br>"
   ]
  },
  {
   "cell_type": "code",
   "execution_count": 22,
   "metadata": {},
   "outputs": [
    {
     "data": {
      "text/plain": [
       "\n",
       "    Boston-Cambridge-Quincy, MA-NH Atlanta-Sandy Springs-Marietta, GA \n",
       "                              2229                               1552 \n",
       "              Baltimore-Towson, MD  San Francisco-Oakland-Fremont, CA \n",
       "                              1483                               1386 "
      ]
     },
     "metadata": {},
     "output_type": "display_data"
    }
   ],
   "source": [
    "sort(table(CPS$MetroArea)[c(\"Atlanta-Sandy Springs-Marietta, GA\",\n",
    "                                             \"Baltimore-Towson, MD\",\n",
    "                                             \"Boston-Cambridge-Quincy, MA-NH\",\n",
    "                                             \"San Francisco-Oakland-Fremont, CA\")]\n",
    "     , decreasing = T)"
   ]
  },
  {
   "cell_type": "markdown",
   "metadata": {},
   "source": [
    "# Problem 3.4 - Integrating Metropolitan Area Data\n",
    "#### Which metropolitan area has the highest proportion of interviewees of Hispanic ethnicity? Hint: Use tapply() with mean, as in the previous subproblem. Calling sort() on the output of tapply() could also be helpful here."
   ]
  },
  {
   "cell_type": "code",
   "execution_count": 23,
   "metadata": {},
   "outputs": [
    {
     "data": {
      "text/html": [
       "<strong>Laredo, TX:</strong> 0.966292134831461"
      ],
      "text/latex": [
       "\\textbf{Laredo, TX:} 0.966292134831461"
      ],
      "text/markdown": [
       "**Laredo, TX:** 0.966292134831461"
      ],
      "text/plain": [
       "Laredo, TX \n",
       " 0.9662921 "
      ]
     },
     "metadata": {},
     "output_type": "display_data"
    }
   ],
   "source": [
    "sort(tapply(CPS$Hispanic ,CPS$MetroArea, mean, na.rm=TRUE), decreasing = T)[1]"
   ]
  },
  {
   "cell_type": "markdown",
   "metadata": {},
   "source": [
    "# Problem 3.5 - Integrating Metropolitan Area Data\n",
    "#### Remembering that CPS\\\\$Race == \"Asian\" returns a TRUE/FALSE vector of whether an interviewee is Asian, determine the number of metropolitan areas in the United States from which at least 20% of interviewees are Asian."
   ]
  },
  {
   "cell_type": "code",
   "execution_count": 24,
   "metadata": {},
   "outputs": [
    {
     "data": {
      "text/html": [
       "4"
      ],
      "text/latex": [
       "4"
      ],
      "text/markdown": [
       "4"
      ],
      "text/plain": [
       "[1] 4"
      ]
     },
     "metadata": {},
     "output_type": "display_data"
    }
   ],
   "source": [
    "sum(tapply(CPS$Race == 'Asian',CPS$MetroArea, mean, na.rm=TRUE)>0.2 , na.rm = T)"
   ]
  },
  {
   "cell_type": "markdown",
   "metadata": {},
   "source": [
    "# Problem 3.6 - Integrating Metropolitan Area Data\n",
    "#### Normally, we would look at the sorted proportion of interviewees from each metropolitan area who have not received a high school diploma with the command:\n",
    "#### sort(tapply(CPS\\\\$Education == \"No high school diploma\", CPS\\\\$MetroArea, mean))\n",
    "#### However, none of the interviewees aged 14 and younger have an education value reported, so the mean value is reported as NA for each metropolitan area. To get mean (and related functions, like sum) to ignore missing values, you can pass the parameter na.rm=TRUE. Passing na.rm=TRUE to the tapply function, determine which metropolitan area has the smallest proportion of interviewees who have received no high school diploma."
   ]
  },
  {
   "cell_type": "code",
   "execution_count": 25,
   "metadata": {},
   "outputs": [
    {
     "data": {
      "text/html": [
       "<strong>Iowa City, IA:</strong> 112"
      ],
      "text/latex": [
       "\\textbf{Iowa City, IA:} 112"
      ],
      "text/markdown": [
       "**Iowa City, IA:** 112"
      ],
      "text/plain": [
       "Iowa City, IA \n",
       "          112 "
      ]
     },
     "metadata": {},
     "output_type": "display_data"
    }
   ],
   "source": [
    "which.min(tapply(CPS$Education == 'No high school diploma',CPS$MetroArea, mean, na.rm=TRUE))"
   ]
  },
  {
   "cell_type": "markdown",
   "metadata": {},
   "source": [
    "# Problem 4.1 - Integrating Country of Birth Data\n",
    "#### mJust as we did with the metropolitan area information, merge in the country of birth information from the CountryMap data frame, replacing the CPS data frame with the result. If you accidentally overwrite CPS with the wrong values, remember that you can restore it by re-loading the data frame from CPSData.csv and then merging in the metropolitan area information using the command provided in the previous subproblem.\n",
    "#### mWhat is the name of the variable added to the CPS data frame by this merge operation?"
   ]
  },
  {
   "cell_type": "code",
   "execution_count": 26,
   "metadata": {},
   "outputs": [
    {
     "name": "stdout",
     "output_type": "stream",
     "text": [
      "'data.frame':\t131302 obs. of  16 variables:\n",
      " $ CountryOfBirthCode: int  57 57 57 57 57 57 57 57 57 57 ...\n",
      " $ MetroAreaCode     : int  10420 71650 10420 10420 10420 10420 10420 10420 10420 10420 ...\n",
      " $ PeopleInHousehold : int  2 4 5 2 2 3 1 3 4 4 ...\n",
      " $ Region            : Factor w/ 4 levels \"Midwest\",\"Northeast\",..: 1 2 1 1 1 1 1 1 1 1 ...\n",
      " $ State             : Factor w/ 51 levels \"Alabama\",\"Alaska\",..: 36 30 36 36 36 36 36 36 36 36 ...\n",
      " $ Age               : int  73 5 10 30 30 0 34 32 6 9 ...\n",
      " $ Married           : Factor w/ 5 levels \"Divorced\",\"Married\",..: 2 NA NA 2 2 NA 1 2 NA NA ...\n",
      " $ Sex               : Factor w/ 2 levels \"Female\",\"Male\": 1 1 1 1 1 2 2 2 1 2 ...\n",
      " $ Education         : Factor w/ 8 levels \"Associate degree\",..: 8 NA NA 1 2 NA 4 4 NA NA ...\n",
      " $ Race              : Factor w/ 6 levels \"American Indian\",..: 6 6 6 6 6 6 6 6 6 6 ...\n",
      " $ Hispanic          : int  0 0 0 0 0 0 0 0 1 0 ...\n",
      " $ Citizenship       : Factor w/ 3 levels \"Citizen, Native\",..: 1 1 1 1 1 1 1 1 1 1 ...\n",
      " $ EmploymentStatus  : Factor w/ 5 levels \"Disabled\",\"Employed\",..: 4 NA NA 2 2 NA 2 2 NA NA ...\n",
      " $ Industry          : Factor w/ 14 levels \"Agriculture, forestry, fishing, and hunting\",..: NA NA NA 13 9 NA 3 13 NA NA ...\n",
      " $ MetroArea         : Factor w/ 271 levels \"Akron, OH\",\"Albany-Schenectady-Troy, NY\",..: 1 34 1 1 1 1 1 1 1 1 ...\n",
      " $ Country           : Factor w/ 149 levels \"Afghanistan\",..: 139 139 139 139 139 139 139 139 139 139 ...\n"
     ]
    }
   ],
   "source": [
    "CPS  <- merge(CPS, CountryMap, by.x=\"CountryOfBirthCode\", by.y=\"Code\", all.x=TRUE)\n",
    "str(CPS)"
   ]
  },
  {
   "cell_type": "code",
   "execution_count": 27,
   "metadata": {},
   "outputs": [
    {
     "data": {
      "text/plain": [
       "\n",
       " FALSE   TRUE \n",
       "131126    176 "
      ]
     },
     "metadata": {},
     "output_type": "display_data"
    }
   ],
   "source": [
    "table(is.na(CPS$Country))"
   ]
  },
  {
   "cell_type": "markdown",
   "metadata": {},
   "source": [
    "# Problem 4.2 - Integrating Country of Birth Data\n",
    "#### Among all interviewees born outside of North America, which country was the most common place of birth?"
   ]
  },
  {
   "cell_type": "code",
   "execution_count": 28,
   "metadata": {
    "scrolled": true
   },
   "outputs": [
    {
     "data": {
      "text/plain": [
       "\n",
       "United States        Mexico   Philippines         India         China \n",
       "       115063          3921           839           770           581 \n",
       "  Puerto Rico   El Salvador       Vietnam       Germany          Cuba \n",
       "          518           477           458           438           426 "
      ]
     },
     "metadata": {},
     "output_type": "display_data"
    }
   ],
   "source": [
    "sort(table(CPS$Country), decreasing = TRUE)[1:10]\n",
    "# United States and Mexico in North America, so we chose Philippines as an answer for this question"
   ]
  },
  {
   "cell_type": "markdown",
   "metadata": {},
   "source": [
    "# Problem 4.3 - Integrating Country of Birth Data\n",
    "#### What proportion of the interviewees from the \"New York-Northern New Jersey-Long Island, NY-NJ-PA\" metropolitan area have a country of birth that is not the United States? For this computation, don't include people from this metropolitan area who have a missing country of birth."
   ]
  },
  {
   "cell_type": "code",
   "execution_count": 29,
   "metadata": {},
   "outputs": [
    {
     "data": {
      "text/html": [
       "<strong>United States:</strong> 0.308660251665433"
      ],
      "text/latex": [
       "\\textbf{United States:} 0.308660251665433"
      ],
      "text/markdown": [
       "**United States:** 0.308660251665433"
      ],
      "text/plain": [
       "United States \n",
       "    0.3086603 "
      ]
     },
     "metadata": {},
     "output_type": "display_data"
    }
   ],
   "source": [
    "# sort(table(CPS$Country), decreasing = TRUE)[1:10]\n",
    "a <- sort(tapply(CPS$MetroArea == \"New York-Northern New Jersey-Long Island, NY-NJ-PA\" , \n",
    "       CPS$Country,\n",
    "      sum, na.rm=TRUE), decreasing = TRUE)\n",
    "(sum(a) - a['United States']) / sum(a) "
   ]
  },
  {
   "cell_type": "markdown",
   "metadata": {},
   "source": [
    "# Problem 4.4 - Integrating Country of Birth Data\n",
    "#### Which metropolitan area has the largest number (note -- not proportion) of interviewees with a country of birth in India? Hint -- remember to include na.rm=TRUE if you are using tapply() to answer this question.\n",
    "<font color='red'>Boston-Cambridge-Quincy, MA-NH</font><br>\n",
    "<font color='red'>Minneapolis-St Paul-Bloomington, MN-WI</font><br>\n",
    "<font color='red'>New York-Northern New Jersey-Long Island, NY-NJ-PA</font> # Correct<br>\n",
    "<font color='red'>Washington-Arlington-Alexandria, DC-VA-MD-WV</font><br>"
   ]
  },
  {
   "cell_type": "code",
   "execution_count": 30,
   "metadata": {},
   "outputs": [
    {
     "data": {
      "text/html": [
       "<strong>New York-Northern New Jersey-Long Island, NY-NJ-PA:</strong> 96"
      ],
      "text/latex": [
       "\\textbf{New York-Northern New Jersey-Long Island, NY-NJ-PA:} 96"
      ],
      "text/markdown": [
       "**New York-Northern New Jersey-Long Island, NY-NJ-PA:** 96"
      ],
      "text/plain": [
       "New York-Northern New Jersey-Long Island, NY-NJ-PA \n",
       "                                                96 "
      ]
     },
     "metadata": {},
     "output_type": "display_data"
    }
   ],
   "source": [
    "sort(tapply(CPS$Country == 'India' ,CPS$MetroArea, sum, na.rm=TRUE), decreasing = T)[1]"
   ]
  },
  {
   "cell_type": "markdown",
   "metadata": {},
   "source": [
    "#### In Brazil?\n",
    "<font color='red'>Boston-Cambridge-Quincy, MA-NH</font> # Correct <br>\n",
    "<font color='red'>Minneapolis-St Paul-Bloomington, MN-WI</font><br>\n",
    "<font color='red'>New York-Northern New Jersey-Long Island, NY-NJ-PA</font><br>\n",
    "<font color='red'>Washington-Arlington-Alexandria, DC-VA-MD-WV</font><br>"
   ]
  },
  {
   "cell_type": "code",
   "execution_count": 31,
   "metadata": {},
   "outputs": [
    {
     "data": {
      "text/html": [
       "<strong>Boston-Cambridge-Quincy, MA-NH:</strong> 18"
      ],
      "text/latex": [
       "\\textbf{Boston-Cambridge-Quincy, MA-NH:} 18"
      ],
      "text/markdown": [
       "**Boston-Cambridge-Quincy, MA-NH:** 18"
      ],
      "text/plain": [
       "Boston-Cambridge-Quincy, MA-NH \n",
       "                            18 "
      ]
     },
     "metadata": {},
     "output_type": "display_data"
    }
   ],
   "source": [
    "sort(tapply(CPS$Country == 'Brazil' ,CPS$MetroArea, sum, na.rm=TRUE), decreasing = T)[1]"
   ]
  },
  {
   "cell_type": "markdown",
   "metadata": {},
   "source": [
    "#### In Somalia?\n",
    "<font color='red'>Boston-Cambridge-Quincy, MA-NH</font> # Correct<br>\n",
    "<font color='red'>Minneapolis-St Paul-Bloomington, MN-WI</font><br>\n",
    "<font color='red'>New York-Northern New Jersey-Long Island, NY-NJ-PA</font><br>\n",
    "<font color='red'>Washington-Arlington-Alexandria, DC-VA-MD-WV</font><br>"
   ]
  },
  {
   "cell_type": "code",
   "execution_count": 32,
   "metadata": {},
   "outputs": [
    {
     "data": {
      "text/html": [
       "<strong>Minneapolis-St Paul-Bloomington, MN-WI:</strong> 17"
      ],
      "text/latex": [
       "\\textbf{Minneapolis-St Paul-Bloomington, MN-WI:} 17"
      ],
      "text/markdown": [
       "**Minneapolis-St Paul-Bloomington, MN-WI:** 17"
      ],
      "text/plain": [
       "Minneapolis-St Paul-Bloomington, MN-WI \n",
       "                                    17 "
      ]
     },
     "metadata": {},
     "output_type": "display_data"
    }
   ],
   "source": [
    "sort(tapply(CPS$Country == 'Somalia' ,CPS$MetroArea, sum, na.rm=TRUE), decreasing = T)[1]"
   ]
  }
 ],
 "metadata": {
  "kernelspec": {
   "display_name": "R",
   "language": "R",
   "name": "ir"
  },
  "language_info": {
   "codemirror_mode": "r",
   "file_extension": ".r",
   "mimetype": "text/x-r-source",
   "name": "R",
   "pygments_lexer": "r",
   "version": "3.5.1"
  }
 },
 "nbformat": 4,
 "nbformat_minor": 2
}
