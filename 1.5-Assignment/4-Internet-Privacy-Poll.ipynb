{
 "cells": [
  {
   "cell_type": "markdown",
   "metadata": {},
   "source": [
    "#### https://ocw.mit.edu/courses/sloan-school-of-management/15-071-the-analytics-edge-spring-2017/an-introduction-to-analytics/assignment-1/internet-privacy-poll/"
   ]
  },
  {
   "cell_type": "markdown",
   "metadata": {},
   "source": [
    "# Problem 1.1 - Loading and Summarizing the Dataset\n",
    "#### Using read.csv(), load the dataset from AnonymityPoll (CSV) into a data frame called poll and summarize it with the summary() and str() functions.\n",
    "#### How many people participated in the poll?"
   ]
  },
  {
   "cell_type": "code",
   "execution_count": 1,
   "metadata": {},
   "outputs": [
    {
     "name": "stdout",
     "output_type": "stream",
     "text": [
      "'data.frame':\t1002 obs. of  13 variables:\n",
      " $ Internet.Use          : int  1 1 0 1 0 1 1 0 0 1 ...\n",
      " $ Smartphone            : int  0 0 1 0 NA 1 0 0 NA 0 ...\n",
      " $ Sex                   : Factor w/ 2 levels \"Female\",\"Male\": 2 2 1 2 1 2 1 1 2 1 ...\n",
      " $ Age                   : int  62 45 70 70 80 49 52 76 75 76 ...\n",
      " $ State                 : Factor w/ 49 levels \"Alabama\",\"Arizona\",..: 20 39 29 10 10 41 21 31 32 32 ...\n",
      " $ Region                : Factor w/ 4 levels \"Midwest\",\"Northeast\",..: 2 3 2 3 3 3 1 2 3 3 ...\n",
      " $ Conservativeness      : int  4 1 4 4 4 4 3 3 4 4 ...\n",
      " $ Info.On.Internet      : int  0 1 0 3 NA 6 3 NA NA 0 ...\n",
      " $ Worry.About.Info      : int  1 0 0 1 NA 0 1 NA NA 0 ...\n",
      " $ Privacy.Importance    : num  100 0 NA 88.9 NA ...\n",
      " $ Anonymity.Possible    : int  0 1 0 1 NA 1 0 NA NA 1 ...\n",
      " $ Tried.Masking.Identity: int  0 0 0 0 NA 1 0 NA NA 0 ...\n",
      " $ Privacy.Laws.Effective: int  0 1 NA 0 NA 0 1 NA 0 1 ...\n"
     ]
    }
   ],
   "source": [
    "poll <- read.csv('../data//AnonymityPoll.csv')\n",
    "str(poll)"
   ]
  },
  {
   "cell_type": "code",
   "execution_count": 2,
   "metadata": {},
   "outputs": [
    {
     "data": {
      "text/plain": [
       "  Internet.Use      Smartphone         Sex           Age       \n",
       " Min.   :0.0000   Min.   :0.0000   Female:505   Min.   :18.00  \n",
       " 1st Qu.:1.0000   1st Qu.:0.0000   Male  :497   1st Qu.:37.00  \n",
       " Median :1.0000   Median :1.0000                Median :55.00  \n",
       " Mean   :0.7742   Mean   :0.5078                Mean   :52.37  \n",
       " 3rd Qu.:1.0000   3rd Qu.:1.0000                3rd Qu.:66.00  \n",
       " Max.   :1.0000   Max.   :1.0000                Max.   :96.00  \n",
       " NA's   :1        NA's   :43                    NA's   :27     \n",
       "          State           Region    Conservativeness Info.On.Internet\n",
       " California  :103   Midwest  :239   Min.   :1.000    Min.   : 0.000  \n",
       " Texas       : 72   Northeast:166   1st Qu.:3.000    1st Qu.: 2.000  \n",
       " New York    : 60   South    :359   Median :3.000    Median : 4.000  \n",
       " Pennsylvania: 45   West     :238   Mean   :3.277    Mean   : 3.795  \n",
       " Florida     : 42                   3rd Qu.:4.000    3rd Qu.: 6.000  \n",
       " Ohio        : 38                   Max.   :5.000    Max.   :11.000  \n",
       " (Other)     :642                   NA's   :62       NA's   :210     \n",
       " Worry.About.Info Privacy.Importance Anonymity.Possible Tried.Masking.Identity\n",
       " Min.   :0.0000   Min.   :  0.00     Min.   :0.0000     Min.   :0.0000        \n",
       " 1st Qu.:0.0000   1st Qu.: 41.43     1st Qu.:0.0000     1st Qu.:0.0000        \n",
       " Median :0.0000   Median : 68.75     Median :0.0000     Median :0.0000        \n",
       " Mean   :0.4886   Mean   : 62.85     Mean   :0.3692     Mean   :0.1633        \n",
       " 3rd Qu.:1.0000   3rd Qu.: 88.89     3rd Qu.:1.0000     3rd Qu.:0.0000        \n",
       " Max.   :1.0000   Max.   :100.00     Max.   :1.0000     Max.   :1.0000        \n",
       " NA's   :212      NA's   :215        NA's   :249        NA's   :218           \n",
       " Privacy.Laws.Effective\n",
       " Min.   :0.0000        \n",
       " 1st Qu.:0.0000        \n",
       " Median :0.0000        \n",
       " Mean   :0.2617        \n",
       " 3rd Qu.:1.0000        \n",
       " Max.   :1.0000        \n",
       " NA's   :108           "
      ]
     },
     "metadata": {},
     "output_type": "display_data"
    }
   ],
   "source": [
    "summary(poll)"
   ]
  },
  {
   "cell_type": "code",
   "execution_count": 3,
   "metadata": {},
   "outputs": [
    {
     "data": {
      "text/html": [
       "1002"
      ],
      "text/latex": [
       "1002"
      ],
      "text/markdown": [
       "1002"
      ],
      "text/plain": [
       "[1] 1002"
      ]
     },
     "metadata": {},
     "output_type": "display_data"
    }
   ],
   "source": [
    "nrow(poll)"
   ]
  },
  {
   "cell_type": "code",
   "execution_count": 4,
   "metadata": {},
   "outputs": [
    {
     "data": {
      "text/html": [
       "472"
      ],
      "text/latex": [
       "472"
      ],
      "text/markdown": [
       "472"
      ],
      "text/plain": [
       "[1] 472"
      ]
     },
     "metadata": {},
     "output_type": "display_data"
    }
   ],
   "source": [
    "sum(poll$Smartphone == 0, na.rm=T)"
   ]
  },
  {
   "cell_type": "markdown",
   "metadata": {},
   "source": [
    "# Problem 1.3 - Loading and Summarizing the Dataset\n",
    "#### By using the table() function on two variables, we can tell how they are related. To use the table() function on two variables, just put the two variable names inside the parentheses, separated by a comma (don't forget to add poll\\\\$ before each variable name). In the output, the possible values of the first variable will be listed in the left, and the possible values of the second variable will be listed on the top. Each entry of the table counts the number of observations in the data set that have the value of the first value in that row, and the value of the second variable in that column. For example, suppose we want to create a table of the variables \"Sex\" and \"Region\". We would type:\n",
    "#### table(poll\\\\$Sex, poll\\\\$Region)\n",
    "#### in our R Console, and we would get as output:\n",
    "#### Midwest Northeast South West\n",
    "#### Female 123 90 176 116\n",
    "#### Male 116 76 183 122\n",
    "#### This table tells us that we have 123 people in our dataset who are female and from the Midwest, 116 people in our dataset who are male and from the Midwest, 90 people in our dataset who are female and from the Northeast, etc.\n",
    "#### You might find it helpful to use the table() function to answer the following questions:\n",
    "<font color='red'>Colorado</font><br>\n",
    "<font color='red'>Kansas</font><br>\n",
    "<font color='red'>Kentucky</font><br>\n",
    "<font color='red'>Missouri</font><br>\n",
    "<font color='red'>Ohio</font><br>\n",
    "<font color='red'>Pennsylvania</font><br>"
   ]
  },
  {
   "cell_type": "code",
   "execution_count": 5,
   "metadata": {},
   "outputs": [
    {
     "data": {
      "text/html": [
       "<dl class=dl-horizontal>\n",
       "\t<dt>Illinois</dt>\n",
       "\t\t<dd>TRUE</dd>\n",
       "\t<dt>Indiana</dt>\n",
       "\t\t<dd>TRUE</dd>\n",
       "\t<dt>Iowa</dt>\n",
       "\t\t<dd>TRUE</dd>\n",
       "\t<dt>Kansas</dt>\n",
       "\t\t<dd>TRUE</dd>\n",
       "\t<dt>Michigan</dt>\n",
       "\t\t<dd>TRUE</dd>\n",
       "\t<dt>Minnesota</dt>\n",
       "\t\t<dd>TRUE</dd>\n",
       "\t<dt>Missouri</dt>\n",
       "\t\t<dd>TRUE</dd>\n",
       "\t<dt>Nebraska</dt>\n",
       "\t\t<dd>TRUE</dd>\n",
       "\t<dt>North Dakota</dt>\n",
       "\t\t<dd>TRUE</dd>\n",
       "\t<dt>Ohio</dt>\n",
       "\t\t<dd>TRUE</dd>\n",
       "\t<dt>South Dakota</dt>\n",
       "\t\t<dd>TRUE</dd>\n",
       "\t<dt>Wisconsin</dt>\n",
       "\t\t<dd>TRUE</dd>\n",
       "\t<dt>Alabama</dt>\n",
       "\t\t<dd>FALSE</dd>\n",
       "\t<dt>Arizona</dt>\n",
       "\t\t<dd>FALSE</dd>\n",
       "\t<dt>Arkansas</dt>\n",
       "\t\t<dd>FALSE</dd>\n",
       "\t<dt>California</dt>\n",
       "\t\t<dd>FALSE</dd>\n",
       "\t<dt>Colorado</dt>\n",
       "\t\t<dd>FALSE</dd>\n",
       "\t<dt>Connecticut</dt>\n",
       "\t\t<dd>FALSE</dd>\n",
       "\t<dt>Delaware</dt>\n",
       "\t\t<dd>FALSE</dd>\n",
       "\t<dt>District of Columbia</dt>\n",
       "\t\t<dd>FALSE</dd>\n",
       "\t<dt>Florida</dt>\n",
       "\t\t<dd>FALSE</dd>\n",
       "\t<dt>Georgia</dt>\n",
       "\t\t<dd>FALSE</dd>\n",
       "\t<dt>Idaho</dt>\n",
       "\t\t<dd>FALSE</dd>\n",
       "\t<dt>Kentucky</dt>\n",
       "\t\t<dd>FALSE</dd>\n",
       "\t<dt>Louisiana</dt>\n",
       "\t\t<dd>FALSE</dd>\n",
       "\t<dt>Maine</dt>\n",
       "\t\t<dd>FALSE</dd>\n",
       "\t<dt>Maryland</dt>\n",
       "\t\t<dd>FALSE</dd>\n",
       "\t<dt>Massachusetts</dt>\n",
       "\t\t<dd>FALSE</dd>\n",
       "\t<dt>Mississippi</dt>\n",
       "\t\t<dd>FALSE</dd>\n",
       "\t<dt>Montana</dt>\n",
       "\t\t<dd>FALSE</dd>\n",
       "\t<dt>Nevada</dt>\n",
       "\t\t<dd>FALSE</dd>\n",
       "\t<dt>New Hampshire</dt>\n",
       "\t\t<dd>FALSE</dd>\n",
       "\t<dt>New Jersey</dt>\n",
       "\t\t<dd>FALSE</dd>\n",
       "\t<dt>New Mexico</dt>\n",
       "\t\t<dd>FALSE</dd>\n",
       "\t<dt>New York</dt>\n",
       "\t\t<dd>FALSE</dd>\n",
       "\t<dt>North Carolina</dt>\n",
       "\t\t<dd>FALSE</dd>\n",
       "\t<dt>Oklahoma</dt>\n",
       "\t\t<dd>FALSE</dd>\n",
       "\t<dt>Oregon</dt>\n",
       "\t\t<dd>FALSE</dd>\n",
       "\t<dt>Pennsylvania</dt>\n",
       "\t\t<dd>FALSE</dd>\n",
       "\t<dt>Rhode Island</dt>\n",
       "\t\t<dd>FALSE</dd>\n",
       "\t<dt>South Carolina</dt>\n",
       "\t\t<dd>FALSE</dd>\n",
       "\t<dt>Tennessee</dt>\n",
       "\t\t<dd>FALSE</dd>\n",
       "\t<dt>Texas</dt>\n",
       "\t\t<dd>FALSE</dd>\n",
       "\t<dt>Utah</dt>\n",
       "\t\t<dd>FALSE</dd>\n",
       "\t<dt>Vermont</dt>\n",
       "\t\t<dd>FALSE</dd>\n",
       "\t<dt>Virginia</dt>\n",
       "\t\t<dd>FALSE</dd>\n",
       "\t<dt>Washington</dt>\n",
       "\t\t<dd>FALSE</dd>\n",
       "\t<dt>West Virginia</dt>\n",
       "\t\t<dd>FALSE</dd>\n",
       "\t<dt>Wyoming</dt>\n",
       "\t\t<dd>FALSE</dd>\n",
       "</dl>\n"
      ],
      "text/latex": [
       "\\begin{description*}\n",
       "\\item[Illinois] TRUE\n",
       "\\item[Indiana] TRUE\n",
       "\\item[Iowa] TRUE\n",
       "\\item[Kansas] TRUE\n",
       "\\item[Michigan] TRUE\n",
       "\\item[Minnesota] TRUE\n",
       "\\item[Missouri] TRUE\n",
       "\\item[Nebraska] TRUE\n",
       "\\item[North Dakota] TRUE\n",
       "\\item[Ohio] TRUE\n",
       "\\item[South Dakota] TRUE\n",
       "\\item[Wisconsin] TRUE\n",
       "\\item[Alabama] FALSE\n",
       "\\item[Arizona] FALSE\n",
       "\\item[Arkansas] FALSE\n",
       "\\item[California] FALSE\n",
       "\\item[Colorado] FALSE\n",
       "\\item[Connecticut] FALSE\n",
       "\\item[Delaware] FALSE\n",
       "\\item[District of Columbia] FALSE\n",
       "\\item[Florida] FALSE\n",
       "\\item[Georgia] FALSE\n",
       "\\item[Idaho] FALSE\n",
       "\\item[Kentucky] FALSE\n",
       "\\item[Louisiana] FALSE\n",
       "\\item[Maine] FALSE\n",
       "\\item[Maryland] FALSE\n",
       "\\item[Massachusetts] FALSE\n",
       "\\item[Mississippi] FALSE\n",
       "\\item[Montana] FALSE\n",
       "\\item[Nevada] FALSE\n",
       "\\item[New Hampshire] FALSE\n",
       "\\item[New Jersey] FALSE\n",
       "\\item[New Mexico] FALSE\n",
       "\\item[New York] FALSE\n",
       "\\item[North Carolina] FALSE\n",
       "\\item[Oklahoma] FALSE\n",
       "\\item[Oregon] FALSE\n",
       "\\item[Pennsylvania] FALSE\n",
       "\\item[Rhode Island] FALSE\n",
       "\\item[South Carolina] FALSE\n",
       "\\item[Tennessee] FALSE\n",
       "\\item[Texas] FALSE\n",
       "\\item[Utah] FALSE\n",
       "\\item[Vermont] FALSE\n",
       "\\item[Virginia] FALSE\n",
       "\\item[Washington] FALSE\n",
       "\\item[West Virginia] FALSE\n",
       "\\item[Wyoming] FALSE\n",
       "\\end{description*}\n"
      ],
      "text/markdown": [
       "Illinois\n",
       ":   TRUEIndiana\n",
       ":   TRUEIowa\n",
       ":   TRUEKansas\n",
       ":   TRUEMichigan\n",
       ":   TRUEMinnesota\n",
       ":   TRUEMissouri\n",
       ":   TRUENebraska\n",
       ":   TRUENorth Dakota\n",
       ":   TRUEOhio\n",
       ":   TRUESouth Dakota\n",
       ":   TRUEWisconsin\n",
       ":   TRUEAlabama\n",
       ":   FALSEArizona\n",
       ":   FALSEArkansas\n",
       ":   FALSECalifornia\n",
       ":   FALSEColorado\n",
       ":   FALSEConnecticut\n",
       ":   FALSEDelaware\n",
       ":   FALSEDistrict of Columbia\n",
       ":   FALSEFlorida\n",
       ":   FALSEGeorgia\n",
       ":   FALSEIdaho\n",
       ":   FALSEKentucky\n",
       ":   FALSELouisiana\n",
       ":   FALSEMaine\n",
       ":   FALSEMaryland\n",
       ":   FALSEMassachusetts\n",
       ":   FALSEMississippi\n",
       ":   FALSEMontana\n",
       ":   FALSENevada\n",
       ":   FALSENew Hampshire\n",
       ":   FALSENew Jersey\n",
       ":   FALSENew Mexico\n",
       ":   FALSENew York\n",
       ":   FALSENorth Carolina\n",
       ":   FALSEOklahoma\n",
       ":   FALSEOregon\n",
       ":   FALSEPennsylvania\n",
       ":   FALSERhode Island\n",
       ":   FALSESouth Carolina\n",
       ":   FALSETennessee\n",
       ":   FALSETexas\n",
       ":   FALSEUtah\n",
       ":   FALSEVermont\n",
       ":   FALSEVirginia\n",
       ":   FALSEWashington\n",
       ":   FALSEWest Virginia\n",
       ":   FALSEWyoming\n",
       ":   FALSE\n",
       "\n"
      ],
      "text/plain": [
       "            Illinois              Indiana                 Iowa \n",
       "                TRUE                 TRUE                 TRUE \n",
       "              Kansas             Michigan            Minnesota \n",
       "                TRUE                 TRUE                 TRUE \n",
       "            Missouri             Nebraska         North Dakota \n",
       "                TRUE                 TRUE                 TRUE \n",
       "                Ohio         South Dakota            Wisconsin \n",
       "                TRUE                 TRUE                 TRUE \n",
       "             Alabama              Arizona             Arkansas \n",
       "               FALSE                FALSE                FALSE \n",
       "          California             Colorado          Connecticut \n",
       "               FALSE                FALSE                FALSE \n",
       "            Delaware District of Columbia              Florida \n",
       "               FALSE                FALSE                FALSE \n",
       "             Georgia                Idaho             Kentucky \n",
       "               FALSE                FALSE                FALSE \n",
       "           Louisiana                Maine             Maryland \n",
       "               FALSE                FALSE                FALSE \n",
       "       Massachusetts          Mississippi              Montana \n",
       "               FALSE                FALSE                FALSE \n",
       "              Nevada        New Hampshire           New Jersey \n",
       "               FALSE                FALSE                FALSE \n",
       "          New Mexico             New York       North Carolina \n",
       "               FALSE                FALSE                FALSE \n",
       "            Oklahoma               Oregon         Pennsylvania \n",
       "               FALSE                FALSE                FALSE \n",
       "        Rhode Island       South Carolina            Tennessee \n",
       "               FALSE                FALSE                FALSE \n",
       "               Texas                 Utah              Vermont \n",
       "               FALSE                FALSE                FALSE \n",
       "            Virginia           Washington        West Virginia \n",
       "               FALSE                FALSE                FALSE \n",
       "             Wyoming \n",
       "               FALSE "
      ]
     },
     "metadata": {},
     "output_type": "display_data"
    }
   ],
   "source": [
    "sort(table(poll$State, poll$Region)[,1]>0, decreasing = T)"
   ]
  },
  {
   "cell_type": "markdown",
   "metadata": {},
   "source": [
    "#### Which of the following are states in the Midwest census region? (Select all that apply.)"
   ]
  },
  {
   "cell_type": "code",
   "execution_count": 6,
   "metadata": {},
   "outputs": [
    {
     "data": {
      "text/html": [
       "<strong>Texas:</strong> 42"
      ],
      "text/latex": [
       "\\textbf{Texas:} 42"
      ],
      "text/markdown": [
       "**Texas:** 42"
      ],
      "text/plain": [
       "Texas \n",
       "   42 "
      ]
     },
     "metadata": {},
     "output_type": "display_data"
    }
   ],
   "source": [
    "which.max(tapply(poll$Region == 'South', poll$State, sum, na.rm=T))"
   ]
  },
  {
   "cell_type": "markdown",
   "metadata": {},
   "source": [
    "# Problem 2.1 - Internet and Smartphone Users\n",
    "#### As mentioned in the introduction to this problem, many of the response variables (Info.On.Internet, Worry.About.Info, Privacy.Importance, Anonymity.Possible, and Tried.Masking.Identity) were not collected if an interviewee does not use the Internet or a smartphone, meaning the variables will have missing values for these interviewees.\n",
    "#### How many interviewees reported not having used the Internet and not having used a smartphone?"
   ]
  },
  {
   "cell_type": "code",
   "execution_count": 7,
   "metadata": {},
   "outputs": [
    {
     "data": {
      "text/html": [
       "186"
      ],
      "text/latex": [
       "186"
      ],
      "text/markdown": [
       "186"
      ],
      "text/plain": [
       "[1] 186"
      ]
     },
     "metadata": {},
     "output_type": "display_data"
    }
   ],
   "source": [
    "nrow(subset(poll, Smartphone == 0 & Internet.Use == 0))"
   ]
  },
  {
   "cell_type": "markdown",
   "metadata": {},
   "source": [
    "#### How many interviewees reported having used the Internet and having used a smartphone?"
   ]
  },
  {
   "cell_type": "code",
   "execution_count": 8,
   "metadata": {},
   "outputs": [
    {
     "data": {
      "text/html": [
       "470"
      ],
      "text/latex": [
       "470"
      ],
      "text/markdown": [
       "470"
      ],
      "text/plain": [
       "[1] 470"
      ]
     },
     "metadata": {},
     "output_type": "display_data"
    }
   ],
   "source": [
    "nrow(subset(poll, Smartphone == 1 & Internet.Use == 1))"
   ]
  },
  {
   "cell_type": "markdown",
   "metadata": {},
   "source": [
    "#### How many interviewees reported having used the Internet but not having used a smartphone?"
   ]
  },
  {
   "cell_type": "code",
   "execution_count": 9,
   "metadata": {},
   "outputs": [
    {
     "data": {
      "text/html": [
       "285"
      ],
      "text/latex": [
       "285"
      ],
      "text/markdown": [
       "285"
      ],
      "text/plain": [
       "[1] 285"
      ]
     },
     "metadata": {},
     "output_type": "display_data"
    }
   ],
   "source": [
    "nrow(subset(poll, Smartphone == 0 & Internet.Use == 1))"
   ]
  },
  {
   "cell_type": "markdown",
   "metadata": {},
   "source": [
    "#### How many interviewees reported having used a smartphone but not having used the Internet?"
   ]
  },
  {
   "cell_type": "code",
   "execution_count": 10,
   "metadata": {},
   "outputs": [
    {
     "data": {
      "text/html": [
       "17"
      ],
      "text/latex": [
       "17"
      ],
      "text/markdown": [
       "17"
      ],
      "text/plain": [
       "[1] 17"
      ]
     },
     "metadata": {},
     "output_type": "display_data"
    }
   ],
   "source": [
    "nrow(subset(poll, Smartphone == 1 & Internet.Use == 0))"
   ]
  },
  {
   "cell_type": "markdown",
   "metadata": {},
   "source": [
    "# Problem 2.2 - Internet and Smartphone Users\n",
    "#### mHow many interviewees have a missing value for their Internet use?"
   ]
  },
  {
   "cell_type": "code",
   "execution_count": 11,
   "metadata": {},
   "outputs": [
    {
     "data": {
      "text/plain": [
       "   Min. 1st Qu.  Median    Mean 3rd Qu.    Max.    NA's \n",
       " 0.0000  1.0000  1.0000  0.7742  1.0000  1.0000       1 "
      ]
     },
     "metadata": {},
     "output_type": "display_data"
    }
   ],
   "source": [
    "summary(poll$Internet.Use)"
   ]
  },
  {
   "cell_type": "markdown",
   "metadata": {},
   "source": [
    "#### How many interviewees have a missing value for their smartphone use?"
   ]
  },
  {
   "cell_type": "code",
   "execution_count": 12,
   "metadata": {},
   "outputs": [
    {
     "data": {
      "text/plain": [
       "   Min. 1st Qu.  Median    Mean 3rd Qu.    Max.    NA's \n",
       " 0.0000  0.0000  1.0000  0.5078  1.0000  1.0000      43 "
      ]
     },
     "metadata": {},
     "output_type": "display_data"
    }
   ],
   "source": [
    "summary(poll$Smartphone)"
   ]
  },
  {
   "cell_type": "markdown",
   "metadata": {},
   "source": [
    "# Problem 2.3 - Internet and Smartphone Users\n",
    "#### Use the subset function to obtain a data frame called \"limited\", which is limited to interviewees who reported Internet use or who reported smartphone use. In lecture, we used the & symbol to use two criteria to make a subset of the data. To only take observations that have a certain value in one variable or the other, the | character can be used in place of the & symbol. This is also called a logical \"or\" operation.\n",
    "#### How many interviewees are in the new data frame?"
   ]
  },
  {
   "cell_type": "code",
   "execution_count": 13,
   "metadata": {},
   "outputs": [
    {
     "data": {
      "text/html": [
       "792"
      ],
      "text/latex": [
       "792"
      ],
      "text/markdown": [
       "792"
      ],
      "text/plain": [
       "[1] 792"
      ]
     },
     "metadata": {},
     "output_type": "display_data"
    }
   ],
   "source": [
    "limited <- subset(poll, Internet.Use | Smartphone)\n",
    "nrow(limited)"
   ]
  },
  {
   "cell_type": "markdown",
   "metadata": {},
   "source": [
    "# <font color='red'>Important: For all remaining questions in this assignment please use the limited data frame you created in Problem 2.3.</font>"
   ]
  },
  {
   "cell_type": "markdown",
   "metadata": {},
   "source": [
    "# Problem 3.1 - Summarizing Opinions about Internet Privacy\n",
    "#### Which variables have missing values in the limited data frame? (Select all that apply.)\n",
    "\n",
    "<font color='red'>Internet.Use</font><br>\n",
    "<font color='red'>Smartphone</font> # Correct<br>\n",
    "<font color='red'>Sex</font><br>\n",
    "<font color='red'>Age</font> # Correct<br>\n",
    "<font color='red'>State</font><br>\n",
    "<font color='red'>Region</font><br>\n",
    "<font color='red'>Conservativeness</font> # Correct<br>\n",
    "<font color='red'>Info.On.Internet</font><br>\n",
    "<font color='red'>Worry.About.Info</font> # Correct<br>\n",
    "<font color='red'>Privacy.Importance</font> # Correct<br>\n",
    "<font color='red'>Anonymity.Possible</font> # Correct<br>\n",
    "<font color='red'>Tried.Masking.Identity</font> # Correct<br>\n",
    "<font color='red'>Privacy.Laws.Effective</font> # Correct<br>"
   ]
  },
  {
   "cell_type": "code",
   "execution_count": 14,
   "metadata": {},
   "outputs": [
    {
     "data": {
      "text/html": [
       "<ol class=list-inline>\n",
       "\t<li>'Age'</li>\n",
       "\t<li>'Anonymity.Possible'</li>\n",
       "\t<li>'Conservativeness'</li>\n",
       "\t<li>'Privacy.Importance'</li>\n",
       "\t<li>'Privacy.Laws.Effective'</li>\n",
       "\t<li>'Smartphone'</li>\n",
       "\t<li>'Tried.Masking.Identity'</li>\n",
       "\t<li>'Worry.About.Info'</li>\n",
       "</ol>\n"
      ],
      "text/latex": [
       "\\begin{enumerate*}\n",
       "\\item 'Age'\n",
       "\\item 'Anonymity.Possible'\n",
       "\\item 'Conservativeness'\n",
       "\\item 'Privacy.Importance'\n",
       "\\item 'Privacy.Laws.Effective'\n",
       "\\item 'Smartphone'\n",
       "\\item 'Tried.Masking.Identity'\n",
       "\\item 'Worry.About.Info'\n",
       "\\end{enumerate*}\n"
      ],
      "text/markdown": [
       "1. 'Age'\n",
       "2. 'Anonymity.Possible'\n",
       "3. 'Conservativeness'\n",
       "4. 'Privacy.Importance'\n",
       "5. 'Privacy.Laws.Effective'\n",
       "6. 'Smartphone'\n",
       "7. 'Tried.Masking.Identity'\n",
       "8. 'Worry.About.Info'\n",
       "\n",
       "\n"
      ],
      "text/plain": [
       "[1] \"Age\"                    \"Anonymity.Possible\"     \"Conservativeness\"      \n",
       "[4] \"Privacy.Importance\"     \"Privacy.Laws.Effective\" \"Smartphone\"            \n",
       "[7] \"Tried.Masking.Identity\" \"Worry.About.Info\"      "
      ]
     },
     "metadata": {},
     "output_type": "display_data"
    }
   ],
   "source": [
    "sort(colnames(limited)[colSums(is.na(limited)) > 0])"
   ]
  },
  {
   "cell_type": "markdown",
   "metadata": {},
   "source": [
    "# Problem 3.2 - Summarizing Opinions about Internet Privacy\n",
    "#### What is the average number of pieces of personal information on the Internet, according to the Info.On.Internet variable?"
   ]
  },
  {
   "cell_type": "code",
   "execution_count": 15,
   "metadata": {},
   "outputs": [
    {
     "data": {
      "text/html": [
       "3.79545454545455"
      ],
      "text/latex": [
       "3.79545454545455"
      ],
      "text/markdown": [
       "3.79545454545455"
      ],
      "text/plain": [
       "[1] 3.795455"
      ]
     },
     "metadata": {},
     "output_type": "display_data"
    }
   ],
   "source": [
    "mean(limited$Info.On.Internet)"
   ]
  },
  {
   "cell_type": "markdown",
   "metadata": {},
   "source": [
    "# Problem 3.3 - Summarizing Opinions about Internet Privacy\n",
    "#### How many interviewees reported a value of 0 for Info.On.Internet?"
   ]
  },
  {
   "cell_type": "code",
   "execution_count": 16,
   "metadata": {},
   "outputs": [
    {
     "data": {
      "text/html": [
       "105"
      ],
      "text/latex": [
       "105"
      ],
      "text/markdown": [
       "105"
      ],
      "text/plain": [
       "[1] 105"
      ]
     },
     "metadata": {},
     "output_type": "display_data"
    }
   ],
   "source": [
    "sum(limited$Info.On.Internet == 0)"
   ]
  },
  {
   "cell_type": "markdown",
   "metadata": {},
   "source": [
    "#### How many interviewees reported the maximum value of 11 for Info.On.Internet?"
   ]
  },
  {
   "cell_type": "code",
   "execution_count": 17,
   "metadata": {},
   "outputs": [
    {
     "data": {
      "text/html": [
       "8"
      ],
      "text/latex": [
       "8"
      ],
      "text/markdown": [
       "8"
      ],
      "text/plain": [
       "[1] 8"
      ]
     },
     "metadata": {},
     "output_type": "display_data"
    }
   ],
   "source": [
    "sum(limited$Info.On.Internet == 11)"
   ]
  },
  {
   "cell_type": "markdown",
   "metadata": {},
   "source": [
    "# Problem 3.4 - Summarizing Opinions about Internet Privacy\n",
    "#### What proportion of interviewees who answered the Worry.About.Info question worry about how much information is available about them on the Internet? Note that to compute this proportion you will be dividing by the number of people who answered the Worry.About.Info question, not the total number of people in the data frame."
   ]
  },
  {
   "cell_type": "code",
   "execution_count": 18,
   "metadata": {},
   "outputs": [
    {
     "data": {
      "text/html": [
       "0.487373737373737"
      ],
      "text/latex": [
       "0.487373737373737"
      ],
      "text/markdown": [
       "0.487373737373737"
      ],
      "text/plain": [
       "[1] 0.4873737"
      ]
     },
     "metadata": {},
     "output_type": "display_data"
    }
   ],
   "source": [
    "sum(limited$Worry.About.Info == 1, na.rm = T) / nrow(limited)"
   ]
  },
  {
   "cell_type": "markdown",
   "metadata": {},
   "source": [
    "# Problem 3.5 - Summarizing Opinions about Internet Privacy\n",
    "#### What proportion of interviewees who answered the Anonymity.Possible question think it is possible to be completely anonymous on the Internet?"
   ]
  },
  {
   "cell_type": "code",
   "execution_count": 19,
   "metadata": {},
   "outputs": [
    {
     "name": "stderr",
     "output_type": "stream",
     "text": [
      "\n",
      "Attaching package: ‘dplyr’\n",
      "\n",
      "The following objects are masked from ‘package:stats’:\n",
      "\n",
      "    filter, lag\n",
      "\n",
      "The following objects are masked from ‘package:base’:\n",
      "\n",
      "    intersect, setdiff, setequal, union\n",
      "\n"
     ]
    },
    {
     "data": {
      "text/html": [
       "0.369189907038513"
      ],
      "text/latex": [
       "0.369189907038513"
      ],
      "text/markdown": [
       "0.369189907038513"
      ],
      "text/plain": [
       "[1] 0.3691899"
      ]
     },
     "metadata": {},
     "output_type": "display_data"
    },
    {
     "data": {
      "text/html": [
       "0.369189907038513"
      ],
      "text/latex": [
       "0.369189907038513"
      ],
      "text/markdown": [
       "0.369189907038513"
      ],
      "text/plain": [
       "[1] 0.3691899"
      ]
     },
     "metadata": {},
     "output_type": "display_data"
    },
    {
     "data": {
      "text/plain": [
       "\n",
       "  0   1 \n",
       "475 278 "
      ]
     },
     "metadata": {},
     "output_type": "display_data"
    },
    {
     "data": {
      "text/html": [
       "0.369189907038513"
      ],
      "text/latex": [
       "0.369189907038513"
      ],
      "text/markdown": [
       "0.369189907038513"
      ],
      "text/plain": [
       "[1] 0.3691899"
      ]
     },
     "metadata": {},
     "output_type": "display_data"
    }
   ],
   "source": [
    "library(dplyr)\n",
    "a <- limited %>% \n",
    "filter(!is.na(Anonymity.Possible))\n",
    "sum(a$Anonymity.Possible==1) / nrow(a)\n",
    "\n",
    "# Another way to do the same, but bot are very long.\n",
    "lg <- group_by(limited, TF = as.logical(Anonymity.Possible))\n",
    "lg <- filter(lg, !is.na(TF)) %>% \n",
    "summarise(count = n())\n",
    "subset(lg, TF == TRUE)$count / sum(lg$count)\n",
    "\n",
    "# Another way to do the same(manually)\n",
    "table(limited$Anonymity.Possible)\n",
    "278 / (475 + 278)"
   ]
  },
  {
   "cell_type": "markdown",
   "metadata": {},
   "source": [
    "# Problem 3.6 - Summarizing Opinions about Internet Privacy\n",
    "#### What proportion of interviewees who answered the Tried.Masking.Identity question have tried masking their identity on the Internet?"
   ]
  },
  {
   "cell_type": "code",
   "execution_count": 20,
   "metadata": {},
   "outputs": [
    {
     "data": {
      "text/html": [
       "0.163265306122449"
      ],
      "text/latex": [
       "0.163265306122449"
      ],
      "text/markdown": [
       "0.163265306122449"
      ],
      "text/plain": [
       "[1] 0.1632653"
      ]
     },
     "metadata": {},
     "output_type": "display_data"
    }
   ],
   "source": [
    "a <- limited %>% \n",
    "filter(!is.na(Tried.Masking.Identity))\n",
    "sum(a$Tried.Masking.Identity==1) / nrow(a)"
   ]
  },
  {
   "cell_type": "markdown",
   "metadata": {},
   "source": [
    "# Problem 3.7 - Summarizing Opinions about Internet Privacy\n",
    "#### What proportion of interviewees who answered the Privacy.Laws.Effective question find United States privacy laws effective?"
   ]
  },
  {
   "cell_type": "code",
   "execution_count": 21,
   "metadata": {},
   "outputs": [
    {
     "data": {
      "text/html": [
       "0.255845942228336"
      ],
      "text/latex": [
       "0.255845942228336"
      ],
      "text/markdown": [
       "0.255845942228336"
      ],
      "text/plain": [
       "[1] 0.2558459"
      ]
     },
     "metadata": {},
     "output_type": "display_data"
    }
   ],
   "source": [
    "a <- limited %>% \n",
    "filter(!is.na(Privacy.Laws.Effective))\n",
    "sum(a$Privacy.Laws.Effective==1) / nrow(a)"
   ]
  },
  {
   "cell_type": "markdown",
   "metadata": {},
   "source": [
    "# Problem 4.1 - Relating Demographics to Polling Results\n",
    "#### Often, we are interested in whether certain characteristics of interviewees (e.g. their age or political opinions) affect their opinions on the topic of the poll (in this case, opinions on privacy). In this section, we will investigate the relationship between the characteristics Age and Smartphone and outcome variables Info.On.Internet and Tried.Masking.Identity, again using the limited data frame we built in an earlier section of this problem.\n",
    "#### Build a histogram of the age of interviewees. What is the best represented age group in the population?\n",
    "<font color='red'>People aged about 20 years old</font><br>\n",
    "<font color='red'>People aged about 40 years old</font><br>\n",
    "<font color='red'>People aged about 60 years old</font> # Correct <br>\n",
    "<font color='red'>People aged about 80 years old</font><br>"
   ]
  },
  {
   "cell_type": "code",
   "execution_count": 22,
   "metadata": {},
   "outputs": [
    {
     "data": {
      "image/png": "[encoded data removed]",
      "text/plain": [
       "Plot with title “Histogram of limited$Age”"
      ]
     },
     "metadata": {},
     "output_type": "display_data"
    }
   ],
   "source": [
    "hist(limited$Age)"
   ]
  },
  {
   "cell_type": "markdown",
   "metadata": {},
   "source": [
    "# Problem 4.2 - Relating Demographics to Polling Results\n",
    "#### Both Age and Info.On.Internet are variables that take on many values, so a good way to observe their relationship is through a graph. We learned in lecture that we can plot Age against Info.On.Internet with the command plot(limited\\\\$Age, limited\\\\$Info.On.Internet). However, because Info.On.Internet takes on a small number of values, multiple points can be plotted in exactly the same location on this graph.\n",
    "#### What is the largest number of interviewees that have exactly the same value in their Age variable AND the same value in their Info.On.Internet variable? In other words, what is the largest number of overlapping points in the plot plot(limited\\\\$Age, limited\\\\$Info.On.Internet)? (HINT: Use the table function to compare the number of observations with different values of Age and Info.On.Internet.)"
   ]
  },
  {
   "cell_type": "code",
   "execution_count": 23,
   "metadata": {},
   "outputs": [
    {
     "data": {
      "image/png": "[encoded data removed]",
      "text/plain": [
       "plot without title"
      ]
     },
     "metadata": {},
     "output_type": "display_data"
    }
   ],
   "source": [
    "plot(limited$Age, limited$Info.On.Internet)"
   ]
  },
  {
   "cell_type": "code",
   "execution_count": 24,
   "metadata": {},
   "outputs": [
    {
     "data": {
      "text/html": [
       "6"
      ],
      "text/latex": [
       "6"
      ],
      "text/markdown": [
       "6"
      ],
      "text/plain": [
       "[1] 6"
      ]
     },
     "metadata": {},
     "output_type": "display_data"
    }
   ],
   "source": [
    "max(table(limited$Age, limited$Info.On.Internet))"
   ]
  },
  {
   "cell_type": "markdown",
   "metadata": {},
   "source": [
    "# Problem 4.3 - Relating Demographics to Polling Results\n",
    "#### To avoid points covering each other up, we can use the jitter() function on the values we pass to the plot function. Experimenting with the command jitter(c(1, 2, 3)), what appears to be the functionality of the jitter command?\n",
    "\n",
    "<font color='red'>jitter randomly reorders the values passed to it, and two runs will yield the same result</font><br>\n",
    "<font color='red'>jitter randomly reorders the values passed to it, and two runs will yield different results</font><br>\n",
    "<font color='red'>jitter adds or subtracts a small amount of random noise to the values passed to it, and two runs will yield the same result</font><br>\n",
    "<font color='red'>jitter adds or subtracts a small amount of random noise to the values passed to it, and two runs will yield different results</font> # Correct <br>"
   ]
  },
  {
   "cell_type": "code",
   "execution_count": 25,
   "metadata": {},
   "outputs": [
    {
     "name": "stdout",
     "output_type": "stream",
     "text": [
      "[1] 0.8011648 1.9098327 3.1112427\n",
      "[1] 0.9391032 1.9784982 3.1198952\n",
      "[1] 1.065645 2.023304 3.026758\n",
      "[1] 1.099869 2.197619 2.948268\n",
      "[1] 0.8781811 2.0250285 3.0313325\n",
      "[1] 1.000467 2.029426 2.909116\n",
      "[1] 0.8683358 1.8449793 3.1779511\n",
      "[1] 1.070053 1.829330 3.079106\n",
      "[1] 0.9035277 1.9487321 3.0366761\n",
      "[1] 1.174315 2.012465 3.141666\n"
     ]
    }
   ],
   "source": [
    "for (i in 1:10){\n",
    "    print(jitter(c(1, 2, 3)))\n",
    "    }"
   ]
  },
  {
   "cell_type": "markdown",
   "metadata": {},
   "source": [
    "# Problem 4.4 - Relating Demographics to Polling Results\n",
    "#### Now, plot Age against Info.On.Internet with plot(jitter(limited\\\\$Age), jitter(limited\\\\$Info.On.Internet)). What relationship to you observe between Age and Info.On.Internet?\n",
    "\n",
    "<font color='red'>Older age seems strongly associated with a larger value for Info.On.Internet</font><br>\n",
    "<font color='red'>Older age seems moderately associated with a larger value for Info.On.Internet</font><br>\n",
    "<font color='red'>Older age does not seem associated with a change in the value of Info.On.Internet</font><br>\n",
    "<font color='red'>Older age seems moderately associated with a smaller value for Info.On.Internet</font> # Correct <br>\n",
    "<font color='red'>Older age seems strongly associated with a smaller value for Info.On.Internet</font><br>"
   ]
  },
  {
   "cell_type": "code",
   "execution_count": 26,
   "metadata": {},
   "outputs": [
    {
     "data": {
      "image/png": "[encoded data removed]",
      "text/plain": [
       "plot without title"
      ]
     },
     "metadata": {},
     "output_type": "display_data"
    }
   ],
   "source": [
    "plot(jitter(limited$Age), jitter(limited$Info.On.Internet))"
   ]
  },
  {
   "cell_type": "markdown",
   "metadata": {},
   "source": [
    "# Problem 4.5 - Relating Demographics to Polling Results\n",
    "#### Use the tapply() function to obtain the summary of the Info.On.Internet value, broken down by whether an interviewee is a smartphone user.\n",
    "#### What is the average Info.On.Internet value for smartphone users?"
   ]
  },
  {
   "cell_type": "code",
   "execution_count": 27,
   "metadata": {},
   "outputs": [
    {
     "data": {
      "text/html": [
       "<dl class=dl-horizontal>\n",
       "\t<dt>0</dt>\n",
       "\t\t<dd>2.92280701754386</dd>\n",
       "\t<dt>1</dt>\n",
       "\t\t<dd>4.36755646817248</dd>\n",
       "</dl>\n"
      ],
      "text/latex": [
       "\\begin{description*}\n",
       "\\item[0] 2.92280701754386\n",
       "\\item[1] 4.36755646817248\n",
       "\\end{description*}\n"
      ],
      "text/markdown": [
       "0\n",
       ":   2.922807017543861\n",
       ":   4.36755646817248\n",
       "\n"
      ],
      "text/plain": [
       "       0        1 \n",
       "2.922807 4.367556 "
      ]
     },
     "metadata": {},
     "output_type": "display_data"
    }
   ],
   "source": [
    "tapply(limited$Info.On.Internet, limited$Smartphone, mean)"
   ]
  },
  {
   "cell_type": "markdown",
   "metadata": {},
   "source": [
    "#### What is the average Info.On.Internet value for non-smartphone users?"
   ]
  },
  {
   "cell_type": "code",
   "execution_count": 28,
   "metadata": {},
   "outputs": [
    {
     "data": {
      "text/html": [
       "<dl class=dl-horizontal>\n",
       "\t<dt>0</dt>\n",
       "\t\t<dd>2.92280701754386</dd>\n",
       "\t<dt>1</dt>\n",
       "\t\t<dd>4.36755646817248</dd>\n",
       "</dl>\n"
      ],
      "text/latex": [
       "\\begin{description*}\n",
       "\\item[0] 2.92280701754386\n",
       "\\item[1] 4.36755646817248\n",
       "\\end{description*}\n"
      ],
      "text/markdown": [
       "0\n",
       ":   2.922807017543861\n",
       ":   4.36755646817248\n",
       "\n"
      ],
      "text/plain": [
       "       0        1 \n",
       "2.922807 4.367556 "
      ]
     },
     "metadata": {},
     "output_type": "display_data"
    }
   ],
   "source": [
    "tapply(limited$Info.On.Internet, limited$Smartphone, mean)"
   ]
  },
  {
   "cell_type": "markdown",
   "metadata": {},
   "source": [
    "# Problem 4.6 - Relating Demographics to Polling Results\n",
    "#### Similarly use tapply to break down the Tried.Masking.Identity variable for smartphone and non-smartphone users.\n",
    "#### What proportion of smartphone users who answered the Tried.Masking.Identity question have tried masking their identity when using the Internet?"
   ]
  },
  {
   "cell_type": "code",
   "execution_count": 29,
   "metadata": {},
   "outputs": [
    {
     "data": {
      "text/html": [
       "<dl class=dl-horizontal>\n",
       "\t<dt>0</dt>\n",
       "\t\t<dd>0.117437722419929</dd>\n",
       "\t<dt>1</dt>\n",
       "\t\t<dd>0.192546583850932</dd>\n",
       "</dl>\n"
      ],
      "text/latex": [
       "\\begin{description*}\n",
       "\\item[0] 0.117437722419929\n",
       "\\item[1] 0.192546583850932\n",
       "\\end{description*}\n"
      ],
      "text/markdown": [
       "0\n",
       ":   0.1174377224199291\n",
       ":   0.192546583850932\n",
       "\n"
      ],
      "text/plain": [
       "        0         1 \n",
       "0.1174377 0.1925466 "
      ]
     },
     "metadata": {},
     "output_type": "display_data"
    }
   ],
   "source": [
    "tapply(limited$Tried.Masking.Identity, limited$Smartphone, mean, na.rm = TRUE)"
   ]
  },
  {
   "cell_type": "markdown",
   "metadata": {},
   "source": [
    "#### What proportion of non-smartphone users who answered the Tried.Masking.Identity question have tried masking their identity when using the Internet?"
   ]
  },
  {
   "cell_type": "code",
   "execution_count": 30,
   "metadata": {},
   "outputs": [
    {
     "data": {
      "text/html": [
       "<dl class=dl-horizontal>\n",
       "\t<dt>0</dt>\n",
       "\t\t<dd>0.117437722419929</dd>\n",
       "\t<dt>1</dt>\n",
       "\t\t<dd>0.192546583850932</dd>\n",
       "</dl>\n"
      ],
      "text/latex": [
       "\\begin{description*}\n",
       "\\item[0] 0.117437722419929\n",
       "\\item[1] 0.192546583850932\n",
       "\\end{description*}\n"
      ],
      "text/markdown": [
       "0\n",
       ":   0.1174377224199291\n",
       ":   0.192546583850932\n",
       "\n"
      ],
      "text/plain": [
       "        0         1 \n",
       "0.1174377 0.1925466 "
      ]
     },
     "metadata": {},
     "output_type": "display_data"
    }
   ],
   "source": [
    "tapply(limited$Tried.Masking.Identity, limited$Smartphone, mean, na.rm = TRUE)"
   ]
  }
 ],
 "metadata": {
  "kernelspec": {
   "display_name": "R",
   "language": "R",
   "name": "ir"
  },
  "language_info": {
   "codemirror_mode": "r",
   "file_extension": ".r",
   "mimetype": "text/x-r-source",
   "name": "R",
   "pygments_lexer": "r",
   "version": "3.5.1"
  }
 },
 "nbformat": 4,
 "nbformat_minor": 2
}
